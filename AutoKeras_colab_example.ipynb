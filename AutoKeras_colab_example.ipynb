{
  "nbformat": 4,
  "nbformat_minor": 0,
  "metadata": {
    "colab": {
      "name": "AutoKeras_colab_example.ipynb",
      "version": "0.3.2",
      "provenance": [],
      "collapsed_sections": [],
      "include_colab_link": true
    },
    "kernelspec": {
      "name": "python3",
      "display_name": "Python 3"
    },
    "accelerator": "GPU"
  },
  "cells": [
    {
      "cell_type": "markdown",
      "metadata": {
        "id": "view-in-github",
        "colab_type": "text"
      },
      "source": [
        "[View in Colaboratory](https://colab.research.google.com/github/danielcanueto/misc/blob/master/AutoKeras_colab_example.ipynb)"
      ]
    },
    {
      "metadata": {
        "id": "Zo9OSyaCVPoM",
        "colab_type": "code",
        "colab": {
          "base_uri": "https://localhost:8080/",
          "height": 564
        },
        "outputId": "a8bc802c-5234-42c3-fb05-a81fe3c9cd6f"
      },
      "cell_type": "code",
      "source": [
        "!pip install autokeras\n"
      ],
      "execution_count": 1,
      "outputs": [
        {
          "output_type": "stream",
          "text": [
            "Requirement already satisfied: autokeras in /usr/local/lib/python3.6/dist-packages (0.2.1)\r\n",
            "Requirement already satisfied: scikit-learn==0.19.1 in /usr/local/lib/python3.6/dist-packages (from autokeras) (0.19.1)\r\n",
            "Requirement already satisfied: tensorflow in /usr/local/lib/python3.6/dist-packages (from autokeras) (1.9.0)\r\n",
            "Collecting torch==0.4.0 (from autokeras)\n",
            "  Using cached https://files.pythonhosted.org/packages/69/43/380514bd9663f1bf708abeb359b8b48d3fabb1c8e95bb3427a980a064c57/torch-0.4.0-cp36-cp36m-manylinux1_x86_64.whl\n",
            "tcmalloc: large alloc 1073750016 bytes == 0x5af6e000 @  0x7fd3dd1111c4 0x46d6a4 0x5fcbcc 0x4c494d 0x54f3c4 0x553aaf 0x54e4c8 0x54f4f6 0x553aaf 0x54efc1 0x54f24d 0x553aaf 0x54efc1 0x54f24d 0x553aaf 0x54efc1 0x54f24d 0x551ee0 0x54e4c8 0x54f4f6 0x553aaf 0x54efc1 0x54f24d 0x551ee0 0x54efc1 0x54f24d 0x551ee0 0x54e4c8 0x54f4f6 0x553aaf 0x54e4c8\n",
            "Requirement already satisfied: torchvision==0.2.1 in /usr/local/lib/python3.6/dist-packages (from autokeras) (0.2.1)\n",
            "Requirement already satisfied: keras in /usr/local/lib/python3.6/dist-packages (from autokeras) (2.1.6)\n",
            "Requirement already satisfied: numpy==1.14.5 in /usr/local/lib/python3.6/dist-packages (from autokeras) (1.14.5)\n",
            "Requirement already satisfied: six>=1.10.0 in /usr/local/lib/python3.6/dist-packages (from tensorflow->autokeras) (1.11.0)\n",
            "Requirement already satisfied: setuptools<=39.1.0 in /usr/local/lib/python3.6/dist-packages (from tensorflow->autokeras) (39.1.0)\n",
            "Requirement already satisfied: grpcio>=1.8.6 in /usr/local/lib/python3.6/dist-packages (from tensorflow->autokeras) (1.14.0)\n",
            "Requirement already satisfied: protobuf>=3.4.0 in /usr/local/lib/python3.6/dist-packages (from tensorflow->autokeras) (3.6.0)\n",
            "Requirement already satisfied: absl-py>=0.1.6 in /usr/local/lib/python3.6/dist-packages (from tensorflow->autokeras) (0.3.0)\n",
            "Requirement already satisfied: astor>=0.6.0 in /usr/local/lib/python3.6/dist-packages (from tensorflow->autokeras) (0.7.1)\n",
            "Requirement already satisfied: termcolor>=1.1.0 in /usr/local/lib/python3.6/dist-packages (from tensorflow->autokeras) (1.1.0)\n",
            "Requirement already satisfied: gast>=0.2.0 in /usr/local/lib/python3.6/dist-packages (from tensorflow->autokeras) (0.2.0)\n",
            "Requirement already satisfied: wheel>=0.26 in /usr/local/lib/python3.6/dist-packages (from tensorflow->autokeras) (0.31.1)\n",
            "Requirement already satisfied: tensorboard<1.10.0,>=1.9.0 in /usr/local/lib/python3.6/dist-packages (from tensorflow->autokeras) (1.9.0)\n",
            "Requirement already satisfied: pillow>=4.1.1 in /usr/local/lib/python3.6/dist-packages (from torchvision==0.2.1->autokeras) (5.2.0)\n",
            "Requirement already satisfied: h5py in /usr/local/lib/python3.6/dist-packages (from keras->autokeras) (2.8.0)\n",
            "Requirement already satisfied: scipy>=0.14 in /usr/local/lib/python3.6/dist-packages (from keras->autokeras) (0.19.1)\n",
            "Requirement already satisfied: pyyaml in /usr/local/lib/python3.6/dist-packages (from keras->autokeras) (3.13)\n",
            "Requirement already satisfied: markdown>=2.6.8 in /usr/local/lib/python3.6/dist-packages (from tensorboard<1.10.0,>=1.9.0->tensorflow->autokeras) (2.6.11)\n",
            "Requirement already satisfied: werkzeug>=0.11.10 in /usr/local/lib/python3.6/dist-packages (from tensorboard<1.10.0,>=1.9.0->tensorflow->autokeras) (0.14.1)\n",
            "\u001b[31mfastai 0.7.0 has requirement torch<0.4, but you'll have torch 0.4.0 which is incompatible.\u001b[0m\n",
            "Installing collected packages: torch\n",
            "  Found existing installation: torch 0.3.1\n",
            "    Uninstalling torch-0.3.1:\n",
            "      Successfully uninstalled torch-0.3.1\n",
            "Successfully installed torch-0.4.0\n"
          ],
          "name": "stdout"
        }
      ]
    },
    {
      "metadata": {
        "id": "q0S7s_12VTyi",
        "colab_type": "code",
        "colab": {
          "base_uri": "https://localhost:8080/",
          "height": 34
        },
        "outputId": "665bc0dd-0490-4ecc-fd48-4f8908d3dee4"
      },
      "cell_type": "code",
      "source": [
        "from keras.datasets import mnist\n",
        "from autokeras.classifier import ImageClassifier\n",
        "\n",
        "(x_train, y_train), (x_test, y_test) = mnist.load_data()\n",
        "\n",
        "\n"
      ],
      "execution_count": 2,
      "outputs": [
        {
          "output_type": "stream",
          "text": [
            "Using TensorFlow backend.\n"
          ],
          "name": "stderr"
        }
      ]
    },
    {
      "metadata": {
        "id": "c2EfR2IiXOfz",
        "colab_type": "code",
        "colab": {
          "base_uri": "https://localhost:8080/",
          "height": 34
        },
        "outputId": "17f1eb0a-69d8-40bd-c49f-53abaf0a33db"
      },
      "cell_type": "code",
      "source": [
        "y_train.shape[0:1000]"
      ],
      "execution_count": 3,
      "outputs": [
        {
          "output_type": "execute_result",
          "data": {
            "text/plain": [
              "(60000,)"
            ]
          },
          "metadata": {
            "tags": []
          },
          "execution_count": 3
        }
      ]
    },
    {
      "metadata": {
        "id": "wtS8r56rWjbl",
        "colab_type": "code",
        "colab": {}
      },
      "cell_type": "code",
      "source": [
        "x_train=x_train[0:1000,:,:]\n",
        "x_test=x_test[0:1000,:,:]\n",
        "y_train=y_train[0:1000]\n",
        "y_test=y_test[0:1000]\n"
      ],
      "execution_count": 0,
      "outputs": []
    },
    {
      "metadata": {
        "id": "38JqezVoWqtc",
        "colab_type": "code",
        "colab": {}
      },
      "cell_type": "code",
      "source": [
        "x_train = x_train.reshape(x_train.shape + (1,))\n",
        "x_test = x_test.reshape(x_test.shape + (1,))"
      ],
      "execution_count": 0,
      "outputs": []
    },
    {
      "metadata": {
        "id": "RqJHwRD6WuTr",
        "colab_type": "code",
        "colab": {
          "base_uri": "https://localhost:8080/",
          "height": 34
        },
        "outputId": "3e764711-38a8-42d5-adc3-e500fb90cd8a"
      },
      "cell_type": "code",
      "source": [
        "x_test.shape"
      ],
      "execution_count": 6,
      "outputs": [
        {
          "output_type": "execute_result",
          "data": {
            "text/plain": [
              "(1000, 28, 28, 1)"
            ]
          },
          "metadata": {
            "tags": []
          },
          "execution_count": 6
        }
      ]
    },
    {
      "metadata": {
        "id": "IfUk1XuVWgpt",
        "colab_type": "code",
        "colab": {
          "base_uri": "https://localhost:8080/",
          "height": 3774
        },
        "outputId": "7fd48a41-8c11-4a80-e661-fe0917574c11"
      },
      "cell_type": "code",
      "source": [
        "clf = ImageClassifier(verbose=True, augment=False)\n",
        "clf.fit(x_train, y_train, time_limit=3 * 60)\n",
        "clf.final_fit(x_train, y_train, x_test, y_test, retrain=True)\n",
        "y = clf.evaluate(x_test, y_test)\n",
        "print(y * 100)"
      ],
      "execution_count": 7,
      "outputs": [
        {
          "output_type": "stream",
          "text": [
            "Initializing search.\n",
            "Initialization finished.\n",
            "Training model  0\n",
            "Saving model.\n",
            "Model ID: 0\n",
            "Loss: tensor(0.1757, device='cuda:0')\n",
            "Accuracy 95.71428571428572\n",
            "Training model  1\n",
            "Father ID:  0\n",
            "[('to_wider_model', 1, 64)]\n",
            "Saving model.\n",
            "Model ID: 1\n",
            "Loss: tensor(0.1585, device='cuda:0')\n",
            "Accuracy 98.33333333333333\n",
            "Training model  2\n",
            "Father ID:  1\n",
            "[('to_wider_model', 11, 64)]\n",
            "Saving model.\n",
            "Model ID: 2\n",
            "Loss: tensor(0.1775, device='cuda:0')\n",
            "Accuracy 96.66666666666666\n",
            "Training model  3\n",
            "Father ID:  0\n",
            "[('to_wider_model', 6, 64)]\n",
            "Saving model.\n",
            "Model ID: 3\n",
            "Loss: tensor(0.1838, device='cuda:0')\n",
            "Accuracy 97.85714285714286\n",
            "Training model  4\n",
            "Father ID:  3\n",
            "[('to_wider_model', 1, 64)]\n",
            "Saving model.\n",
            "Model ID: 4\n",
            "Loss: tensor(0.1781, device='cuda:0')\n",
            "Accuracy 96.90476190476191\n",
            "Training model  5\n",
            "Father ID:  2\n",
            "[('to_wider_model', 6, 64)]\n",
            "Saving model.\n",
            "Model ID: 5\n",
            "Loss: tensor(0.2226, device='cuda:0')\n",
            "Accuracy 97.38095238095238\n",
            "Training model  6\n",
            "Father ID:  2\n",
            "[('to_wider_model', 1, 128)]\n",
            "Saving model.\n",
            "Model ID: 6\n",
            "Loss: tensor(0.2060, device='cuda:0')\n",
            "Accuracy 96.66666666666667\n",
            "Training model  7\n",
            "Father ID:  5\n",
            "[('to_wider_model', 27, 64)]\n",
            "Saving model.\n",
            "Model ID: 7\n",
            "Loss: tensor(0.1933, device='cuda:0')\n",
            "Accuracy 96.9047619047619\n",
            "Training model  8\n",
            "Father ID:  0\n",
            "[('to_add_skip_model', 1, 6), ('to_wider_model', 1, 64)]\n",
            "Saving model.\n",
            "Model ID: 8\n",
            "Loss: tensor(0.2237, device='cuda:0')\n",
            "Accuracy 98.0952380952381\n",
            "Training model  9\n",
            "Father ID:  0\n",
            "[('to_conv_deeper_model', 1, 5), ('to_wider_model', 19, 64)]\n",
            "Saving model.\n",
            "Model ID: 9\n",
            "Loss: tensor(0.1710, device='cuda:0')\n",
            "Accuracy 96.42857142857143\n",
            "Training model  10\n",
            "Father ID:  0\n",
            "[('to_add_skip_model', 1, 6)]\n",
            "Saving model.\n",
            "Model ID: 10\n",
            "Loss: tensor(0.1607, device='cuda:0')\n",
            "Accuracy 97.14285714285715\n",
            "Training model  11\n",
            "Father ID:  0\n",
            "[('to_conv_deeper_model', 6, 3), ('to_wider_model', 19, 64), ('to_wider_model', 1, 64)]\n",
            "Saving model.\n",
            "Model ID: 11\n",
            "Loss: tensor(0.1660, device='cuda:0')\n",
            "Accuracy 96.90476190476191\n",
            "Training model  12\n",
            "Father ID:  0\n",
            "[('to_conv_deeper_model', 11, 5), ('to_wider_model', 1, 64), ('to_wider_model', 6, 64)]\n",
            "Saving model.\n",
            "Model ID: 12\n",
            "Loss: tensor(0.1630, device='cuda:0')\n",
            "Accuracy 97.14285714285714\n",
            "Training model  13\n",
            "Father ID:  0\n",
            "[('to_conv_deeper_model', 11, 5), ('to_wider_model', 1, 64)]\n",
            "Saving model.\n",
            "Model ID: 13\n",
            "Loss: tensor(0.2756, device='cuda:0')\n",
            "Accuracy 95.95238095238095\n",
            "Training model  14\n"
          ],
          "name": "stdout"
        },
        {
          "output_type": "stream",
          "text": [
            "/usr/local/lib/python3.6/dist-packages/autokeras/bayesian.py:141: UserWarning: Predicted variances smaller than 0. Setting those variances to 0.\n",
            "  warnings.warn(\"Predicted variances smaller than 0. \"\n"
          ],
          "name": "stderr"
        },
        {
          "output_type": "stream",
          "text": [
            "Father ID:  0\n",
            "[('to_conv_deeper_model', 11, 3), ('to_wider_model', 11, 64), ('to_wider_model', 6, 64)]\n",
            "Saving model.\n",
            "Model ID: 14\n",
            "Loss: tensor(0.2402, device='cuda:0')\n",
            "Accuracy 96.9047619047619\n",
            "Training model  15\n"
          ],
          "name": "stdout"
        },
        {
          "output_type": "stream",
          "text": [
            "/usr/local/lib/python3.6/dist-packages/autokeras/bayesian.py:89: RuntimeWarning: overflow encountered in exp\n",
            "  self._k_matrix = 1.0 / np.exp(self._distance_matrix)\n"
          ],
          "name": "stderr"
        },
        {
          "output_type": "stream",
          "text": [
            "Father ID:  0\n",
            "[('to_conv_deeper_model', 11, 3)]\n",
            "Saving model.\n",
            "Model ID: 15\n",
            "Loss: tensor(0.2252, device='cuda:0')\n",
            "Accuracy 96.66666666666667\n",
            "Training model  16\n",
            "Father ID:  13\n",
            "[('to_wider_model', 11, 64)]\n",
            "Saving model.\n",
            "Model ID: 16\n",
            "Loss: tensor(0.2776, device='cuda:0')\n",
            "Accuracy 95.0\n",
            ".\n",
            "Epoch 1: loss 18.36208724975586, accuracy 12.6\n",
            ".\n",
            "Epoch 2: loss 17.88040542602539, accuracy 12.6\n",
            ".\n",
            "Epoch 3: loss 13.327645301818848, accuracy 42.6\n",
            ".\n",
            "Epoch 4: loss 7.467297554016113, accuracy 72.4\n",
            ".\n",
            "Epoch 5: loss 4.951141834259033, accuracy 82.5\n",
            ".\n",
            "Epoch 6: loss 3.6874101161956787, accuracy 86.7\n",
            ".\n",
            "Epoch 7: loss 3.406191349029541, accuracy 86.8\n",
            ".\n",
            "Epoch 8: loss 2.586168050765991, accuracy 90.2\n",
            ".\n",
            "Epoch 9: loss 2.306507110595703, accuracy 91.6\n",
            ".\n",
            "Epoch 10: loss 1.981792688369751, accuracy 92.0\n",
            ".\n",
            "Epoch 11: loss 1.8216028213500977, accuracy 93.5\n",
            ".\n",
            "Epoch 12: loss 1.74251127243042, accuracy 94.0\n",
            ".\n",
            "Epoch 13: loss 1.604846715927124, accuracy 93.9\n",
            ".\n",
            "Epoch 14: loss 1.5524582862854004, accuracy 94.5\n",
            ".\n",
            "Epoch 15: loss 1.3942475318908691, accuracy 95.0\n",
            ".\n",
            "Epoch 16: loss 1.433146357536316, accuracy 94.8\n",
            ".\n",
            "Epoch 17: loss 1.4063551425933838, accuracy 94.9\n",
            ".\n",
            "Epoch 18: loss 1.3794047832489014, accuracy 94.9\n",
            ".\n",
            "Epoch 19: loss 1.2984216213226318, accuracy 94.5\n",
            ".\n",
            "Epoch 20: loss 1.2706612348556519, accuracy 94.8\n",
            ".\n",
            "Epoch 21: loss 1.207831621170044, accuracy 95.3\n",
            ".\n",
            "Epoch 22: loss 1.1095457077026367, accuracy 96.1\n",
            ".\n",
            "Epoch 23: loss 1.1973050832748413, accuracy 95.4\n",
            ".\n",
            "Epoch 24: loss 1.1817376613616943, accuracy 95.1\n",
            ".\n",
            "Epoch 25: loss 1.1487032175064087, accuracy 95.6\n",
            ".\n",
            "Epoch 26: loss 1.054761290550232, accuracy 96.3\n",
            ".\n",
            "Epoch 27: loss 1.1226133108139038, accuracy 95.6\n",
            ".\n",
            "Epoch 28: loss 1.1598966121673584, accuracy 95.4\n",
            ".\n",
            "Epoch 29: loss 1.077254056930542, accuracy 95.9\n",
            ".\n",
            "Epoch 30: loss 1.0414365530014038, accuracy 95.5\n",
            ".\n",
            "Epoch 31: loss 1.1208120584487915, accuracy 95.4\n",
            ".\n",
            "Epoch 32: loss 1.1337761878967285, accuracy 95.5\n",
            ".\n",
            "Epoch 33: loss 1.0756847858428955, accuracy 96.0\n",
            ".\n",
            "Epoch 34: loss 1.070307970046997, accuracy 96.1\n",
            ".\n",
            "Epoch 35: loss 1.0231900215148926, accuracy 95.7\n",
            ".\n",
            "Epoch 36: loss 1.0539910793304443, accuracy 95.9\n",
            ".\n",
            "Epoch 37: loss 1.0426563024520874, accuracy 96.1\n",
            ".\n",
            "Epoch 38: loss 1.0905957221984863, accuracy 95.8\n",
            ".\n",
            "Epoch 39: loss 0.9969481229782104, accuracy 96.9\n",
            ".\n",
            "Epoch 40: loss 0.9841355085372925, accuracy 96.3\n",
            ".\n",
            "Epoch 41: loss 0.9734598994255066, accuracy 95.9\n",
            ".\n",
            "Epoch 42: loss 1.0209747552871704, accuracy 96.0\n",
            ".\n",
            "Epoch 43: loss 1.0229941606521606, accuracy 96.1\n",
            ".\n",
            "Epoch 44: loss 1.0792697668075562, accuracy 96.0\n",
            ".\n",
            "Epoch 45: loss 1.0763493776321411, accuracy 95.7\n",
            ".\n",
            "Epoch 46: loss 0.9841852784156799, accuracy 95.9\n",
            ".\n",
            "Epoch 47: loss 0.9782767295837402, accuracy 96.1\n",
            ".\n",
            "Epoch 48: loss 1.0593936443328857, accuracy 96.1\n",
            "No loss decrease after 5 epochs\n",
            "96.0\n"
          ],
          "name": "stdout"
        }
      ]
    }
  ]
}