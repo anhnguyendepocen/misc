{
 "cells": [
  {
   "cell_type": "markdown",
   "metadata": {},
   "source": [
    "# Automatic row selection during model training"
   ]
  },
  {
   "cell_type": "markdown",
   "metadata": {},
   "source": [
    "## Introduction to the problem"
   ]
  },
  {
   "cell_type": "markdown",
   "metadata": {},
   "source": [
    "*A lot of time is spent during model training engineering and selecting features. \n",
    "\n",
    "*However, in a dataset there can be not only column-wise noise but also row-wise noise. There can be rows where the information collected is of bad quality and they can worsen the model trained through forcing the model to overfit the noise to reduce the error. This overfitting creates less generalizable models.\n",
    "\n",
    "*It is good to have as much data as possible but it is also  necessary to find the right balance between amount and quality of data. There are some methods to preprocess data to reduce this noise or to find rows behaving as outliers (and then should be removed). However, these methods would need the onehot encoding of categorical data (with its caveats) and they seem not to be usable in non-tabular data (e.g. for image selection).\n",
    "\n",
    "*Some methods of feature selection are based on achieving information during model training to decide which features to keep or not. However, as far as I am concerned, there are no methods to try to take advantage in an automatic manner of the information collected during model training. Probably this is caused by the lack of reliability of the residuals found during model training (because of the overfitting of noise).\n",
    "\n",
    "*However, if one performs bootstrapping during model training and saves the predictions, one can analyze in which rows the prediction will be of worse quality. If for all bootstrap iterations the prediction was of bad quality, this will be an indicator that the prediction is failing not because of the bad model quality but because thsi row does not behave  as most other ones. Hence, this row is noisy and its removal might benefit the quality of the models achieved."
   ]
  },
  {
   "cell_type": "code",
   "execution_count": 1,
   "metadata": {},
   "outputs": [
    {
     "name": "stderr",
     "output_type": "stream",
     "text": [
      "Loading required package: lattice\n",
      "Loading required package: ggplot2\n",
      "\n",
      "Attaching package: 'dplyr'\n",
      "\n",
      "The following objects are masked from 'package:stats':\n",
      "\n",
      "    filter, lag\n",
      "\n",
      "The following objects are masked from 'package:base':\n",
      "\n",
      "    intersect, setdiff, setequal, union\n",
      "\n"
     ]
    }
   ],
   "source": [
    "library(caret)\n",
    "library(mlbench)\n",
    "library(dplyr)\n",
    "data(BostonHousing)"
   ]
  },
  {
   "cell_type": "markdown",
   "metadata": {},
   "source": [
    "Creation of training split."
   ]
  },
  {
   "cell_type": "code",
   "execution_count": 2,
   "metadata": {},
   "outputs": [],
   "source": [
    "set.seed(1);train_ind=createDataPartition(BostonHousing$medv, p=0.75)[[1]]\n"
   ]
  },
  {
   "cell_type": "markdown",
   "metadata": {},
   "source": [
    "Training of model with .632 bootstrap with 1000 iterations, saving all predictions."
   ]
  },
  {
   "cell_type": "code",
   "execution_count": 3,
   "metadata": {},
   "outputs": [],
   "source": [
    "set.seed(1);model <- train(medv ~ . ,\n",
    "               data = BostonHousing[train_ind,],\n",
    "               preProcess = c(\"center\", \"scale\"),\n",
    "               method = \"lasso\",\n",
    "               metric=\"MAE\",\n",
    "               tuneLength = 10,\n",
    "               trControl = trainControl(method = \"boot632\",number=1000,\n",
    "                                        savePredictions = \"all\"))"
   ]
  },
  {
   "cell_type": "code",
   "execution_count": 61,
   "metadata": {},
   "outputs": [
    {
     "data": {
      "text/html": [
       "3.39731212927178"
      ],
      "text/latex": [
       "3.39731212927178"
      ],
      "text/markdown": [
       "3.39731212927178"
      ],
      "text/plain": [
       "[1] 3.397312"
      ]
     },
     "metadata": {},
     "output_type": "display_data"
    }
   ],
   "source": [
    "MAE(pred = predict(model,BostonHousing[-train_ind,]),obs=BostonHousing$medv[-train_ind])"
   ]
  },
  {
   "cell_type": "markdown",
   "metadata": {},
   "source": [
    "# Row selection according to bootstrapping information"
   ]
  },
  {
   "cell_type": "markdown",
   "metadata": {},
   "source": [
    "* In each the bootstrap iteration during model training, a subset of rows is selected to predict in the other subset of rows.\n",
    "\n",
    "* Theoretically, trained models during each bootstrapping iteration should be highly similar as they are analyzing similar information. If there are rows where the error estimated during prediction tends to be high, it is probable that the error is not caused by the model but by the noise present in the data in the row.\n",
    "\n",
    "* Removing rows with high error during prediction might improve models. Less noise is present in the training data then model optimization can focus better on the right weighting of the informative features and can avoid the overfititng of noise. As aresult, the models trained can be more generalizable to test data."
   ]
  },
  {
   "cell_type": "markdown",
   "metadata": {},
   "source": [
    "1. Calculation of residual between predicted and observed value during all bootstrapping iterations.\n",
    "2. Calculation of mean residual for each row."
   ]
  },
  {
   "cell_type": "code",
   "execution_count": 8,
   "metadata": {},
   "outputs": [
    {
     "data": {
      "text/plain": [
       "    rowIndex        mean               sd        \n",
       " Min.   :  1   Min.   : 0.5519   Min.   :0.3891  \n",
       " 1st Qu.: 96   1st Qu.: 1.6584   1st Qu.:0.8293  \n",
       " Median :191   Median : 2.6968   Median :1.3508  \n",
       " Mean   :191   Mean   : 3.9218   Mean   :1.6558  \n",
       " 3rd Qu.:286   3rd Qu.: 4.5555   3rd Qu.:2.0971  \n",
       " Max.   :381   Max.   :29.5058   Max.   :6.2696  "
      ]
     },
     "metadata": {},
     "output_type": "display_data"
    }
   ],
   "source": [
    "model$pred$MAE=abs(model$pred$pred-model$pred$obs)\n",
    "\n",
    "bootstrap_residual_stats = model$pred %>%\n",
    "group_by(rowIndex) %>%\n",
    "summarise(mean = mean(MAE,na.rm=T),sd=sd(MAE,na.rm=T))\n",
    "summary(bootstrap_residual_stats)"
   ]
  },
  {
   "cell_type": "markdown",
   "metadata": {},
   "source": [
    "Function which estimates MAE in test split depending on the rows selected."
   ]
  },
  {
   "cell_type": "code",
   "execution_count": 67,
   "metadata": {},
   "outputs": [],
   "source": [
    "fr <- function(x) {\n",
    "   set.seed(1);model=train(medv ~ . ,\n",
    "                             data = BostonHousing[train_ind,][error_order[1:x],],\n",
    "                             preProcess = c(\"center\", \"scale\"),\n",
    "                             method = \"lasso\",\n",
    "                             metric=\"MAE\",\n",
    "                             tuneLength = 10,\n",
    "                             trControl = trainControl(method = \"boot632\",\n",
    "                                                      savePredictions = \"all\"))\n",
    "  MAE(pred = predict(model,BostonHousing[-train_ind,]),obs=BostonHousing$medv[-train_ind])\n",
    "  \n",
    "}\n"
   ]
  },
  {
   "cell_type": "markdown",
   "metadata": {},
   "source": [
    "Preparation of sequence of number of rows to use during model training."
   ]
  },
  {
   "cell_type": "code",
   "execution_count": 9,
   "metadata": {},
   "outputs": [],
   "source": [
    "no_rows_sequence=seq(length(train_ind),length(train_ind)-100,-5)"
   ]
  },
  {
   "cell_type": "markdown",
   "metadata": {},
   "source": [
    "1. Ordering of rows depending on MAE calculated for each row in bootstrap iterations.\n",
    "2. Calculation of MAE in test split depending on number of rows selected."
   ]
  },
  {
   "cell_type": "code",
   "execution_count": 10,
   "metadata": {},
   "outputs": [
    {
     "data": {
      "text/html": [
       "<table>\n",
       "<thead><tr><th scope=col>no_rows_sequence</th><th scope=col>res_bootstrap</th></tr></thead>\n",
       "<tbody>\n",
       "\t<tr><td>381     </td><td>3.416829</td></tr>\n",
       "\t<tr><td>376     </td><td>3.221369</td></tr>\n",
       "\t<tr><td>371     </td><td>3.163316</td></tr>\n",
       "\t<tr><td>366     </td><td>3.150572</td></tr>\n",
       "\t<tr><td>361     </td><td>3.137695</td></tr>\n",
       "\t<tr><td>356     </td><td>3.169770</td></tr>\n",
       "\t<tr><td>351     </td><td>3.157869</td></tr>\n",
       "\t<tr><td>346     </td><td>3.160220</td></tr>\n",
       "\t<tr><td>341     </td><td>3.194731</td></tr>\n",
       "\t<tr><td>336     </td><td>3.174838</td></tr>\n",
       "\t<tr><td>331     </td><td>3.212522</td></tr>\n",
       "\t<tr><td>326     </td><td>3.220899</td></tr>\n",
       "\t<tr><td>321     </td><td>3.271510</td></tr>\n",
       "\t<tr><td>316     </td><td>3.275932</td></tr>\n",
       "\t<tr><td>311     </td><td>3.273184</td></tr>\n",
       "\t<tr><td>306     </td><td>3.275781</td></tr>\n",
       "\t<tr><td>301     </td><td>3.250429</td></tr>\n",
       "\t<tr><td>296     </td><td>3.223305</td></tr>\n",
       "\t<tr><td>291     </td><td>3.198713</td></tr>\n",
       "\t<tr><td>286     </td><td>3.190635</td></tr>\n",
       "\t<tr><td>281     </td><td>3.181345</td></tr>\n",
       "</tbody>\n",
       "</table>\n"
      ],
      "text/latex": [
       "\\begin{tabular}{ll}\n",
       " no\\_rows\\_sequence & res\\_bootstrap\\\\\n",
       "\\hline\n",
       "\t 381      & 3.416829\\\\\n",
       "\t 376      & 3.221369\\\\\n",
       "\t 371      & 3.163316\\\\\n",
       "\t 366      & 3.150572\\\\\n",
       "\t 361      & 3.137695\\\\\n",
       "\t 356      & 3.169770\\\\\n",
       "\t 351      & 3.157869\\\\\n",
       "\t 346      & 3.160220\\\\\n",
       "\t 341      & 3.194731\\\\\n",
       "\t 336      & 3.174838\\\\\n",
       "\t 331      & 3.212522\\\\\n",
       "\t 326      & 3.220899\\\\\n",
       "\t 321      & 3.271510\\\\\n",
       "\t 316      & 3.275932\\\\\n",
       "\t 311      & 3.273184\\\\\n",
       "\t 306      & 3.275781\\\\\n",
       "\t 301      & 3.250429\\\\\n",
       "\t 296      & 3.223305\\\\\n",
       "\t 291      & 3.198713\\\\\n",
       "\t 286      & 3.190635\\\\\n",
       "\t 281      & 3.181345\\\\\n",
       "\\end{tabular}\n"
      ],
      "text/markdown": [
       "\n",
       "no_rows_sequence | res_bootstrap | \n",
       "|---|---|---|---|---|---|---|---|---|---|---|---|---|---|---|---|---|---|---|---|---|\n",
       "| 381      | 3.416829 | \n",
       "| 376      | 3.221369 | \n",
       "| 371      | 3.163316 | \n",
       "| 366      | 3.150572 | \n",
       "| 361      | 3.137695 | \n",
       "| 356      | 3.169770 | \n",
       "| 351      | 3.157869 | \n",
       "| 346      | 3.160220 | \n",
       "| 341      | 3.194731 | \n",
       "| 336      | 3.174838 | \n",
       "| 331      | 3.212522 | \n",
       "| 326      | 3.220899 | \n",
       "| 321      | 3.271510 | \n",
       "| 316      | 3.275932 | \n",
       "| 311      | 3.273184 | \n",
       "| 306      | 3.275781 | \n",
       "| 301      | 3.250429 | \n",
       "| 296      | 3.223305 | \n",
       "| 291      | 3.198713 | \n",
       "| 286      | 3.190635 | \n",
       "| 281      | 3.181345 | \n",
       "\n",
       "\n"
      ],
      "text/plain": [
       "      no_rows_sequence res_bootstrap\n",
       " [1,] 381              3.416829     \n",
       " [2,] 376              3.221369     \n",
       " [3,] 371              3.163316     \n",
       " [4,] 366              3.150572     \n",
       " [5,] 361              3.137695     \n",
       " [6,] 356              3.169770     \n",
       " [7,] 351              3.157869     \n",
       " [8,] 346              3.160220     \n",
       " [9,] 341              3.194731     \n",
       "[10,] 336              3.174838     \n",
       "[11,] 331              3.212522     \n",
       "[12,] 326              3.220899     \n",
       "[13,] 321              3.271510     \n",
       "[14,] 316              3.275932     \n",
       "[15,] 311              3.273184     \n",
       "[16,] 306              3.275781     \n",
       "[17,] 301              3.250429     \n",
       "[18,] 296              3.223305     \n",
       "[19,] 291              3.198713     \n",
       "[20,] 286              3.190635     \n",
       "[21,] 281              3.181345     "
      ]
     },
     "metadata": {},
     "output_type": "display_data"
    }
   ],
   "source": [
    "error_order=order(bootstrap_residual_stats$mean)\n",
    "res_bootstrap=sapply(no_rows_sequence,fr)\n",
    "cbind(no_rows_sequence,res_bootstrap)"
   ]
  },
  {
   "cell_type": "markdown",
   "metadata": {},
   "source": [
    "We can see there is a sharp decrease in the MAE in the testing after removing some specific rows in the training dataset according to the inforation achieved during model bootstrap. Best results seem to appear when 20 rows are removed."
   ]
  },
  {
   "cell_type": "markdown",
   "metadata": {},
   "source": [
    "# Row selection according to standard methods of multivariate outlier detection"
   ]
  },
  {
   "cell_type": "markdown",
   "metadata": {},
   "source": [
    "* Usually, outlier detection is performed through exhausitve EDA through e.g. PCA methods or analysis between variables.\n",
    "\n",
    "* There are some methods to analyze distances between rows and distances from a reference. With these methods, one can find rows behaving as outliers which should be removed from the dataset. We will try to detect rows rto remove throug hthe Mahalanobis distance and the mean KNN distance."
   ]
  },
  {
   "cell_type": "markdown",
   "metadata": {},
   "source": [
    "One hot encoding of training_data and removal of highly correlated features (which would distort the distance data)."
   ]
  },
  {
   "cell_type": "code",
   "execution_count": 11,
   "metadata": {},
   "outputs": [],
   "source": [
    "scaled_onehot_BostonHousing=scale(predict(onehot::onehot(BostonHousing[train_ind,]),BostonHousing[train_ind,]))\n",
    "highlyCorrelated=findCorrelation(abs(cor(scaled_onehot_BostonHousing)))\n"
   ]
  },
  {
   "cell_type": "markdown",
   "metadata": {},
   "source": [
    "1. Calculation of mean distance from 10 nearest neighbors.\n",
    "2. Ordering of rows depending on mean KNN distance.\n",
    "3. Calculation of MAE in test split depending on number of rows selected."
   ]
  },
  {
   "cell_type": "code",
   "execution_count": 12,
   "metadata": {},
   "outputs": [
    {
     "data": {
      "text/plain": [
       "   Min. 1st Qu.  Median    Mean 3rd Qu.    Max. \n",
       " 0.6578  1.0080  1.3051  1.5032  1.6770  7.2843 "
      ]
     },
     "metadata": {},
     "output_type": "display_data"
    },
    {
     "name": "stderr",
     "output_type": "stream",
     "text": [
      "Warning message in preProcess.default(thresh = 0.95, k = 5, freqCut = 19, uniqueCut = 10, :\n",
      "\"These variables have zero variances: chas1\"Warning message:\n",
      "\"model fit failed for Resample10: fraction=0.9 Error in elasticnet::enet(as.matrix(x), y, lambda = 0, ...) : \n",
      "  Some of the columns of x have zero variance\n",
      "\"Warning message in preProcess.default(thresh = 0.95, k = 5, freqCut = 19, uniqueCut = 10, :\n",
      "\"These variables have zero variances: chas1\"Warning message:\n",
      "\"model fit failed for Resample15: fraction=0.9 Error in elasticnet::enet(as.matrix(x), y, lambda = 0, ...) : \n",
      "  Some of the columns of x have zero variance\n",
      "\"Warning message in nominalTrainWorkflow(x = x, y = y, wts = weights, info = trainInfo, :\n",
      "\"There were missing values in resampled performance measures.\"Warning message in preProcess.default(thresh = 0.95, k = 5, freqCut = 19, uniqueCut = 10, :\n",
      "\"These variables have zero variances: chas1\"Warning message:\n",
      "\"model fit failed for Resample02: fraction=0.9 Error in elasticnet::enet(as.matrix(x), y, lambda = 0, ...) : \n",
      "  Some of the columns of x have zero variance\n",
      "\"Warning message in preProcess.default(thresh = 0.95, k = 5, freqCut = 19, uniqueCut = 10, :\n",
      "\"These variables have zero variances: chas1\"Warning message:\n",
      "\"model fit failed for Resample07: fraction=0.9 Error in elasticnet::enet(as.matrix(x), y, lambda = 0, ...) : \n",
      "  Some of the columns of x have zero variance\n",
      "\"Warning message in preProcess.default(thresh = 0.95, k = 5, freqCut = 19, uniqueCut = 10, :\n",
      "\"These variables have zero variances: chas1\"Warning message:\n",
      "\"model fit failed for Resample18: fraction=0.9 Error in elasticnet::enet(as.matrix(x), y, lambda = 0, ...) : \n",
      "  Some of the columns of x have zero variance\n",
      "\"Warning message in nominalTrainWorkflow(x = x, y = y, wts = weights, info = trainInfo, :\n",
      "\"There were missing values in resampled performance measures.\"Warning message in preProcess.default(thresh = 0.95, k = 5, freqCut = 19, uniqueCut = 10, :\n",
      "\"These variables have zero variances: chas1\"Warning message:\n",
      "\"model fit failed for Resample03: fraction=0.9 Error in elasticnet::enet(as.matrix(x), y, lambda = 0, ...) : \n",
      "  Some of the columns of x have zero variance\n",
      "\"Warning message in preProcess.default(thresh = 0.95, k = 5, freqCut = 19, uniqueCut = 10, :\n",
      "\"These variables have zero variances: chas1\"Warning message:\n",
      "\"model fit failed for Resample05: fraction=0.9 Error in elasticnet::enet(as.matrix(x), y, lambda = 0, ...) : \n",
      "  Some of the columns of x have zero variance\n",
      "\"Warning message in preProcess.default(thresh = 0.95, k = 5, freqCut = 19, uniqueCut = 10, :\n",
      "\"These variables have zero variances: chas1\"Warning message:\n",
      "\"model fit failed for Resample09: fraction=0.9 Error in elasticnet::enet(as.matrix(x), y, lambda = 0, ...) : \n",
      "  Some of the columns of x have zero variance\n",
      "\"Warning message in preProcess.default(thresh = 0.95, k = 5, freqCut = 19, uniqueCut = 10, :\n",
      "\"These variables have zero variances: chas1\"Warning message:\n",
      "\"model fit failed for Resample12: fraction=0.9 Error in elasticnet::enet(as.matrix(x), y, lambda = 0, ...) : \n",
      "  Some of the columns of x have zero variance\n",
      "\"Warning message in preProcess.default(thresh = 0.95, k = 5, freqCut = 19, uniqueCut = 10, :\n",
      "\"These variables have zero variances: chas1\"Warning message:\n",
      "\"model fit failed for Resample13: fraction=0.9 Error in elasticnet::enet(as.matrix(x), y, lambda = 0, ...) : \n",
      "  Some of the columns of x have zero variance\n",
      "\"Warning message in preProcess.default(thresh = 0.95, k = 5, freqCut = 19, uniqueCut = 10, :\n",
      "\"These variables have zero variances: chas1\"Warning message:\n",
      "\"model fit failed for Resample16: fraction=0.9 Error in elasticnet::enet(as.matrix(x), y, lambda = 0, ...) : \n",
      "  Some of the columns of x have zero variance\n",
      "\"Warning message in preProcess.default(thresh = 0.95, k = 5, freqCut = 19, uniqueCut = 10, :\n",
      "\"These variables have zero variances: chas1\"Warning message:\n",
      "\"model fit failed for Resample20: fraction=0.9 Error in elasticnet::enet(as.matrix(x), y, lambda = 0, ...) : \n",
      "  Some of the columns of x have zero variance\n",
      "\"Warning message in nominalTrainWorkflow(x = x, y = y, wts = weights, info = trainInfo, :\n",
      "\"There were missing values in resampled performance measures.\""
     ]
    },
    {
     "data": {
      "text/html": [
       "<table>\n",
       "<thead><tr><th scope=col>no_rows_sequence</th><th scope=col>res_knn</th></tr></thead>\n",
       "<tbody>\n",
       "\t<tr><td>381     </td><td>3.416829</td></tr>\n",
       "\t<tr><td>376     </td><td>3.475625</td></tr>\n",
       "\t<tr><td>371     </td><td>3.416170</td></tr>\n",
       "\t<tr><td>366     </td><td>3.213418</td></tr>\n",
       "\t<tr><td>361     </td><td>3.268428</td></tr>\n",
       "\t<tr><td>356     </td><td>3.291295</td></tr>\n",
       "\t<tr><td>351     </td><td>3.196163</td></tr>\n",
       "\t<tr><td>346     </td><td>3.165573</td></tr>\n",
       "\t<tr><td>341     </td><td>3.205642</td></tr>\n",
       "\t<tr><td>336     </td><td>3.235552</td></tr>\n",
       "\t<tr><td>331     </td><td>3.340914</td></tr>\n",
       "\t<tr><td>326     </td><td>3.346290</td></tr>\n",
       "\t<tr><td>321     </td><td>3.312502</td></tr>\n",
       "\t<tr><td>316     </td><td>3.282141</td></tr>\n",
       "\t<tr><td>311     </td><td>3.431416</td></tr>\n",
       "\t<tr><td>306     </td><td>3.403803</td></tr>\n",
       "\t<tr><td>301     </td><td>3.404091</td></tr>\n",
       "\t<tr><td>296     </td><td>3.395135</td></tr>\n",
       "\t<tr><td>291     </td><td>3.508065</td></tr>\n",
       "\t<tr><td>286     </td><td>3.511814</td></tr>\n",
       "\t<tr><td>281     </td><td>3.489136</td></tr>\n",
       "</tbody>\n",
       "</table>\n"
      ],
      "text/latex": [
       "\\begin{tabular}{ll}\n",
       " no\\_rows\\_sequence & res\\_knn\\\\\n",
       "\\hline\n",
       "\t 381      & 3.416829\\\\\n",
       "\t 376      & 3.475625\\\\\n",
       "\t 371      & 3.416170\\\\\n",
       "\t 366      & 3.213418\\\\\n",
       "\t 361      & 3.268428\\\\\n",
       "\t 356      & 3.291295\\\\\n",
       "\t 351      & 3.196163\\\\\n",
       "\t 346      & 3.165573\\\\\n",
       "\t 341      & 3.205642\\\\\n",
       "\t 336      & 3.235552\\\\\n",
       "\t 331      & 3.340914\\\\\n",
       "\t 326      & 3.346290\\\\\n",
       "\t 321      & 3.312502\\\\\n",
       "\t 316      & 3.282141\\\\\n",
       "\t 311      & 3.431416\\\\\n",
       "\t 306      & 3.403803\\\\\n",
       "\t 301      & 3.404091\\\\\n",
       "\t 296      & 3.395135\\\\\n",
       "\t 291      & 3.508065\\\\\n",
       "\t 286      & 3.511814\\\\\n",
       "\t 281      & 3.489136\\\\\n",
       "\\end{tabular}\n"
      ],
      "text/markdown": [
       "\n",
       "no_rows_sequence | res_knn | \n",
       "|---|---|---|---|---|---|---|---|---|---|---|---|---|---|---|---|---|---|---|---|---|\n",
       "| 381      | 3.416829 | \n",
       "| 376      | 3.475625 | \n",
       "| 371      | 3.416170 | \n",
       "| 366      | 3.213418 | \n",
       "| 361      | 3.268428 | \n",
       "| 356      | 3.291295 | \n",
       "| 351      | 3.196163 | \n",
       "| 346      | 3.165573 | \n",
       "| 341      | 3.205642 | \n",
       "| 336      | 3.235552 | \n",
       "| 331      | 3.340914 | \n",
       "| 326      | 3.346290 | \n",
       "| 321      | 3.312502 | \n",
       "| 316      | 3.282141 | \n",
       "| 311      | 3.431416 | \n",
       "| 306      | 3.403803 | \n",
       "| 301      | 3.404091 | \n",
       "| 296      | 3.395135 | \n",
       "| 291      | 3.508065 | \n",
       "| 286      | 3.511814 | \n",
       "| 281      | 3.489136 | \n",
       "\n",
       "\n"
      ],
      "text/plain": [
       "      no_rows_sequence res_knn \n",
       " [1,] 381              3.416829\n",
       " [2,] 376              3.475625\n",
       " [3,] 371              3.416170\n",
       " [4,] 366              3.213418\n",
       " [5,] 361              3.268428\n",
       " [6,] 356              3.291295\n",
       " [7,] 351              3.196163\n",
       " [8,] 346              3.165573\n",
       " [9,] 341              3.205642\n",
       "[10,] 336              3.235552\n",
       "[11,] 331              3.340914\n",
       "[12,] 326              3.346290\n",
       "[13,] 321              3.312502\n",
       "[14,] 316              3.282141\n",
       "[15,] 311              3.431416\n",
       "[16,] 306              3.403803\n",
       "[17,] 301              3.404091\n",
       "[18,] 296              3.395135\n",
       "[19,] 291              3.508065\n",
       "[20,] 286              3.511814\n",
       "[21,] 281              3.489136"
      ]
     },
     "metadata": {},
     "output_type": "display_data"
    }
   ],
   "source": [
    "mean_knn_10_dist=rowMeans(FNN::knn.dist(scaled_onehot_BostonHousing[,-highlyCorrelated]))\n",
    "summary(mean_knn_10_dist)\n",
    "\n",
    "error_order=order(mean_knn_10_dist)\n",
    "res_knn=sapply(no_rows_sequence,fr)\n",
    "cbind(no_rows_sequence,res_knn)"
   ]
  },
  {
   "cell_type": "markdown",
   "metadata": {},
   "source": [
    "1. Calculation of Mahalanobis distance.\n",
    "2. Ordering of rows depending on Mahalanobis distance.\n",
    "3. Calculation of MAE in test split depending on number of rows selected."
   ]
  },
  {
   "cell_type": "code",
   "execution_count": 18,
   "metadata": {},
   "outputs": [
    {
     "data": {
      "text/plain": [
       "   Min. 1st Qu.  Median    Mean 3rd Qu.    Max. \n",
       "  1.394   6.371  10.176  12.966  15.851 157.546 "
      ]
     },
     "metadata": {},
     "output_type": "display_data"
    },
    {
     "name": "stderr",
     "output_type": "stream",
     "text": [
      "Warning message in preProcess.default(thresh = 0.95, k = 5, freqCut = 19, uniqueCut = 10, :\n",
      "\"These variables have zero variances: chas1\"Warning message:\n",
      "\"model fit failed for Resample23: fraction=0.9 Error in elasticnet::enet(as.matrix(x), y, lambda = 0, ...) : \n",
      "  Some of the columns of x have zero variance\n",
      "\"Warning message in nominalTrainWorkflow(x = x, y = y, wts = weights, info = trainInfo, :\n",
      "\"There were missing values in resampled performance measures.\"Warning message in preProcess.default(thresh = 0.95, k = 5, freqCut = 19, uniqueCut = 10, :\n",
      "\"These variables have zero variances: chas1\"Warning message:\n",
      "\"model fit failed for Resample07: fraction=0.9 Error in elasticnet::enet(as.matrix(x), y, lambda = 0, ...) : \n",
      "  Some of the columns of x have zero variance\n",
      "\"Warning message in nominalTrainWorkflow(x = x, y = y, wts = weights, info = trainInfo, :\n",
      "\"There were missing values in resampled performance measures.\"Warning message in preProcess.default(thresh = 0.95, k = 5, freqCut = 19, uniqueCut = 10, :\n",
      "\"These variables have zero variances: chas1\"Warning message:\n",
      "\"model fit failed for Resample07: fraction=0.9 Error in elasticnet::enet(as.matrix(x), y, lambda = 0, ...) : \n",
      "  Some of the columns of x have zero variance\n",
      "\"Warning message in preProcess.default(thresh = 0.95, k = 5, freqCut = 19, uniqueCut = 10, :\n",
      "\"These variables have zero variances: chas1\"Warning message:\n",
      "\"model fit failed for Resample16: fraction=0.9 Error in elasticnet::enet(as.matrix(x), y, lambda = 0, ...) : \n",
      "  Some of the columns of x have zero variance\n",
      "\"Warning message in preProcess.default(thresh = 0.95, k = 5, freqCut = 19, uniqueCut = 10, :\n",
      "\"These variables have zero variances: chas1\"Warning message:\n",
      "\"model fit failed for Resample17: fraction=0.9 Error in elasticnet::enet(as.matrix(x), y, lambda = 0, ...) : \n",
      "  Some of the columns of x have zero variance\n",
      "\"Warning message in preProcess.default(thresh = 0.95, k = 5, freqCut = 19, uniqueCut = 10, :\n",
      "\"These variables have zero variances: chas1\"Warning message:\n",
      "\"model fit failed for Resample18: fraction=0.9 Error in elasticnet::enet(as.matrix(x), y, lambda = 0, ...) : \n",
      "  Some of the columns of x have zero variance\n",
      "\"Warning message in preProcess.default(thresh = 0.95, k = 5, freqCut = 19, uniqueCut = 10, :\n",
      "\"These variables have zero variances: chas1\"Warning message:\n",
      "\"model fit failed for Resample22: fraction=0.9 Error in elasticnet::enet(as.matrix(x), y, lambda = 0, ...) : \n",
      "  Some of the columns of x have zero variance\n",
      "\"Warning message in preProcess.default(thresh = 0.95, k = 5, freqCut = 19, uniqueCut = 10, :\n",
      "\"These variables have zero variances: chas1\"Warning message:\n",
      "\"model fit failed for Resample25: fraction=0.9 Error in elasticnet::enet(as.matrix(x), y, lambda = 0, ...) : \n",
      "  Some of the columns of x have zero variance\n",
      "\"Warning message in nominalTrainWorkflow(x = x, y = y, wts = weights, info = trainInfo, :\n",
      "\"There were missing values in resampled performance measures.\"Warning message in preProcess.default(thresh = 0.95, k = 5, freqCut = 19, uniqueCut = 10, :\n",
      "\"These variables have zero variances: chas1\"Warning message:\n",
      "\"model fit failed for Resample01: fraction=0.9 Error in elasticnet::enet(as.matrix(x), y, lambda = 0, ...) : \n",
      "  Some of the columns of x have zero variance\n",
      "\"Warning message in preProcess.default(thresh = 0.95, k = 5, freqCut = 19, uniqueCut = 10, :\n",
      "\"These variables have zero variances: chas1\"Warning message:\n",
      "\"model fit failed for Resample05: fraction=0.9 Error in elasticnet::enet(as.matrix(x), y, lambda = 0, ...) : \n",
      "  Some of the columns of x have zero variance\n",
      "\"Warning message in preProcess.default(thresh = 0.95, k = 5, freqCut = 19, uniqueCut = 10, :\n",
      "\"These variables have zero variances: chas1\"Warning message:\n",
      "\"model fit failed for Resample06: fraction=0.9 Error in elasticnet::enet(as.matrix(x), y, lambda = 0, ...) : \n",
      "  Some of the columns of x have zero variance\n",
      "\"Warning message in preProcess.default(thresh = 0.95, k = 5, freqCut = 19, uniqueCut = 10, :\n",
      "\"These variables have zero variances: chas1\"Warning message:\n",
      "\"model fit failed for Resample08: fraction=0.9 Error in elasticnet::enet(as.matrix(x), y, lambda = 0, ...) : \n",
      "  Some of the columns of x have zero variance\n",
      "\"Warning message in preProcess.default(thresh = 0.95, k = 5, freqCut = 19, uniqueCut = 10, :\n",
      "\"These variables have zero variances: chas1\"Warning message:\n",
      "\"model fit failed for Resample10: fraction=0.9 Error in elasticnet::enet(as.matrix(x), y, lambda = 0, ...) : \n",
      "  Some of the columns of x have zero variance\n",
      "\"Warning message in preProcess.default(thresh = 0.95, k = 5, freqCut = 19, uniqueCut = 10, :\n",
      "\"These variables have zero variances: chas1\"Warning message:\n",
      "\"model fit failed for Resample11: fraction=0.9 Error in elasticnet::enet(as.matrix(x), y, lambda = 0, ...) : \n",
      "  Some of the columns of x have zero variance\n",
      "\"Warning message in preProcess.default(thresh = 0.95, k = 5, freqCut = 19, uniqueCut = 10, :\n",
      "\"These variables have zero variances: chas1\"Warning message:\n",
      "\"model fit failed for Resample12: fraction=0.9 Error in elasticnet::enet(as.matrix(x), y, lambda = 0, ...) : \n",
      "  Some of the columns of x have zero variance\n",
      "\"Warning message in preProcess.default(thresh = 0.95, k = 5, freqCut = 19, uniqueCut = 10, :\n",
      "\"These variables have zero variances: chas1\"Warning message:\n",
      "\"model fit failed for Resample13: fraction=0.9 Error in elasticnet::enet(as.matrix(x), y, lambda = 0, ...) : \n",
      "  Some of the columns of x have zero variance\n",
      "\"Warning message in preProcess.default(thresh = 0.95, k = 5, freqCut = 19, uniqueCut = 10, :\n",
      "\"These variables have zero variances: chas1\"Warning message:\n",
      "\"model fit failed for Resample19: fraction=0.9 Error in elasticnet::enet(as.matrix(x), y, lambda = 0, ...) : \n",
      "  Some of the columns of x have zero variance\n",
      "\"Warning message in preProcess.default(thresh = 0.95, k = 5, freqCut = 19, uniqueCut = 10, :\n",
      "\"These variables have zero variances: chas1\"Warning message:\n",
      "\"model fit failed for Resample22: fraction=0.9 Error in elasticnet::enet(as.matrix(x), y, lambda = 0, ...) : \n",
      "  Some of the columns of x have zero variance\n",
      "\"Warning message in preProcess.default(thresh = 0.95, k = 5, freqCut = 19, uniqueCut = 10, :\n",
      "\"These variables have zero variances: chas1\"Warning message:\n",
      "\"model fit failed for Resample23: fraction=0.9 Error in elasticnet::enet(as.matrix(x), y, lambda = 0, ...) : \n",
      "  Some of the columns of x have zero variance\n",
      "\"Warning message in preProcess.default(thresh = 0.95, k = 5, freqCut = 19, uniqueCut = 10, :\n",
      "\"These variables have zero variances: chas1\"Warning message:\n",
      "\"model fit failed for Resample24: fraction=0.9 Error in elasticnet::enet(as.matrix(x), y, lambda = 0, ...) : \n",
      "  Some of the columns of x have zero variance\n",
      "\"Warning message in nominalTrainWorkflow(x = x, y = y, wts = weights, info = trainInfo, :\n",
      "\"There were missing values in resampled performance measures.\""
     ]
    },
    {
     "data": {
      "text/html": [
       "<table>\n",
       "<thead><tr><th scope=col>no_rows_sequence</th><th scope=col>res_mahal</th></tr></thead>\n",
       "<tbody>\n",
       "\t<tr><td>381     </td><td>3.397312</td></tr>\n",
       "\t<tr><td>376     </td><td>3.387903</td></tr>\n",
       "\t<tr><td>371     </td><td>3.406490</td></tr>\n",
       "\t<tr><td>366     </td><td>3.431668</td></tr>\n",
       "\t<tr><td>361     </td><td>3.416153</td></tr>\n",
       "\t<tr><td>356     </td><td>3.356433</td></tr>\n",
       "\t<tr><td>351     </td><td>3.334941</td></tr>\n",
       "\t<tr><td>346     </td><td>3.228793</td></tr>\n",
       "\t<tr><td>341     </td><td>3.232468</td></tr>\n",
       "\t<tr><td>336     </td><td>3.261373</td></tr>\n",
       "\t<tr><td>331     </td><td>3.212438</td></tr>\n",
       "\t<tr><td>326     </td><td>3.187449</td></tr>\n",
       "\t<tr><td>321     </td><td>3.210632</td></tr>\n",
       "\t<tr><td>316     </td><td>3.231119</td></tr>\n",
       "\t<tr><td>311     </td><td>3.272586</td></tr>\n",
       "\t<tr><td>306     </td><td>3.249175</td></tr>\n",
       "\t<tr><td>301     </td><td>3.270613</td></tr>\n",
       "\t<tr><td>296     </td><td>3.222871</td></tr>\n",
       "\t<tr><td>291     </td><td>3.229414</td></tr>\n",
       "\t<tr><td>286     </td><td>3.314964</td></tr>\n",
       "\t<tr><td>281     </td><td>3.288885</td></tr>\n",
       "</tbody>\n",
       "</table>\n"
      ],
      "text/latex": [
       "\\begin{tabular}{ll}\n",
       " no\\_rows\\_sequence & res\\_mahal\\\\\n",
       "\\hline\n",
       "\t 381      & 3.397312\\\\\n",
       "\t 376      & 3.387903\\\\\n",
       "\t 371      & 3.406490\\\\\n",
       "\t 366      & 3.431668\\\\\n",
       "\t 361      & 3.416153\\\\\n",
       "\t 356      & 3.356433\\\\\n",
       "\t 351      & 3.334941\\\\\n",
       "\t 346      & 3.228793\\\\\n",
       "\t 341      & 3.232468\\\\\n",
       "\t 336      & 3.261373\\\\\n",
       "\t 331      & 3.212438\\\\\n",
       "\t 326      & 3.187449\\\\\n",
       "\t 321      & 3.210632\\\\\n",
       "\t 316      & 3.231119\\\\\n",
       "\t 311      & 3.272586\\\\\n",
       "\t 306      & 3.249175\\\\\n",
       "\t 301      & 3.270613\\\\\n",
       "\t 296      & 3.222871\\\\\n",
       "\t 291      & 3.229414\\\\\n",
       "\t 286      & 3.314964\\\\\n",
       "\t 281      & 3.288885\\\\\n",
       "\\end{tabular}\n"
      ],
      "text/markdown": [
       "\n",
       "no_rows_sequence | res_mahal | \n",
       "|---|---|---|---|---|---|---|---|---|---|---|---|---|---|---|---|---|---|---|---|---|\n",
       "| 381      | 3.397312 | \n",
       "| 376      | 3.387903 | \n",
       "| 371      | 3.406490 | \n",
       "| 366      | 3.431668 | \n",
       "| 361      | 3.416153 | \n",
       "| 356      | 3.356433 | \n",
       "| 351      | 3.334941 | \n",
       "| 346      | 3.228793 | \n",
       "| 341      | 3.232468 | \n",
       "| 336      | 3.261373 | \n",
       "| 331      | 3.212438 | \n",
       "| 326      | 3.187449 | \n",
       "| 321      | 3.210632 | \n",
       "| 316      | 3.231119 | \n",
       "| 311      | 3.272586 | \n",
       "| 306      | 3.249175 | \n",
       "| 301      | 3.270613 | \n",
       "| 296      | 3.222871 | \n",
       "| 291      | 3.229414 | \n",
       "| 286      | 3.314964 | \n",
       "| 281      | 3.288885 | \n",
       "\n",
       "\n"
      ],
      "text/plain": [
       "      no_rows_sequence res_mahal\n",
       " [1,] 381              3.397312 \n",
       " [2,] 376              3.387903 \n",
       " [3,] 371              3.406490 \n",
       " [4,] 366              3.431668 \n",
       " [5,] 361              3.416153 \n",
       " [6,] 356              3.356433 \n",
       " [7,] 351              3.334941 \n",
       " [8,] 346              3.228793 \n",
       " [9,] 341              3.232468 \n",
       "[10,] 336              3.261373 \n",
       "[11,] 331              3.212438 \n",
       "[12,] 326              3.187449 \n",
       "[13,] 321              3.210632 \n",
       "[14,] 316              3.231119 \n",
       "[15,] 311              3.272586 \n",
       "[16,] 306              3.249175 \n",
       "[17,] 301              3.270613 \n",
       "[18,] 296              3.222871 \n",
       "[19,] 291              3.229414 \n",
       "[20,] 286              3.314964 \n",
       "[21,] 281              3.288885 "
      ]
     },
     "metadata": {},
     "output_type": "display_data"
    }
   ],
   "source": [
    "mahal_dist <- mahalanobis(scaled_onehot_BostonHousing[,-highlyCorrelated],\n",
    "                          colMeans(scaled_onehot_BostonHousing[,-highlyCorrelated]),\n",
    "                          cov= var(scaled_onehot_BostonHousing[,-highlyCorrelated]))\n",
    "summary(mahal_dist)\n",
    "\n",
    "\n",
    "error_order=order(mahal_dist)\n",
    "res_mahal=sapply(no_rows_sequence,fr)\n",
    "cbind(no_rows_sequence,res_mahal)"
   ]
  },
  {
   "cell_type": "markdown",
   "metadata": {},
   "source": [
    "# Row selection according to residuals in prediction of training data"
   ]
  },
  {
   "cell_type": "markdown",
   "metadata": {},
   "source": [
    "* Lastly, we will evaluate if the residuals found during model training would be good enough to help identify rows which should be removed. If performance is worse than with other methods, it will be an indicator that there is some overfitting."
   ]
  },
  {
   "cell_type": "markdown",
   "metadata": {},
   "source": [
    "1. Ordering of rows depending on residuals.\n",
    "2. Calculation of MAE in test split depending on number of rows selected."
   ]
  },
  {
   "cell_type": "code",
   "execution_count": 14,
   "metadata": {},
   "outputs": [
    {
     "data": {
      "text/plain": [
       "    Min.  1st Qu.   Median     Mean  3rd Qu.     Max. \n",
       " 0.01018  0.90045  2.23676  3.25370  4.45521 26.93539 "
      ]
     },
     "metadata": {},
     "output_type": "display_data"
    },
    {
     "data": {
      "text/html": [
       "<table>\n",
       "<thead><tr><th scope=col>no_rows_sequence</th><th scope=col>res_residuals</th></tr></thead>\n",
       "<tbody>\n",
       "\t<tr><td>381     </td><td>3.397312</td></tr>\n",
       "\t<tr><td>376     </td><td>3.292641</td></tr>\n",
       "\t<tr><td>371     </td><td>3.330818</td></tr>\n",
       "\t<tr><td>366     </td><td>3.300832</td></tr>\n",
       "\t<tr><td>361     </td><td>3.248493</td></tr>\n",
       "\t<tr><td>356     </td><td>3.276811</td></tr>\n",
       "\t<tr><td>351     </td><td>3.290667</td></tr>\n",
       "\t<tr><td>346     </td><td>3.275042</td></tr>\n",
       "\t<tr><td>341     </td><td>3.274659</td></tr>\n",
       "\t<tr><td>336     </td><td>3.304590</td></tr>\n",
       "\t<tr><td>331     </td><td>3.302504</td></tr>\n",
       "\t<tr><td>326     </td><td>3.287129</td></tr>\n",
       "\t<tr><td>321     </td><td>3.286234</td></tr>\n",
       "\t<tr><td>316     </td><td>3.231515</td></tr>\n",
       "\t<tr><td>311     </td><td>3.312345</td></tr>\n",
       "\t<tr><td>306     </td><td>3.278892</td></tr>\n",
       "\t<tr><td>301     </td><td>3.314710</td></tr>\n",
       "\t<tr><td>296     </td><td>3.289429</td></tr>\n",
       "\t<tr><td>291     </td><td>3.313655</td></tr>\n",
       "\t<tr><td>286     </td><td>3.340961</td></tr>\n",
       "\t<tr><td>281     </td><td>3.326504</td></tr>\n",
       "</tbody>\n",
       "</table>\n"
      ],
      "text/latex": [
       "\\begin{tabular}{ll}\n",
       " no\\_rows\\_sequence & res\\_residuals\\\\\n",
       "\\hline\n",
       "\t 381      & 3.397312\\\\\n",
       "\t 376      & 3.292641\\\\\n",
       "\t 371      & 3.330818\\\\\n",
       "\t 366      & 3.300832\\\\\n",
       "\t 361      & 3.248493\\\\\n",
       "\t 356      & 3.276811\\\\\n",
       "\t 351      & 3.290667\\\\\n",
       "\t 346      & 3.275042\\\\\n",
       "\t 341      & 3.274659\\\\\n",
       "\t 336      & 3.304590\\\\\n",
       "\t 331      & 3.302504\\\\\n",
       "\t 326      & 3.287129\\\\\n",
       "\t 321      & 3.286234\\\\\n",
       "\t 316      & 3.231515\\\\\n",
       "\t 311      & 3.312345\\\\\n",
       "\t 306      & 3.278892\\\\\n",
       "\t 301      & 3.314710\\\\\n",
       "\t 296      & 3.289429\\\\\n",
       "\t 291      & 3.313655\\\\\n",
       "\t 286      & 3.340961\\\\\n",
       "\t 281      & 3.326504\\\\\n",
       "\\end{tabular}\n"
      ],
      "text/markdown": [
       "\n",
       "no_rows_sequence | res_residuals | \n",
       "|---|---|---|---|---|---|---|---|---|---|---|---|---|---|---|---|---|---|---|---|---|\n",
       "| 381      | 3.397312 | \n",
       "| 376      | 3.292641 | \n",
       "| 371      | 3.330818 | \n",
       "| 366      | 3.300832 | \n",
       "| 361      | 3.248493 | \n",
       "| 356      | 3.276811 | \n",
       "| 351      | 3.290667 | \n",
       "| 346      | 3.275042 | \n",
       "| 341      | 3.274659 | \n",
       "| 336      | 3.304590 | \n",
       "| 331      | 3.302504 | \n",
       "| 326      | 3.287129 | \n",
       "| 321      | 3.286234 | \n",
       "| 316      | 3.231515 | \n",
       "| 311      | 3.312345 | \n",
       "| 306      | 3.278892 | \n",
       "| 301      | 3.314710 | \n",
       "| 296      | 3.289429 | \n",
       "| 291      | 3.313655 | \n",
       "| 286      | 3.340961 | \n",
       "| 281      | 3.326504 | \n",
       "\n",
       "\n"
      ],
      "text/plain": [
       "      no_rows_sequence res_residuals\n",
       " [1,] 381              3.397312     \n",
       " [2,] 376              3.292641     \n",
       " [3,] 371              3.330818     \n",
       " [4,] 366              3.300832     \n",
       " [5,] 361              3.248493     \n",
       " [6,] 356              3.276811     \n",
       " [7,] 351              3.290667     \n",
       " [8,] 346              3.275042     \n",
       " [9,] 341              3.274659     \n",
       "[10,] 336              3.304590     \n",
       "[11,] 331              3.302504     \n",
       "[12,] 326              3.287129     \n",
       "[13,] 321              3.286234     \n",
       "[14,] 316              3.231515     \n",
       "[15,] 311              3.312345     \n",
       "[16,] 306              3.278892     \n",
       "[17,] 301              3.314710     \n",
       "[18,] 296              3.289429     \n",
       "[19,] 291              3.313655     \n",
       "[20,] 286              3.340961     \n",
       "[21,] 281              3.326504     "
      ]
     },
     "metadata": {},
     "output_type": "display_data"
    }
   ],
   "source": [
    "summary(abs(predict(model,BostonHousing[train_ind,])-BostonHousing$medv[train_ind]))\n",
    "\n",
    "error_order=order(abs(predict(model,BostonHousing[train_ind,])-BostonHousing$medv[train_ind]))\n",
    "res_residuals=sapply(no_rows_sequence,fr)\n",
    "cbind(no_rows_sequence,res_residuals)"
   ]
  },
  {
   "cell_type": "markdown",
   "metadata": {},
   "source": [
    "# Comparison of results"
   ]
  },
  {
   "cell_type": "markdown",
   "metadata": {},
   "source": [
    "* Now, we compare results:"
   ]
  },
  {
   "cell_type": "code",
   "execution_count": 19,
   "metadata": {},
   "outputs": [],
   "source": [
    "df=data.frame(nrows=no_rows_sequence,bootstrap=res_bootstrap,KNN=res_knn,Mahalanobis=res_mahal,residual=res_residuals)\n",
    "df=reshape2::melt(df,id='nrows')\n",
    "names(df)=c(\"nrows\",\"method\",\"MAE\")"
   ]
  },
  {
   "cell_type": "code",
   "execution_count": 20,
   "metadata": {},
   "outputs": [
    {
     "data": {},
     "metadata": {},
     "output_type": "display_data"
    },
    {
     "data": {
      "image/png": "[encoded data removed]",
      "text/plain": [
       "plot without title"
      ]
     },
     "metadata": {},
     "output_type": "display_data"
    }
   ],
   "source": [
    "p=ggplot(df, aes(x=nrows, y=MAE, color=method)) +geom_line()+\n",
    "  labs(title=\"Relationship between MAE and selected rows\",\n",
    "        x =\"Selected rows\", y = \"MAE\")\n",
    "p"
   ]
  },
  {
   "cell_type": "markdown",
   "metadata": {},
   "source": [
    "*We can see that the row selection based on information achieved during bootstrapping achieves the best results.\n",
    "\n",
    "*Row selection based on residuals shows much worse performance in testing data. This is an indicator that there is some overfitting of noise during model training and the model is trying to accurately fit noisy rows.\n",
    "\n",
    "*Row selection based on KNN also achieves good results. However, the trend is much more inconsistent. We should take into account that model training should not be based on test data information so the selection of rows should be based on rows behaving as outliers. The selection of the number of rows to remove should be based on applying methods such as the function outlier.stats. These methods will give worse performance with inconsistent trends."
   ]
  },
  {
   "cell_type": "markdown",
   "metadata": {},
   "source": [
    "Let's find the mean bootstrap_residual_stats which behave as outliers and see how the difference between the MAE with all rows and the selected rows is reduced."
   ]
  },
  {
   "cell_type": "code",
   "execution_count": 68,
   "metadata": {},
   "outputs": [
    {
     "data": {
      "text/html": [
       "<span style=white-space:pre-wrap>'Rows selected:  348'</span>"
      ],
      "text/latex": [
       "'Rows selected:  348'"
      ],
      "text/markdown": [
       "<span style=white-space:pre-wrap>'Rows selected:  348'</span>"
      ],
      "text/plain": [
       "[1] \"Rows selected:  348\""
      ]
     },
     "metadata": {},
     "output_type": "display_data"
    },
    {
     "data": {
      "text/html": [
       "'MAE with all rows: 3.4357095034663'"
      ],
      "text/latex": [
       "'MAE with all rows: 3.4357095034663'"
      ],
      "text/markdown": [
       "'MAE with all rows: 3.4357095034663'"
      ],
      "text/plain": [
       "[1] \"MAE with all rows: 3.4357095034663\""
      ]
     },
     "metadata": {},
     "output_type": "display_data"
    },
    {
     "data": {
      "text/html": [
       "'MAE with selected rows: 3.18017772252628'"
      ],
      "text/latex": [
       "'MAE with selected rows: 3.18017772252628'"
      ],
      "text/markdown": [
       "'MAE with selected rows: 3.18017772252628'"
      ],
      "text/plain": [
       "[1] \"MAE with selected rows: 3.18017772252628\""
      ]
     },
     "metadata": {},
     "output_type": "display_data"
    },
    {
     "data": {
      "text/html": [
       "'% decrease -7.43752580601519'"
      ],
      "text/latex": [
       "'\\% decrease -7.43752580601519'"
      ],
      "text/markdown": [
       "'% decrease -7.43752580601519'"
      ],
      "text/plain": [
       "[1] \"% decrease -7.43752580601519\""
      ]
     },
     "metadata": {},
     "output_type": "display_data"
    }
   ],
   "source": [
    "row_number_to_keep=length(which(bootstrap_residual_stats$mean<=boxplot.stats(bootstrap_residual_stats$mean)$stats[5]))\n",
    "paste(\"Rows selected: \",row_number_to_keep)\n",
    "error_order=order(bootstrap_residual_stats$mean)\n",
    "MAE_all_rows=fr(no_rows_sequence[1])\n",
    "MAE_selected_rows=fr(row_number_to_keep)\n",
    "paste(\"MAE with all rows:\",MAE_all_rows)\n",
    "paste(\"MAE with selected rows:\",MAE_selected_rows)\n",
    "paste(\"% decrease\",100*(MAE_selected_rows/MAE_all_rows-1))"
   ]
  },
  {
   "cell_type": "markdown",
   "metadata": {},
   "source": [
    "So we have reduced the error 7% without the need of fancy computationally intensive algorithms or of exhaustive post-hoc and data dredging prone analyses."
   ]
  },
  {
   "cell_type": "markdown",
   "metadata": {},
   "source": [
    "# Row selection in test data (yeah, really)"
   ]
  },
  {
   "cell_type": "markdown",
   "metadata": {},
   "source": [
    "So it seems we have reduced a 7% the error during prediction thanks to being able to detect which rows add noise to be overfit and create non-generalizable information.\n",
    "\n",
    "Ok, let's stop a moment and think about what it means to have found rows to remove in the training data: it means that we also have error in the test data which is distorting our evaluation of the quality of our model. Our model would be better predicting than we are aware of.\n",
    "\n",
    "How to find te noise in the test data? Well, we can do the same process than with the training data: we can carete a model during bootstrapping and evaluate which rows gave higher error during the iterations."
   ]
  },
  {
   "cell_type": "code",
   "execution_count": 57,
   "metadata": {},
   "outputs": [
    {
     "name": "stderr",
     "output_type": "stream",
     "text": [
      "Warning message in preProcess.default(thresh = 0.95, k = 5, freqCut = 19, uniqueCut = 10, :\n",
      "\"These variables have zero variances: chas1\"Warning message:\n",
      "\"model fit failed for Resample0004: fraction=0.9 Error in elasticnet::enet(as.matrix(x), y, lambda = 0, ...) : \n",
      "  Some of the columns of x have zero variance\n",
      "\"Warning message in preProcess.default(thresh = 0.95, k = 5, freqCut = 19, uniqueCut = 10, :\n",
      "\"These variables have zero variances: chas1\"Warning message:\n",
      "\"model fit failed for Resample0177: fraction=0.9 Error in elasticnet::enet(as.matrix(x), y, lambda = 0, ...) : \n",
      "  Some of the columns of x have zero variance\n",
      "\"Warning message in preProcess.default(thresh = 0.95, k = 5, freqCut = 19, uniqueCut = 10, :\n",
      "\"These variables have zero variances: chas1\"Warning message:\n",
      "\"model fit failed for Resample0348: fraction=0.9 Error in elasticnet::enet(as.matrix(x), y, lambda = 0, ...) : \n",
      "  Some of the columns of x have zero variance\n",
      "\"Warning message in preProcess.default(thresh = 0.95, k = 5, freqCut = 19, uniqueCut = 10, :\n",
      "\"These variables have zero variances: chas1\"Warning message:\n",
      "\"model fit failed for Resample0420: fraction=0.9 Error in elasticnet::enet(as.matrix(x), y, lambda = 0, ...) : \n",
      "  Some of the columns of x have zero variance\n",
      "\"Warning message in preProcess.default(thresh = 0.95, k = 5, freqCut = 19, uniqueCut = 10, :\n",
      "\"These variables have zero variances: chas1\"Warning message:\n",
      "\"model fit failed for Resample0676: fraction=0.9 Error in elasticnet::enet(as.matrix(x), y, lambda = 0, ...) : \n",
      "  Some of the columns of x have zero variance\n",
      "\"Warning message in preProcess.default(thresh = 0.95, k = 5, freqCut = 19, uniqueCut = 10, :\n",
      "\"These variables have zero variances: chas1\"Warning message:\n",
      "\"model fit failed for Resample0687: fraction=0.9 Error in elasticnet::enet(as.matrix(x), y, lambda = 0, ...) : \n",
      "  Some of the columns of x have zero variance\n",
      "\"Warning message in preProcess.default(thresh = 0.95, k = 5, freqCut = 19, uniqueCut = 10, :\n",
      "\"These variables have zero variances: chas1\"Warning message:\n",
      "\"model fit failed for Resample0935: fraction=0.9 Error in elasticnet::enet(as.matrix(x), y, lambda = 0, ...) : \n",
      "  Some of the columns of x have zero variance\n",
      "\"Warning message in preProcess.default(thresh = 0.95, k = 5, freqCut = 19, uniqueCut = 10, :\n",
      "\"These variables have zero variances: chas1\"Warning message:\n",
      "\"model fit failed for Resample0946: fraction=0.9 Error in elasticnet::enet(as.matrix(x), y, lambda = 0, ...) : \n",
      "  Some of the columns of x have zero variance\n",
      "\"Warning message in nominalTrainWorkflow(x = x, y = y, wts = weights, info = trainInfo, :\n",
      "\"There were missing values in resampled performance measures.\""
     ]
    },
    {
     "data": {
      "text/plain": [
       "The lasso \n",
       "\n",
       "125 samples\n",
       " 13 predictor\n",
       "\n",
       "Pre-processing: centered (13), scaled (13) \n",
       "Resampling: Bootstrapped (1000 reps) \n",
       "Summary of sample sizes: 125, 125, 125, 125, 125, 125, ... \n",
       "Resampling results across tuning parameters:\n",
       "\n",
       "  fraction   RMSE      Rsquared   MAE     \n",
       "  0.1000000  6.859995  0.6156227  5.167117\n",
       "  0.1888889  5.757482  0.6443806  4.446365\n",
       "  0.2777778  5.078655  0.6822006  3.926126\n",
       "  0.3666667  4.794751  0.6992375  3.664107\n",
       "  0.4555556  4.668190  0.7135033  3.568376\n",
       "  0.5444444  4.594756  0.7213405  3.507981\n",
       "  0.6333333  4.554275  0.7259424  3.470836\n",
       "  0.7222222  4.528801  0.7288102  3.443660\n",
       "  0.8111111  4.516695  0.7302756  3.428913\n",
       "  0.9000000  4.519535  0.7303300  3.424980\n",
       "\n",
       "MAE was used to select the optimal model using the smallest value.\n",
       "The final value used for the model was fraction = 0.9."
      ]
     },
     "metadata": {},
     "output_type": "display_data"
    }
   ],
   "source": [
    "set.seed(1);test_model <- train(medv ~ . ,\n",
    "               data = BostonHousing[-train_ind,],\n",
    "               preProcess = c(\"center\", \"scale\"),\n",
    "               method = \"lasso\",\n",
    "               metric=\"MAE\",\n",
    "               tuneLength = 10,\n",
    "               trControl = trainControl(method = \"boot632\",number=1000,\n",
    "                                        savePredictions = \"all\"))\n",
    "test_model"
   ]
  },
  {
   "cell_type": "code",
   "execution_count": 58,
   "metadata": {},
   "outputs": [
    {
     "data": {
      "text/plain": [
       "    rowIndex        mean               sd        \n",
       " Min.   :  1   Min.   : 0.7316   Min.   :0.5397  \n",
       " 1st Qu.: 32   1st Qu.: 2.0397   1st Qu.:1.2014  \n",
       " Median : 63   Median : 3.0429   Median :1.6483  \n",
       " Mean   : 63   Mean   : 3.9644   Mean   :1.8561  \n",
       " 3rd Qu.: 94   3rd Qu.: 4.9867   3rd Qu.:2.2033  \n",
       " Max.   :125   Max.   :13.9014   Max.   :5.2844  "
      ]
     },
     "metadata": {},
     "output_type": "display_data"
    }
   ],
   "source": [
    "test_model$pred$MAE=abs(test_model$pred$pred-test_model$pred$obs)\n",
    "\n",
    "test_bootstrap_residual_stats = test_model$pred %>%\n",
    "group_by(rowIndex) %>%\n",
    "summarise(mean = mean(MAE,na.rm=T),sd=sd(MAE,na.rm=T))\n",
    "summary(test_bootstrap_residual_stats)"
   ]
  },
  {
   "cell_type": "markdown",
   "metadata": {},
   "source": [
    "Now we can evaluate if row selection  in the test dataset based on removing the rows with worse error can improve the results in the training dataset (we retrain 'test_model' to ensure the number of bootstrap iterations does not play a role):"
   ]
  },
  {
   "cell_type": "code",
   "execution_count": 65,
   "metadata": {},
   "outputs": [
    {
     "data": {
      "text/html": [
       "<span style=white-space:pre-wrap>'Rows selected:  116'</span>"
      ],
      "text/latex": [
       "'Rows selected:  116'"
      ],
      "text/markdown": [
       "<span style=white-space:pre-wrap>'Rows selected:  116'</span>"
      ],
      "text/plain": [
       "[1] \"Rows selected:  116\""
      ]
     },
     "metadata": {},
     "output_type": "display_data"
    },
    {
     "name": "stderr",
     "output_type": "stream",
     "text": [
      "Warning message in preProcess.default(thresh = 0.95, k = 5, freqCut = 19, uniqueCut = 10, :\n",
      "\"These variables have zero variances: chas1\"Warning message:\n",
      "\"model fit failed for Resample04: fraction=0.9 Error in elasticnet::enet(as.matrix(x), y, lambda = 0, ...) : \n",
      "  Some of the columns of x have zero variance\n",
      "\"Warning message in nominalTrainWorkflow(x = x, y = y, wts = weights, info = trainInfo, :\n",
      "\"There were missing values in resampled performance measures.\""
     ]
    },
    {
     "data": {
      "text/html": [
       "'MAE with all rows: 3.56474294446306'"
      ],
      "text/latex": [
       "'MAE with all rows: 3.56474294446306'"
      ],
      "text/markdown": [
       "'MAE with all rows: 3.56474294446306'"
      ],
      "text/plain": [
       "[1] \"MAE with all rows: 3.56474294446306\""
      ]
     },
     "metadata": {},
     "output_type": "display_data"
    },
    {
     "data": {
      "text/html": [
       "'MAE with all selected: 3.44976003143164'"
      ],
      "text/latex": [
       "'MAE with all selected: 3.44976003143164'"
      ],
      "text/markdown": [
       "'MAE with all selected: 3.44976003143164'"
      ],
      "text/plain": [
       "[1] \"MAE with all selected: 3.44976003143164\""
      ]
     },
     "metadata": {},
     "output_type": "display_data"
    },
    {
     "data": {
      "text/html": [
       "'% decrease -3.22555973383768'"
      ],
      "text/latex": [
       "'\\% decrease -3.22555973383768'"
      ],
      "text/markdown": [
       "'% decrease -3.22555973383768'"
      ],
      "text/plain": [
       "[1] \"% decrease -3.22555973383768\""
      ]
     },
     "metadata": {},
     "output_type": "display_data"
    }
   ],
   "source": [
    "idx_to_keep=which(new_bootstrap_residual_stats$mean<=boxplot.stats(new_bootstrap_residual_stats$mean)$stats[5])\n",
    "paste(\"Rows selected: \",length(idx_to_keep))\n",
    "\n",
    "set.seed(1);test_model=train(medv ~ . ,\n",
    "                             data = BostonHousing[-train_ind,],\n",
    "                             preProcess = c(\"center\", \"scale\"),\n",
    "                             method = \"lasso\",\n",
    "                             metric=\"MAE\",\n",
    "                             tuneLength = 10,\n",
    "                             trControl = trainControl(method = \"boot632\",\n",
    "                                                      savePredictions = \"all\"))\n",
    "\n",
    "dummy=MAE(pred = predict(test_model,BostonHousing[train_ind,]),obs=BostonHousing$medv[train_ind])\n",
    "paste(\"MAE with all rows:\",dummy)\n",
    "set.seed(1);test_model_2=train(medv ~ . ,\n",
    "                             data = BostonHousing[-train_ind,][idx_to_keep,],\n",
    "                             preProcess = c(\"center\", \"scale\"),\n",
    "                             method = \"lasso\",\n",
    "                             metric=\"MAE\",\n",
    "                             tuneLength = 10,\n",
    "                             trControl = trainControl(method = \"boot632\",\n",
    "                                                      savePredictions = \"all\"))\n",
    "dummy2=MAE(pred = predict(test_model_2,BostonHousing[train_ind,]),obs=BostonHousing$medv[train_ind])\n",
    "paste(\"MAE with all selected:\",dummy2)\n",
    "\n",
    "paste(\"% decrease\",100*(dummy2/dummy-1))"
   ]
  },
  {
   "cell_type": "markdown",
   "metadata": {},
   "source": [
    "Now that we have checked that the row selection in the test dataset increases the quality of this dataset, we can used the edited test dataset to evaluate the actual improvement of the model after performing row selection in the training and the test datasets:"
   ]
  },
  {
   "cell_type": "code",
   "execution_count": 69,
   "metadata": {},
   "outputs": [
    {
     "data": {
      "text/html": [
       "'MAE with all rows: 3.4357095034663'"
      ],
      "text/latex": [
       "'MAE with all rows: 3.4357095034663'"
      ],
      "text/markdown": [
       "'MAE with all rows: 3.4357095034663'"
      ],
      "text/plain": [
       "[1] \"MAE with all rows: 3.4357095034663\""
      ]
     },
     "metadata": {},
     "output_type": "display_data"
    },
    {
     "data": {
      "text/html": [
       "'MAE with selected rows: 2.54389271794976'"
      ],
      "text/latex": [
       "'MAE with selected rows: 2.54389271794976'"
      ],
      "text/markdown": [
       "'MAE with selected rows: 2.54389271794976'"
      ],
      "text/plain": [
       "[1] \"MAE with selected rows: 2.54389271794976\""
      ]
     },
     "metadata": {},
     "output_type": "display_data"
    },
    {
     "data": {
      "text/html": [
       "'% decrease -25.9572814470137'"
      ],
      "text/latex": [
       "'\\% decrease -25.9572814470137'"
      ],
      "text/markdown": [
       "'% decrease -25.9572814470137'"
      ],
      "text/plain": [
       "[1] \"% decrease -25.9572814470137\""
      ]
     },
     "metadata": {},
     "output_type": "display_data"
    }
   ],
   "source": [
    "paste(\"MAE with all rows:\",MAE_all_rows)\n",
    "MAE_selected_train_test=rows=MAE(pred = predict(new_model,BostonHousing[-train_ind,][idx_to_keep,]),obs=BostonHousing$medv[-train_ind][idx_to_keep])\n",
    "\n",
    "paste(\"MAE with selected rows:\",MAE_selected_train_test)\n",
    "paste(\"% decrease\",100*(MAE_selected_train_test/MAE_all_rows-1))\n",
    "\n",
    "\n"
   ]
  },
  {
   "cell_type": "markdown",
   "metadata": {},
   "source": [
    "Wow, so only performing only a few easy automatics teps of row selection we have reduced the error more than 25%!\n",
    "\n",
    "Well, conceptually, I think the improvement is not that high. The initial model was never that bad but its quality was hidden by the noise in the test dataset. A more accurate estimation of the decrease error achieved after row selection requires comparing results with the test dataset after row selection:"
   ]
  },
  {
   "cell_type": "code",
   "execution_count": 70,
   "metadata": {},
   "outputs": [
    {
     "data": {
      "text/html": [
       "'MAE with all rows: 2.82632981119992'"
      ],
      "text/latex": [
       "'MAE with all rows: 2.82632981119992'"
      ],
      "text/markdown": [
       "'MAE with all rows: 2.82632981119992'"
      ],
      "text/plain": [
       "[1] \"MAE with all rows: 2.82632981119992\""
      ]
     },
     "metadata": {},
     "output_type": "display_data"
    },
    {
     "data": {
      "text/html": [
       "'MAE with selected rows: 2.54389271794976'"
      ],
      "text/latex": [
       "'MAE with selected rows: 2.54389271794976'"
      ],
      "text/markdown": [
       "'MAE with selected rows: 2.54389271794976'"
      ],
      "text/plain": [
       "[1] \"MAE with selected rows: 2.54389271794976\""
      ]
     },
     "metadata": {},
     "output_type": "display_data"
    },
    {
     "data": {
      "text/html": [
       "'% decrease -9.99306917865537'"
      ],
      "text/latex": [
       "'\\% decrease -9.99306917865537'"
      ],
      "text/markdown": [
       "'% decrease -9.99306917865537'"
      ],
      "text/plain": [
       "[1] \"% decrease -9.99306917865537\""
      ]
     },
     "metadata": {},
     "output_type": "display_data"
    }
   ],
   "source": [
    "MAE_selected_test=rows=MAE(pred = predict(model,BostonHousing[-train_ind,][idx_to_keep,]),obs=BostonHousing$medv[-train_ind][idx_to_keep])\n",
    "\n",
    "paste(\"MAE with all rows:\",MAE_selected_test)\n",
    "MAE_selected_train_test=rows=MAE(pred = predict(new_model,BostonHousing[-train_ind,][idx_to_keep,]),obs=BostonHousing$medv[-train_ind][idx_to_keep])\n",
    "\n",
    "paste(\"MAE with selected rows:\",MAE_selected_train_test)\n",
    "paste(\"% decrease\",100*(MAE_selected_train_test/MAE_selected_test-1))"
   ]
  },
  {
   "cell_type": "markdown",
   "metadata": {},
   "source": [
    "So we have achieved an actual 10% decrease in the error thanks to the automatic row selection method applied."
   ]
  },
  {
   "cell_type": "markdown",
   "metadata": {},
   "source": [
    "## Next steps"
   ]
  },
  {
   "cell_type": "markdown",
   "metadata": {},
   "source": [
    "*Theoretically, this row selection method should be easily applied for classification models through the evaluation of the confusion matrix for each row.\n",
    "\n",
    "*This approach seems especially promising for non-tabular or highly categorical datasets. Typical methods to evaluate outliers are based on numeric approaches which are not easy to translate to this kinds of datasets.\n",
    "\n",
    "*Image or NLP problems, where a huge amount of time might need to be spent labeling correctly the datasets, might be hugely benefited by this kind of approach. Semisupervised approaches to expand datasets consist of using a small correctly labelled  dataset to predict the label in a huge dataset so to expand the dataset to be used during model training. However, these approaches have the tradeoff of adding noise to the dataset through wrong labelling during prediction. Performing image selection based on wrong labelling during bootstrapped modelling in the training dataset might help achieve much more generalizable models.\n"
   ]
  },
  {
   "cell_type": "code",
   "execution_count": null,
   "metadata": {},
   "outputs": [],
   "source": []
  }
 ],
 "metadata": {
  "kernelspec": {
   "display_name": "R",
   "language": "R",
   "name": "ir"
  },
  "language_info": {
   "codemirror_mode": "r",
   "file_extension": ".r",
   "mimetype": "text/x-r-source",
   "name": "R",
   "pygments_lexer": "r",
   "version": "3.4.4"
  }
 },
 "nbformat": 4,
 "nbformat_minor": 2
}
