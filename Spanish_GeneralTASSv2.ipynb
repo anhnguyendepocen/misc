{
  "nbformat": 4,
  "nbformat_minor": 0,
  "metadata": {
    "colab": {
      "name": "Spanish-GeneralTASSv2.ipynb",
      "version": "0.3.2",
      "provenance": [],
      "include_colab_link": true
    },
    "kernelspec": {
      "display_name": "Python 3",
      "language": "python",
      "name": "python3"
    },
    "accelerator": "GPU"
  },
  "cells": [
    {
      "cell_type": "markdown",
      "metadata": {
        "id": "view-in-github",
        "colab_type": "text"
      },
      "source": [
        "[View in Colaboratory](https://colab.research.google.com/github/danielcanueto/misc/blob/master/Spanish_GeneralTASSv2.ipynb)"
      ]
    },
    {
      "metadata": {
        "id": "ttF4jQq9VDdL",
        "colab_type": "text"
      },
      "cell_type": "markdown",
      "source": [
        "Note: This notebook gathers heavily from Lesson 4 of Cutting Edge Deep Learning for Coders: 2018 Edition by Jeremy Howard. I took that notebook and modified it as little as possible to fit the objective of making a Spanish Language Model Classifier."
      ]
    },
    {
      "metadata": {
        "id": "OrrNf_EQVDdM",
        "colab_type": "text"
      },
      "cell_type": "markdown",
      "source": [
        "The task is to classify tweets into one of the following three categories: Positive, Neutral, Negative or None.\n",
        "For more info: http://www.sepln.org/workshops/tass/2018/task-1/"
      ]
    },
    {
      "metadata": {
        "id": "OzSWaEgjdZal",
        "colab_type": "code",
        "colab": {}
      },
      "cell_type": "code",
      "source": [
        "!pip install fastai spacy"
      ],
      "execution_count": 0,
      "outputs": []
    },
    {
      "metadata": {
        "id": "YgHGYwixVDdO",
        "colab_type": "code",
        "colab": {}
      },
      "cell_type": "code",
      "source": [
        "import sys\n",
        "sys.path.append(\"../..\")\n",
        "from fastai.text import *\n",
        "import html\n",
        "import json"
      ],
      "execution_count": 0,
      "outputs": []
    },
    {
      "metadata": {
        "id": "qp11xY7NVDdT",
        "colab_type": "code",
        "colab": {}
      },
      "cell_type": "code",
      "source": [
        "BOS = 'xbos'  # beginning-of-sentence tag\n",
        "FLD = 'xfld'  # data field tag\n",
        "\n",
        "DATA_PATH=Path('../datasets')\n",
        "\n",
        "OUTPUT_PATH=Path('../output')\n",
        "\n",
        "WIKILM_PATH=OUTPUT_PATH/'wiki_lm'\n",
        "\n",
        "TASSLM_PATH=OUTPUT_PATH/'tass_lm'\n",
        "\n",
        "CLAS_PATH=OUTPUT_PATH/'tass_clas'"
      ],
      "execution_count": 0,
      "outputs": []
    },
    {
      "metadata": {
        "id": "3m7yDuI1VDdW",
        "colab_type": "code",
        "colab": {
          "base_uri": "https://localhost:8080/",
          "height": 17
        },
        "outputId": "33af411f-75a3-4912-f4c2-bf62621bb3f0"
      },
      "cell_type": "code",
      "source": [
        "%%javascript\n",
        "// Original source -- https://gist.github.com/xem/670dec8e70815842eb95\n",
        "Jupyter.beep = () => {\n",
        "    var A=new AudioContext();\n",
        "    var o = A.createOscillator();\n",
        "    o.connect(A.destination);\n",
        "    o.start(0);\n",
        "    var duration = 500;\n",
        "    setTimeout(function(){o.stop(); A.close();}, duration);\n",
        "}"
      ],
      "execution_count": 6,
      "outputs": [
        {
          "output_type": "display_data",
          "data": {
            "application/javascript": [
              "// Original source -- https://gist.github.com/xem/670dec8e70815842eb95\n",
              "Jupyter.beep = () => {\n",
              "    var A=new AudioContext();\n",
              "    var o = A.createOscillator();\n",
              "    o.connect(A.destination);\n",
              "    o.start(0);\n",
              "    var duration = 500;\n",
              "    setTimeout(function(){o.stop(); A.close();}, duration);\n",
              "}"
            ],
            "text/plain": [
              "<IPython.core.display.Javascript object>"
            ]
          },
          "metadata": {
            "tags": []
          }
        }
      ]
    },
    {
      "metadata": {
        "id": "Oe80ttduVDdd",
        "colab_type": "text"
      },
      "cell_type": "markdown",
      "source": [
        "## Pre-Process TASS Dataset"
      ]
    },
    {
      "metadata": {
        "id": "FkvrrWj5VDde",
        "colab_type": "text"
      },
      "cell_type": "markdown",
      "source": [
        "Load GeneralTASS Corpus Dataset"
      ]
    },
    {
      "metadata": {
        "id": "roJ98lByVDdf",
        "colab_type": "code",
        "colab": {}
      },
      "cell_type": "code",
      "source": [
        "import xml.etree.ElementTree as ET\n",
        "\n",
        "TASS_DATA_PATH = Path(DATA_PATH/'generalTASS')\n",
        "TRN_PATH = TASS_DATA_PATH/'trn'\n",
        "\n",
        "BOS = 'xbos'  # beginning-of-sentence tag\n",
        "FLD = 'xfld'  # data field tag"
      ],
      "execution_count": 0,
      "outputs": []
    },
    {
      "metadata": {
        "id": "g1NhljV0VDdj",
        "colab_type": "code",
        "colab": {}
      },
      "cell_type": "code",
      "source": [
        "import requests\n",
        "\n",
        "URL = \"http://www.sepln.org/workshops/tass/tass_data/dataset/intertass-ES-train-tagged.xml\"\n",
        "\n",
        "response = requests.get(URL)\n",
        "with open('feed.xml', 'wb') as file:\n",
        "    file.write(response.content)\n",
        "\n",
        "e = ET.parse('feed.xml')\n",
        "root = e.getroot()"
      ],
      "execution_count": 0,
      "outputs": []
    },
    {
      "metadata": {
        "id": "od7WZPjdVDdm",
        "colab_type": "text"
      },
      "cell_type": "markdown",
      "source": [
        "Check how big our dataset is"
      ]
    },
    {
      "metadata": {
        "id": "yCGP04BMVDdn",
        "colab_type": "code",
        "colab": {
          "base_uri": "https://localhost:8080/",
          "height": 34
        },
        "outputId": "1eb880ff-0200-4a37-b1e2-99790f7e7301"
      },
      "cell_type": "code",
      "source": [
        "print(len(np.array([tweet.find('content').text for tweet in root.findall('tweet')])))"
      ],
      "execution_count": 16,
      "outputs": [
        {
          "output_type": "stream",
          "text": [
            "1008\n"
          ],
          "name": "stdout"
        }
      ]
    },
    {
      "metadata": {
        "id": "qlczUPssVDds",
        "colab_type": "text"
      },
      "cell_type": "markdown",
      "source": [
        "Separate tweets, labels and types into arrays"
      ]
    },
    {
      "metadata": {
        "id": "uI706-MkVDdu",
        "colab_type": "code",
        "colab": {}
      },
      "cell_type": "code",
      "source": [
        "tweets = np.array([tweet.find('content').text for tweet in root.findall('tweet')])\n",
        "#labels = np.array(print([tweet.find('sentiment') for tweet in root.findall('tweet')]))\n",
        "labels = np.array([tweet.find('sentiment').find('polarity').find('value').text for tweet in root.findall('tweet')])\n",
        "#types = np.array([tweet.find('sentiment').find('polarity').find('type').text for tweet in root.findall('tweet')])"
      ],
      "execution_count": 0,
      "outputs": []
    },
    {
      "metadata": {
        "id": "TTQfOoIwVDd0",
        "colab_type": "text"
      },
      "cell_type": "markdown",
      "source": [
        "Labels to integers"
      ]
    },
    {
      "metadata": {
        "id": "50WGXKk6VDd2",
        "colab_type": "code",
        "colab": {
          "base_uri": "https://localhost:8080/",
          "height": 34
        },
        "outputId": "a6fc257e-5052-4eec-8099-b5828fa713de"
      },
      "cell_type": "code",
      "source": [
        "LABELS = set(labels)\n",
        "list(LABELS)"
      ],
      "execution_count": 27,
      "outputs": [
        {
          "output_type": "execute_result",
          "data": {
            "text/plain": [
              "['P', 'NONE', 'N', 'NEU']"
            ]
          },
          "metadata": {
            "tags": []
          },
          "execution_count": 27
        }
      ]
    },
    {
      "metadata": {
        "id": "unKQtxuKVDd9",
        "colab_type": "code",
        "colab": {
          "base_uri": "https://localhost:8080/",
          "height": 34
        },
        "outputId": "e14de288-67cc-4a8d-b3d5-3300c1383972"
      },
      "cell_type": "code",
      "source": [
        "labels_dict = {}\n",
        "labels_dict['P'] = 0\n",
        "labels_dict['N'] = 1\n",
        "labels_dict['NEU'] = 2\n",
        "labels_dict['NONE'] = 3\n",
        "print(labels_dict)"
      ],
      "execution_count": 28,
      "outputs": [
        {
          "output_type": "stream",
          "text": [
            "{'P': 0, 'N': 1, 'NEU': 2, 'NONE': 3}\n"
          ],
          "name": "stdout"
        }
      ]
    },
    {
      "metadata": {
        "id": "DDmgBZmpVDeB",
        "colab_type": "code",
        "colab": {}
      },
      "cell_type": "code",
      "source": [
        "labels = [labels_dict[i] for i in labels]"
      ],
      "execution_count": 0,
      "outputs": []
    },
    {
      "metadata": {
        "id": "J0IpN1SbVDeF",
        "colab_type": "text"
      },
      "cell_type": "markdown",
      "source": [
        "Some standard pre-processing: We delete all None type tweets, we replace some tokens with more meaningful ones and we shuffle tokens randomly"
      ]
    },
    {
      "metadata": {
        "id": "Ua9_7j15VDeG",
        "colab_type": "code",
        "colab": {}
      },
      "cell_type": "code",
      "source": [
        "none_ind = [ind for ind, tweet in enumerate(tweets) if tweet is None]\n",
        "\n",
        "tweets = np.delete(tweets, none_ind, 0)\n",
        "labels = np.delete(labels, none_ind, 0)\n",
        "#types = np.delete(types, none_ind, 0)"
      ],
      "execution_count": 0,
      "outputs": []
    },
    {
      "metadata": {
        "id": "wmZEczDCVDeK",
        "colab_type": "code",
        "colab": {}
      },
      "cell_type": "code",
      "source": [
        "def flattern(A):\n",
        "    'Source: https://stackoverflow.com/a/17867797/7273299'\n",
        "    \n",
        "    'Flattens a list of lists and strings into a list.'\n",
        "    rt = []\n",
        "    for i in A:\n",
        "        if isinstance(i,list): rt.extend(flattern(i))\n",
        "        else: rt.append(i)\n",
        "    return rt"
      ],
      "execution_count": 0,
      "outputs": []
    },
    {
      "metadata": {
        "id": "RHBzgUcLVDeM",
        "colab_type": "code",
        "colab": {}
      },
      "cell_type": "code",
      "source": [
        "# Placeholders for hyperlinks and user references\n",
        "tweets = [['hyp_link' if i.startswith('http://t.co') else 'user_ref' if i.startswith('@') else i for i in tweet.split()] for tweet in tweets]\n",
        "tweets = np.array([' '.join(i) for i in tweets])"
      ],
      "execution_count": 0,
      "outputs": []
    },
    {
      "metadata": {
        "id": "by2DagzPVDeQ",
        "colab_type": "code",
        "colab": {}
      },
      "cell_type": "code",
      "source": [
        "# Prefix for Hashtags\n",
        "tweets = [[['hash_tag', i] if i.startswith('#') else i for i in tweet.split()] for tweet in tweets]\n",
        "tweets = np.array([flattern(tweet) for tweet in tweets])\n",
        "tweets = np.array([' '.join(i) for i in tweets])"
      ],
      "execution_count": 0,
      "outputs": []
    },
    {
      "metadata": {
        "id": "Uoc9q-yrVDeV",
        "colab_type": "code",
        "colab": {}
      },
      "cell_type": "code",
      "source": [
        "def isInt(v):\n",
        "    'Source: https://stackoverflow.com/a/9859202/7273299'\n",
        "    \n",
        "    'Checks if a string is a number.'\n",
        "    try:     i = int(v)\n",
        "    except:  return False\n",
        "    return True"
      ],
      "execution_count": 0,
      "outputs": []
    },
    {
      "metadata": {
        "id": "il2uQtwQVDea",
        "colab_type": "code",
        "colab": {}
      },
      "cell_type": "code",
      "source": [
        "# Prefix for integers\n",
        "tweets = [[['int_string', i] if isInt(i) else i for i in tweet.split()] for tweet in tweets]\n",
        "tweets = np.array([flattern(tweet) for tweet in tweets])\n",
        "tweets = np.array([' '.join(i) for i in tweets])"
      ],
      "execution_count": 0,
      "outputs": []
    },
    {
      "metadata": {
        "id": "BY3gQBHbVDef",
        "colab_type": "code",
        "colab": {}
      },
      "cell_type": "code",
      "source": [
        "# Prefix for slang\n",
        "tweets = [[['que', 'slang_string'] if i=='q' else ['por', 'slang_string'] if i=='x' else ['de', 'slang_string'] if i=='d' else ['Que', 'slang_string'] if i=='Q' else ['Por', 'slang_string'] if i=='X' else ['De', 'slang_string'] if i=='D' else i for i in tweet.split()] for tweet in tweets]\n",
        "tweets = np.array([flattern(tweet) for tweet in tweets])\n",
        "tweets = np.array([' '.join(i) for i in tweets])"
      ],
      "execution_count": 0,
      "outputs": []
    },
    {
      "metadata": {
        "id": "D-kgohU9VDei",
        "colab_type": "code",
        "colab": {}
      },
      "cell_type": "code",
      "source": [
        "def char_count(word, chars, lbound=2):\n",
        "    char_count = [word.count(char) for char in chars]\n",
        "    return all(i >= lbound for i in char_count)\n",
        "\n",
        "def replace_lol(repl_str, texts):\n",
        "    for string, chars in repl_str:\n",
        "        texts = [[[string, i] if char_count(i, set(chars), 2) else i for i in text.split()] for text in texts]\n",
        "        texts = np.array([flattern(text) for text in texts])\n",
        "        texts = np.array([' '.join(text) for text in texts])\n",
        "    return texts"
      ],
      "execution_count": 0,
      "outputs": []
    },
    {
      "metadata": {
        "id": "B0iJJpl5VDem",
        "colab_type": "code",
        "colab": {}
      },
      "cell_type": "code",
      "source": [
        "# Lol type characters\n",
        "repl_str = [('risa_ja','ja'), ('risa_ji','ji'), ('risa_je','je'), ('risa_jo','jo'), ('risa_ju', 'ju')]\n",
        "\n",
        "# Adding prefix to lol type characters\n",
        "tweets = replace_lol(repl_str, tweets)"
      ],
      "execution_count": 0,
      "outputs": []
    },
    {
      "metadata": {
        "id": "S2xbq1aXVDep",
        "colab_type": "code",
        "colab": {}
      },
      "cell_type": "code",
      "source": [
        "np.random.seed(42)\n",
        "\n",
        "trn_idx = np.random.permutation(len(tweets))\n",
        "\n",
        "tweets = tweets[trn_idx]\n",
        "labels = labels[trn_idx]\n",
        "#types = types[trn_idx]"
      ],
      "execution_count": 0,
      "outputs": []
    },
    {
      "metadata": {
        "id": "VZnOVYiOVDet",
        "colab_type": "code",
        "colab": {}
      },
      "cell_type": "code",
      "source": [
        "col_names = ['label', 'tweet']"
      ],
      "execution_count": 0,
      "outputs": []
    },
    {
      "metadata": {
        "id": "fvUIaBM8VDe0",
        "colab_type": "code",
        "colab": {
          "base_uri": "https://localhost:8080/",
          "height": 255
        },
        "outputId": "e0fb54af-2541-4da8-f8e8-604dec3fa264"
      },
      "cell_type": "code",
      "source": [
        "print(tweets[:15])"
      ],
      "execution_count": 43,
      "outputs": [
        {
          "output_type": "stream",
          "text": [
            "['Nuevo trailer! hash_tag #PokemonGo en minecraft! Espero que os gusten las pokecasas os las imaginabais así por dentro? https://t.co/D2sH0op1ei'\n",
            " 'user_ref cuando estén los int_string 20 contactados y aprobados se publicará el listado en nuestra web'\n",
            " 'por qué tengo un nombre tan feo'\n",
            " 'user_ref Ow Bueno, no pasa nada, cuando puedas confirmarlo, estoy aquí 😊 Y si no pudieras de cosplay pero sí a la expo, +'\n",
            " 'user_ref Pos sí que eras tú limitada en encontrar formas de no aburrirse en clase'\n",
            " '11:11 que no me encuentre mal' 'en serio, tenéis que verosla ya'\n",
            " 'user_ref estoy total y absolutamente desesperanzada user_ref'\n",
            " 'user_ref Muy sexy Sabrina! Besitos y feliz día!'\n",
            " 'user_ref user_ref user_ref user_ref ese es Seve que se pone exquisito. Yo más de andar por casa (menos florida)'\n",
            " 'user_ref Gracias por la info Lo bueno sería saber si aceptan libros en inglés.'\n",
            " 'user_ref user_ref user_ref user_ref no tenemos para cerveza, somos pobres y sucios. No nos dejan entrar al bar'\n",
            " 'Buenos días Magaluf ! 👌🏻✅ • user_ref • hash_tag #BHmallorca#Magaluf hash_tag #Mallorca hash_tag #Island hash_tag #Summer2016… https://t.co/amAnsSDaxI'\n",
            " 'Sara piensa que slang_string vivo rayada xq me duermo escuchando a beret y weno'\n",
            " 'user_ref . Estas palabras, del Poema, INSTANTES, son de Nadine Stair. Escritora norteamericana, a la que slang_string le gustan los helados.']\n"
          ],
          "name": "stdout"
        }
      ]
    },
    {
      "metadata": {
        "id": "-ePA0FhHVDe9",
        "colab_type": "text"
      },
      "cell_type": "markdown",
      "source": [
        "Build validation and training sets"
      ]
    },
    {
      "metadata": {
        "id": "wThOCN_-VDfC",
        "colab_type": "code",
        "colab": {}
      },
      "cell_type": "code",
      "source": [
        "train_limit = int(len(tweets)*0.8)\n",
        "val_limit = int(len(tweets)*0.9)"
      ],
      "execution_count": 0,
      "outputs": []
    },
    {
      "metadata": {
        "id": "USwsp_QzVDfG",
        "colab_type": "code",
        "colab": {}
      },
      "cell_type": "code",
      "source": [
        "df_trn = pd.DataFrame({'tweet':tweets[:train_limit], 'label':labels[:train_limit]}, columns=col_names)\n",
        "df_val = pd.DataFrame({'tweet':tweets[train_limit:val_limit], 'label':labels[train_limit:val_limit]}, columns=col_names)\n",
        "df_tst = pd.DataFrame({'tweet':tweets[val_limit:], 'label':labels[val_limit:]}, columns=col_names)"
      ],
      "execution_count": 0,
      "outputs": []
    },
    {
      "metadata": {
        "id": "ntbrXgYVVDfM",
        "colab_type": "code",
        "colab": {
          "base_uri": "https://localhost:8080/",
          "height": 514
        },
        "outputId": "24871c42-e1ad-468a-9273-7d16afa0aecf"
      },
      "cell_type": "code",
      "source": [
        "df_trn.head(15)"
      ],
      "execution_count": 46,
      "outputs": [
        {
          "output_type": "execute_result",
          "data": {
            "text/html": [
              "<div>\n",
              "<style scoped>\n",
              "    .dataframe tbody tr th:only-of-type {\n",
              "        vertical-align: middle;\n",
              "    }\n",
              "\n",
              "    .dataframe tbody tr th {\n",
              "        vertical-align: top;\n",
              "    }\n",
              "\n",
              "    .dataframe thead th {\n",
              "        text-align: right;\n",
              "    }\n",
              "</style>\n",
              "<table border=\"1\" class=\"dataframe\">\n",
              "  <thead>\n",
              "    <tr style=\"text-align: right;\">\n",
              "      <th></th>\n",
              "      <th>label</th>\n",
              "      <th>tweet</th>\n",
              "    </tr>\n",
              "  </thead>\n",
              "  <tbody>\n",
              "    <tr>\n",
              "      <th>0</th>\n",
              "      <td>0</td>\n",
              "      <td>Nuevo trailer! hash_tag #PokemonGo en minecraf...</td>\n",
              "    </tr>\n",
              "    <tr>\n",
              "      <th>1</th>\n",
              "      <td>3</td>\n",
              "      <td>user_ref cuando estén los int_string 20 contac...</td>\n",
              "    </tr>\n",
              "    <tr>\n",
              "      <th>2</th>\n",
              "      <td>1</td>\n",
              "      <td>por qué tengo un nombre tan feo</td>\n",
              "    </tr>\n",
              "    <tr>\n",
              "      <th>3</th>\n",
              "      <td>0</td>\n",
              "      <td>user_ref Ow Bueno, no pasa nada, cuando puedas...</td>\n",
              "    </tr>\n",
              "    <tr>\n",
              "      <th>4</th>\n",
              "      <td>1</td>\n",
              "      <td>user_ref Pos sí que eras tú limitada en encont...</td>\n",
              "    </tr>\n",
              "    <tr>\n",
              "      <th>5</th>\n",
              "      <td>2</td>\n",
              "      <td>11:11 que no me encuentre mal</td>\n",
              "    </tr>\n",
              "    <tr>\n",
              "      <th>6</th>\n",
              "      <td>2</td>\n",
              "      <td>en serio, tenéis que verosla ya</td>\n",
              "    </tr>\n",
              "    <tr>\n",
              "      <th>7</th>\n",
              "      <td>1</td>\n",
              "      <td>user_ref estoy total y absolutamente desespera...</td>\n",
              "    </tr>\n",
              "    <tr>\n",
              "      <th>8</th>\n",
              "      <td>0</td>\n",
              "      <td>user_ref Muy sexy Sabrina! Besitos y feliz día!</td>\n",
              "    </tr>\n",
              "    <tr>\n",
              "      <th>9</th>\n",
              "      <td>2</td>\n",
              "      <td>user_ref user_ref user_ref user_ref ese es Sev...</td>\n",
              "    </tr>\n",
              "    <tr>\n",
              "      <th>10</th>\n",
              "      <td>0</td>\n",
              "      <td>user_ref Gracias por la info Lo bueno sería sa...</td>\n",
              "    </tr>\n",
              "    <tr>\n",
              "      <th>11</th>\n",
              "      <td>1</td>\n",
              "      <td>user_ref user_ref user_ref user_ref no tenemos...</td>\n",
              "    </tr>\n",
              "    <tr>\n",
              "      <th>12</th>\n",
              "      <td>0</td>\n",
              "      <td>Buenos días Magaluf ! 👌🏻✅ • user_ref • hash_ta...</td>\n",
              "    </tr>\n",
              "    <tr>\n",
              "      <th>13</th>\n",
              "      <td>1</td>\n",
              "      <td>Sara piensa que slang_string vivo rayada xq me...</td>\n",
              "    </tr>\n",
              "    <tr>\n",
              "      <th>14</th>\n",
              "      <td>2</td>\n",
              "      <td>user_ref . Estas palabras, del Poema, INSTANTE...</td>\n",
              "    </tr>\n",
              "  </tbody>\n",
              "</table>\n",
              "</div>"
            ],
            "text/plain": [
              "    label                                              tweet\n",
              "0       0  Nuevo trailer! hash_tag #PokemonGo en minecraf...\n",
              "1       3  user_ref cuando estén los int_string 20 contac...\n",
              "2       1                    por qué tengo un nombre tan feo\n",
              "3       0  user_ref Ow Bueno, no pasa nada, cuando puedas...\n",
              "4       1  user_ref Pos sí que eras tú limitada en encont...\n",
              "5       2                      11:11 que no me encuentre mal\n",
              "6       2                    en serio, tenéis que verosla ya\n",
              "7       1  user_ref estoy total y absolutamente desespera...\n",
              "8       0    user_ref Muy sexy Sabrina! Besitos y feliz día!\n",
              "9       2  user_ref user_ref user_ref user_ref ese es Sev...\n",
              "10      0  user_ref Gracias por la info Lo bueno sería sa...\n",
              "11      1  user_ref user_ref user_ref user_ref no tenemos...\n",
              "12      0  Buenos días Magaluf ! 👌🏻✅ • user_ref • hash_ta...\n",
              "13      1  Sara piensa que slang_string vivo rayada xq me...\n",
              "14      2  user_ref . Estas palabras, del Poema, INSTANTE..."
            ]
          },
          "metadata": {
            "tags": []
          },
          "execution_count": 46
        }
      ]
    },
    {
      "metadata": {
        "id": "3Ls2P6F0VDfT",
        "colab_type": "text"
      },
      "cell_type": "markdown",
      "source": [
        "The pandas dataframe is used to store text data in a newly evolving standard format of label followed by text columns. This was influenced by a paper by Yann LeCun (LINK REQUIRED). Fastai adopts this new format for NLP datasets. In the case of IMDB, there is only one text column."
      ]
    },
    {
      "metadata": {
        "id": "LiyL8fOWVDfU",
        "colab_type": "code",
        "colab": {}
      },
      "cell_type": "code",
      "source": [
        "df_trn[df_trn['label']!=3].to_csv('train.csv', header=False, index=False)\n",
        "df_val[df_val['label']!=3].to_csv('validation.csv', header=False, index=False)\n",
        "df_tst[df_tst['label']!=3].to_csv('test.csv', header=False, index=False)\n",
        "\n",
        "#('classes.txt').open('w').writelines(f'{o}\\n' for o in LABELS)"
      ],
      "execution_count": 0,
      "outputs": []
    },
    {
      "metadata": {
        "id": "-wrbyXGmVDfX",
        "colab_type": "code",
        "colab": {}
      },
      "cell_type": "code",
      "source": [
        "df_trn = pd.DataFrame({'tweet':tweets[:train_limit], 'label':[0]*len(labels[:train_limit])}, columns=col_names)\n",
        "df_val = pd.DataFrame({'tweet':tweets[train_limit:val_limit], 'label':[0]*len(labels[train_limit:val_limit])}, columns=col_names)\n",
        "df_tst = pd.DataFrame({'tweet':tweets[val_limit:], 'label':[0]*len(labels[val_limit:])}, columns=col_names)"
      ],
      "execution_count": 0,
      "outputs": []
    },
    {
      "metadata": {
        "id": "zW0wKPAgVDfa",
        "colab_type": "code",
        "colab": {}
      },
      "cell_type": "code",
      "source": [
        "df_trn.to_csv('train.csv', header=False, index=False)\n",
        "df_val.to_csv('validation.csv', header=False, index=False)\n",
        "df_tst.to_csv('test.csv', header=False, index=False)"
      ],
      "execution_count": 0,
      "outputs": []
    },
    {
      "metadata": {
        "id": "ydQid5vgVDfd",
        "colab_type": "text"
      },
      "cell_type": "markdown",
      "source": [
        "## Tokenize and Standarize General Tokens for TASS Dataset"
      ]
    },
    {
      "metadata": {
        "id": "L-moNgyFVDfd",
        "colab_type": "text"
      },
      "cell_type": "markdown",
      "source": [
        "#TODO: use fast ai functions"
      ]
    },
    {
      "metadata": {
        "id": "2j8qczwNVDfd",
        "colab_type": "text"
      },
      "cell_type": "markdown",
      "source": [
        "Pre-processing using fast.ai functions"
      ]
    },
    {
      "metadata": {
        "id": "DiNg7WfgVDff",
        "colab_type": "code",
        "colab": {}
      },
      "cell_type": "code",
      "source": [
        "chunksize=24000\n",
        "\n",
        "re1 = re.compile(r'  +')"
      ],
      "execution_count": 0,
      "outputs": []
    },
    {
      "metadata": {
        "id": "KKHi439PVDfh",
        "colab_type": "code",
        "colab": {}
      },
      "cell_type": "code",
      "source": [
        "def fixup(x):\n",
        "    x = x.replace('#39;', \"'\").replace('amp;', '&').replace('#146;', \"'\").replace(\n",
        "        'nbsp;', ' ').replace('#36;', '$').replace('\\\\n', \"\\n\").replace('quot;', \"'\").replace(\n",
        "        '<br />', \"\\n\").replace('\\\\\"', '\"').replace('<unk>','u_n').replace(' @.@ ','.').replace(\n",
        "        ' @-@ ','-').replace('\\\\', ' \\\\ ')\n",
        "    return re1.sub(' ', html.unescape(x))\n",
        "\n",
        "def get_texts(df, n_lbls=1):\n",
        "    labels = df.iloc[:,range(n_lbls)].values.astype(np.int64)\n",
        "    texts = f'\\n{BOS} ' + df[n_lbls].astype(str)\n",
        "    for i in range(n_lbls+1, len(df.columns)): texts += f' {FLD} {i-n_lbls} ' + df[i].astype(str)\n",
        "    texts = texts.apply(fixup).values.astype(str)\n",
        "\n",
        "    tok = Tokenizer(lang='es').proc_all_mp(partition_by_cores(texts), lang='es')\n",
        "    return tok, list(labels)\n",
        "\n",
        "def get_all(df, n_lbls):\n",
        "    tok, labels = [], []\n",
        "#     print(df)\n",
        "    for i, r in enumerate(df):\n",
        "        tok_, labels_ = get_texts(r, n_lbls)\n",
        "        tok += tok_;\n",
        "        labels += labels_\n",
        "    return tok, labels"
      ],
      "execution_count": 0,
      "outputs": []
    },
    {
      "metadata": {
        "id": "kTmGKj3dzd-e",
        "colab_type": "code",
        "colab": {
          "base_uri": "https://localhost:8080/",
          "height": 238
        },
        "outputId": "6c3c61d3-9d73-4867-c6cc-50e399b07268"
      },
      "cell_type": "code",
      "source": [
        "!python -m spacy download es"
      ],
      "execution_count": 56,
      "outputs": [
        {
          "output_type": "stream",
          "text": [
            "Collecting https://github.com/explosion/spacy-models/releases/download/es_core_news_sm-2.0.0/es_core_news_sm-2.0.0.tar.gz\n",
            "\u001b[?25l  Downloading https://github.com/explosion/spacy-models/releases/download/es_core_news_sm-2.0.0/es_core_news_sm-2.0.0.tar.gz (36.7MB)\n",
            "\u001b[K    100% |████████████████████████████████| 36.7MB 29.7MB/s \n",
            "\u001b[?25hInstalling collected packages: es-core-news-sm\n",
            "  Running setup.py install for es-core-news-sm ... \u001b[?25l-\b \b\\\b \b|\b \bdone\n",
            "\u001b[?25hSuccessfully installed es-core-news-sm-2.0.0\n",
            "\n",
            "\u001b[93m    Linking successful\u001b[0m\n",
            "    /usr/local/lib/python3.6/dist-packages/es_core_news_sm -->\n",
            "    /usr/local/lib/python3.6/dist-packages/spacy/data/es\n",
            "\n",
            "    You can now load the model via spacy.load('es')\n",
            "\n"
          ],
          "name": "stdout"
        }
      ]
    },
    {
      "metadata": {
        "id": "ee0Bj2ifVDfk",
        "colab_type": "code",
        "colab": {}
      },
      "cell_type": "code",
      "source": [
        "df_trn = pd.read_csv('train.csv', header=None, chunksize=chunksize)\n",
        "df_val = pd.read_csv('validation.csv', header=None, chunksize=chunksize)"
      ],
      "execution_count": 0,
      "outputs": []
    },
    {
      "metadata": {
        "id": "2k31Kn1QVDfl",
        "colab_type": "code",
        "colab": {}
      },
      "cell_type": "code",
      "source": [
        "tok_trn, trn_labels = get_all(df_trn, 1)\n",
        "tok_val, val_labels = get_all(df_val, 1)"
      ],
      "execution_count": 0,
      "outputs": []
    },
    {
      "metadata": {
        "id": "43B4wzMQVDfp",
        "colab_type": "code",
        "colab": {
          "base_uri": "https://localhost:8080/",
          "height": 54
        },
        "outputId": "49350e70-3ed8-4d10-fcf9-b30d605c3235"
      },
      "cell_type": "code",
      "source": [
        "print(tok_trn[:2])"
      ],
      "execution_count": 59,
      "outputs": [
        {
          "output_type": "stream",
          "text": [
            "[['\\n', 'xbos', 'nuevo', 'trailer', '!', 'hash_tag', '#', 'pokemongo', 'en', 'minecraft', '!', 'espero', 'que', 'os', 'gusten', 'las', 'pokecasas', 'os', 'las', 'imaginabais', 'así', 'por', 'dentro', '?', 'https', ':', '/', '/', 't.co', '/', 'd2sh0op1ei'], ['\\n', 'xbos', 'user_ref', 'cuando', 'estén', 'los', 'int_string', '20', 'contactados', 'y', 'aprobados', 'se', 'publicará', 'el', 'listado', 'en', 'nuestra', 'web']]\n"
          ],
          "name": "stdout"
        }
      ]
    },
    {
      "metadata": {
        "id": "7OOjw-RIVDfs",
        "colab_type": "code",
        "colab": {}
      },
      "cell_type": "code",
      "source": [
        "!mkdir tmp"
      ],
      "execution_count": 0,
      "outputs": []
    },
    {
      "metadata": {
        "id": "TViMiD3AVDfw",
        "colab_type": "code",
        "colab": {}
      },
      "cell_type": "code",
      "source": [
        "\n",
        "np.save('tmp/tok_trn.npy', tok_trn)\n",
        "np.save('tmp/tok_val.npy', tok_val)"
      ],
      "execution_count": 0,
      "outputs": []
    },
    {
      "metadata": {
        "id": "R7FLseVjVDfy",
        "colab_type": "code",
        "colab": {}
      },
      "cell_type": "code",
      "source": [
        "tok_trn = np.load('tmp/tok_trn.npy')\n",
        "tok_val = np.load('tmp/tok_val.npy')"
      ],
      "execution_count": 0,
      "outputs": []
    },
    {
      "metadata": {
        "id": "zpkDUoFMVDf0",
        "colab_type": "code",
        "colab": {
          "base_uri": "https://localhost:8080/",
          "height": 357
        },
        "outputId": "4002bf17-12b8-45f2-d2be-6e29270f78aa"
      },
      "cell_type": "code",
      "source": [
        "freq = Counter(p for o in tok_trn for p in o)\n",
        "freq.most_common(20)"
      ],
      "execution_count": 67,
      "outputs": [
        {
          "output_type": "execute_result",
          "data": {
            "text/plain": [
              "[('\\n', 806),\n",
              " ('xbos', 806),\n",
              " ('user_ref', 665),\n",
              " ('que', 433),\n",
              " ('de', 422),\n",
              " (',', 403),\n",
              " ('y', 299),\n",
              " ('a', 272),\n",
              " ('no', 262),\n",
              " ('la', 250),\n",
              " ('me', 226),\n",
              " ('en', 222),\n",
              " ('.', 221),\n",
              " ('el', 208),\n",
              " ('es', 185),\n",
              " ('!', 159),\n",
              " ('un', 143),\n",
              " ('lo', 137),\n",
              " ('pero', 125),\n",
              " ('por', 120)]"
            ]
          },
          "metadata": {
            "tags": []
          },
          "execution_count": 67
        }
      ]
    },
    {
      "metadata": {
        "id": "AGleO96tVDf4",
        "colab_type": "code",
        "colab": {}
      },
      "cell_type": "code",
      "source": [
        "max_vocab = 60000\n",
        "min_freq = 2"
      ],
      "execution_count": 0,
      "outputs": []
    },
    {
      "metadata": {
        "id": "xdUPieuiVDgC",
        "colab_type": "code",
        "colab": {
          "base_uri": "https://localhost:8080/",
          "height": 34
        },
        "outputId": "400e43f9-5730-4004-c0ee-dd6a77ff771f"
      },
      "cell_type": "code",
      "source": [
        "itos = [o for o,c in freq.most_common(max_vocab) if c>min_freq]\n",
        "itos.insert(0, '_pad_')\n",
        "itos.insert(0, '_unk_')\n",
        "\n",
        "stoi = collections.defaultdict(lambda:0, {v:k for k,v in enumerate(itos)})\n",
        "len(itos)"
      ],
      "execution_count": 69,
      "outputs": [
        {
          "output_type": "execute_result",
          "data": {
            "text/plain": [
              "603"
            ]
          },
          "metadata": {
            "tags": []
          },
          "execution_count": 69
        }
      ]
    },
    {
      "metadata": {
        "id": "0rYVKpkeVDgG",
        "colab_type": "code",
        "colab": {}
      },
      "cell_type": "code",
      "source": [
        "trn_lm = np.array([[stoi[o] for o in p] for p in tok_trn])\n",
        "val_lm = np.array([[stoi[o] for o in p] for p in tok_val])"
      ],
      "execution_count": 0,
      "outputs": []
    },
    {
      "metadata": {
        "id": "VO6rJoj5VDgO",
        "colab_type": "code",
        "colab": {}
      },
      "cell_type": "code",
      "source": [
        "np.save('tmp/trn_ids.npy', trn_lm)\n",
        "np.save('tmp/val_ids.npy', val_lm)\n",
        "pickle.dump(itos, open('tmp/itos.pkl', 'wb'))"
      ],
      "execution_count": 0,
      "outputs": []
    },
    {
      "metadata": {
        "id": "fX0WqerLVDgT",
        "colab_type": "code",
        "colab": {
          "base_uri": "https://localhost:8080/",
          "height": 17
        },
        "outputId": "15c7e0ca-c5f5-46ce-8950-ae117d4c3734"
      },
      "cell_type": "code",
      "source": [
        "%%javascript\n",
        "Jupyter.beep();"
      ],
      "execution_count": 72,
      "outputs": [
        {
          "output_type": "display_data",
          "data": {
            "application/javascript": [
              "Jupyter.beep();"
            ],
            "text/plain": [
              "<IPython.core.display.Javascript object>"
            ]
          },
          "metadata": {
            "tags": []
          }
        }
      ]
    },
    {
      "metadata": {
        "id": "Gns6mEE3VDgc",
        "colab_type": "text"
      },
      "cell_type": "markdown",
      "source": [
        "## Load Encoder Weights for Language Model"
      ]
    },
    {
      "metadata": {
        "id": "P8h6GFCYVDgd",
        "colab_type": "code",
        "colab": {}
      },
      "cell_type": "code",
      "source": [
        "BACKBONE_MODEL = WIKILM_PATH/'models+100/lm1_weights_kl.h5'"
      ],
      "execution_count": 0,
      "outputs": []
    },
    {
      "metadata": {
        "id": "6vhDAat3VDgg",
        "colab_type": "code",
        "colab": {}
      },
      "cell_type": "code",
      "source": [
        "wgts = torch.load(BACKBONE_MODEL, map_location=lambda storage, loc: storage)"
      ],
      "execution_count": 0,
      "outputs": []
    },
    {
      "metadata": {
        "id": "pdNmQte_VDgi",
        "colab_type": "text"
      },
      "cell_type": "markdown",
      "source": [
        "We calculate the mean of the layer0 encoder weights. This can be used to assign weights to unknown tokens when we transfer to target IMDB LM."
      ]
    },
    {
      "metadata": {
        "id": "uQ7UFEDlVDgj",
        "colab_type": "code",
        "colab": {}
      },
      "cell_type": "code",
      "source": [
        "enc_wgts = to_np(wgts['0.encoder.weight'])\n",
        "row_m = enc_wgts.mean(0)"
      ],
      "execution_count": 0,
      "outputs": []
    },
    {
      "metadata": {
        "id": "QULLjB0eVDgm",
        "colab_type": "code",
        "colab": {}
      },
      "cell_type": "code",
      "source": [
        "itos2 = pickle.load((WIKILM_PATH/'tmp+100'/'itos+100.pkl').open('rb'))\n",
        "stoi2 = collections.defaultdict(lambda:-1, {v:k for k,v in enumerate(itos2)})"
      ],
      "execution_count": 0,
      "outputs": []
    },
    {
      "metadata": {
        "id": "f3dWJnw_VDgs",
        "colab_type": "text"
      },
      "cell_type": "markdown",
      "source": [
        "Before we try to transfer the knowledge from wikitext to the IMDB LM, we match up the vocab words and their indexes. We use the defaultdict container once again, to assign mean weights to unknown IMDB tokens that do not exist in wikitext103."
      ]
    },
    {
      "metadata": {
        "id": "AzH1G3NhVDgs",
        "colab_type": "code",
        "colab": {}
      },
      "cell_type": "code",
      "source": [
        "em_sz,nh,nl = 400,1150,3"
      ],
      "execution_count": 0,
      "outputs": []
    },
    {
      "metadata": {
        "id": "mz7hV_orVDgu",
        "colab_type": "code",
        "colab": {}
      },
      "cell_type": "code",
      "source": [
        "trn_lm = np.load(TASSLM_PATH/'tmp'/'trn_ids.npy')\n",
        "val_lm = np.load(TASSLM_PATH/'tmp'/'val_ids.npy')\n",
        "itos = pickle.load(open(TASSLM_PATH/'tmp'/'itos.pkl', 'rb'))"
      ],
      "execution_count": 0,
      "outputs": []
    },
    {
      "metadata": {
        "id": "ZBeFSprxVDg0",
        "colab_type": "code",
        "colab": {},
        "outputId": "34bbad5a-8315-4472-9b4b-1918e14f1953"
      },
      "cell_type": "code",
      "source": [
        "vs=len(itos)\n",
        "vs,len(trn_lm)"
      ],
      "execution_count": 0,
      "outputs": [
        {
          "output_type": "execute_result",
          "data": {
            "text/plain": [
              "(3654, 5774)"
            ]
          },
          "metadata": {
            "tags": []
          },
          "execution_count": 10
        }
      ]
    },
    {
      "metadata": {
        "id": "wO4XboIZVDg4",
        "colab_type": "code",
        "colab": {}
      },
      "cell_type": "code",
      "source": [
        "new_w = np.zeros((vs, em_sz), dtype=np.float32)\n",
        "for i,w in enumerate(itos):\n",
        "    r = stoi2[w]\n",
        "    new_w[i] = enc_wgts[r] if r>=0 else row_m"
      ],
      "execution_count": 0,
      "outputs": []
    },
    {
      "metadata": {
        "id": "T_XUBXwCVDg8",
        "colab_type": "text"
      },
      "cell_type": "markdown",
      "source": [
        "\"We now overwrite the weights into the wgts odict. The decoder module, which we will explore in detail is also loaded with the same weights due to an idea called weight tying.\""
      ]
    },
    {
      "metadata": {
        "id": "dsIupANSVDg9",
        "colab_type": "code",
        "colab": {}
      },
      "cell_type": "code",
      "source": [
        "wgts['0.encoder.weight'] = T(new_w)\n",
        "wgts['0.encoder_with_dropout.embed.weight'] = T(np.copy(new_w))\n",
        "wgts['1.decoder.weight'] = T(np.copy(new_w))"
      ],
      "execution_count": 0,
      "outputs": []
    },
    {
      "metadata": {
        "id": "WJwE3PjMVDg_",
        "colab_type": "text"
      },
      "cell_type": "markdown",
      "source": [
        "## Language Model Finetuning"
      ]
    },
    {
      "metadata": {
        "id": "fRwmGHR7VDhA",
        "colab_type": "code",
        "colab": {}
      },
      "cell_type": "code",
      "source": [
        "wd=1e-7\n",
        "bptt=70\n",
        "bs=64\n",
        "em_sz,nh,nl = 400,1150,3\n",
        "opt_fn = partial(optim.SGD, momentum=0.9)"
      ],
      "execution_count": 0,
      "outputs": []
    },
    {
      "metadata": {
        "id": "673JMqpOVDhD",
        "colab_type": "code",
        "colab": {}
      },
      "cell_type": "code",
      "source": [
        "trn_lm = np.load(TASSLM_PATH/'tmp'/'trn_ids.npy')\n",
        "val_lm = np.load(TASSLM_PATH/'tmp'/'val_ids.npy')\n",
        "trn_lm = np.concatenate(trn_lm)\n",
        "val_lm = np.concatenate(val_lm)"
      ],
      "execution_count": 0,
      "outputs": []
    },
    {
      "metadata": {
        "id": "XhhYVtLGVDhG",
        "colab_type": "code",
        "colab": {}
      },
      "cell_type": "code",
      "source": [
        "itos = pickle.load(open(TASSLM_PATH/'tmp'/'itos.pkl', 'rb'))\n",
        "vs = len(itos)\n",
        "\n",
        "trn_dl = LanguageModelLoader(trn_lm, bs, bptt)\n",
        "val_dl = LanguageModelLoader(val_lm, bs, bptt)\n",
        "md = LanguageModelData(TASSLM_PATH, 1, vs, trn_dl, val_dl, bs=bs, bptt=bptt)"
      ],
      "execution_count": 0,
      "outputs": []
    },
    {
      "metadata": {
        "id": "NyJkdYZBVDhK",
        "colab_type": "code",
        "colab": {}
      },
      "cell_type": "code",
      "source": [
        "drops = np.array([0.25, 0.1, 0.2, 0.02, 0.15])*0.7"
      ],
      "execution_count": 0,
      "outputs": []
    },
    {
      "metadata": {
        "id": "M6LihfoqVDhP",
        "colab_type": "code",
        "colab": {}
      },
      "cell_type": "code",
      "source": [
        "learn = md.get_model(opt_fn, em_sz, nh, nl, \n",
        "    dropouti=drops[0], dropout=drops[1], wdrop=drops[2], dropoute=drops[3], dropouth=drops[4])\n",
        "\n",
        "learn.metrics = [accuracy]\n",
        "learn.unfreeze()"
      ],
      "execution_count": 0,
      "outputs": []
    },
    {
      "metadata": {
        "id": "qfWpIix6VDhR",
        "colab_type": "code",
        "colab": {}
      },
      "cell_type": "code",
      "source": [
        "learn.model.load_state_dict(wgts)"
      ],
      "execution_count": 0,
      "outputs": []
    },
    {
      "metadata": {
        "id": "jSW064L-VDhU",
        "colab_type": "code",
        "colab": {},
        "outputId": "48c08a48-bab2-432c-8851-4642bc480b38"
      },
      "cell_type": "code",
      "source": [
        "learn.lr_find2(start_lr=1e-1,end_lr=30, num_it=300)"
      ],
      "execution_count": 0,
      "outputs": [
        {
          "output_type": "display_data",
          "data": {
            "application/vnd.jupyter.widget-view+json": {
              "model_id": "e874683f6af24b5bb036d576f6c5fea3",
              "version_major": 2,
              "version_minor": 0
            },
            "text/plain": [
              "HBox(children=(IntProgress(value=0, description='Epoch', max=12), HTML(value='')))"
            ]
          },
          "metadata": {
            "tags": []
          }
        },
        {
          "output_type": "stream",
          "text": [
            "                                                          \r"
          ],
          "name": "stdout"
        }
      ]
    },
    {
      "metadata": {
        "id": "9cyh-3SIVDha",
        "colab_type": "code",
        "colab": {},
        "outputId": "83e9c633-e873-446d-b0d4-f9d5599b3aa6"
      },
      "cell_type": "code",
      "source": [
        "learn.sched.plot()"
      ],
      "execution_count": 0,
      "outputs": [
        {
          "output_type": "display_data",
          "data": {
            "image/png": "[encoded data removed]",
            "text/plain": [
              "<Figure size 432x864 with 3 Axes>"
            ]
          },
          "metadata": {
            "tags": []
          }
        }
      ]
    },
    {
      "metadata": {
        "id": "s93CV1upVDhe",
        "colab_type": "code",
        "colab": {}
      },
      "cell_type": "code",
      "source": [
        "lr=10\n",
        "lrs = lr"
      ],
      "execution_count": 0,
      "outputs": []
    },
    {
      "metadata": {
        "id": "e7AaPcg6VDhh",
        "colab_type": "code",
        "colab": {}
      },
      "cell_type": "code",
      "source": [
        "learn.clip=0.12"
      ],
      "execution_count": 0,
      "outputs": []
    },
    {
      "metadata": {
        "id": "E5GbasjFVDhk",
        "colab_type": "code",
        "colab": {},
        "outputId": "8f9e15d7-20be-470d-fce2-f009559e05a0"
      },
      "cell_type": "code",
      "source": [
        "learn.fit(lr, 1, cycle_len=10, use_clr_beta=(10,33,0.95,0.85), best_save_name='lm1_wgts')"
      ],
      "execution_count": 0,
      "outputs": [
        {
          "output_type": "display_data",
          "data": {
            "application/vnd.jupyter.widget-view+json": {
              "model_id": "a11d89cc192346428c4c137c0ba2ab37",
              "version_major": 2,
              "version_minor": 0
            },
            "text/plain": [
              "HBox(children=(IntProgress(value=0, description='Epoch', max=10), HTML(value='')))"
            ]
          },
          "metadata": {
            "tags": []
          }
        },
        {
          "output_type": "stream",
          "text": [
            "epoch      trn_loss   val_loss   accuracy                 \n",
            "    0      4.853143   3.974472   0.288784  \n",
            "    1      4.339055   3.731294   0.297303                 \n",
            "    2      4.065951   3.656287   0.305585                 \n",
            "    3      3.859634   3.580975   0.316899                 \n",
            "    4      3.701328   3.558885   0.314969                 \n",
            "    5      3.558439   3.542998   0.31929                  \n",
            "    6      3.437419   3.539674   0.322704                 \n",
            "    7      3.340056   3.527992   0.325185                 \n",
            "    8      3.278157   3.538889   0.322388                 \n",
            "    9      3.234205   3.536332   0.323139                 \n"
          ],
          "name": "stdout"
        },
        {
          "output_type": "execute_result",
          "data": {
            "text/plain": [
              "[array([3.53633]), 0.32313938438892365]"
            ]
          },
          "metadata": {
            "tags": []
          },
          "execution_count": 23
        }
      ]
    },
    {
      "metadata": {
        "id": "w-J1y0NaVDhn",
        "colab_type": "code",
        "colab": {}
      },
      "cell_type": "code",
      "source": [
        "learn.load('lm1_wgts')\n",
        "learn.save_encoder('lm1_enc')"
      ],
      "execution_count": 0,
      "outputs": []
    },
    {
      "metadata": {
        "id": "TB4ZgDEuVDhp",
        "colab_type": "code",
        "colab": {},
        "outputId": "5b857fe7-0933-4e32-ad3b-9f7ab1b524cd"
      },
      "cell_type": "code",
      "source": [
        "%%javascript\n",
        "Jupyter.beep();"
      ],
      "execution_count": 0,
      "outputs": [
        {
          "output_type": "display_data",
          "data": {
            "application/javascript": [
              "Jupyter.beep();"
            ],
            "text/plain": [
              "<IPython.core.display.Javascript object>"
            ]
          },
          "metadata": {
            "tags": []
          }
        }
      ]
    },
    {
      "metadata": {
        "id": "VkjjPq_4VDhs",
        "colab_type": "text"
      },
      "cell_type": "markdown",
      "source": [
        "## Classifier tokens"
      ]
    },
    {
      "metadata": {
        "id": "d_VDi7GyVDht",
        "colab_type": "code",
        "colab": {}
      },
      "cell_type": "code",
      "source": [
        "chunksize=24000\n",
        "\n",
        "re1 = re.compile(r'  +')"
      ],
      "execution_count": 0,
      "outputs": []
    },
    {
      "metadata": {
        "id": "CD8pWNOrVDhv",
        "colab_type": "code",
        "colab": {}
      },
      "cell_type": "code",
      "source": [
        "df_trn = pd.read_csv(CLAS_PATH/'train.csv', header=None, chunksize=chunksize)\n",
        "df_tst = pd.read_csv(CLAS_PATH/'validation.csv', header=None, chunksize=chunksize)\n",
        "df_val = pd.read_csv(CLAS_PATH/'test.csv', header=None, chunksize=chunksize)"
      ],
      "execution_count": 0,
      "outputs": []
    },
    {
      "metadata": {
        "id": "LsJgH5geVDhy",
        "colab_type": "code",
        "colab": {}
      },
      "cell_type": "code",
      "source": [
        "tok_trn, trn_labels = get_all(df_trn, 1)\n",
        "tok_val, val_labels = get_all(df_val, 1)\n",
        "tok_tst, tst_labels = get_all(df_tst, 1)"
      ],
      "execution_count": 0,
      "outputs": []
    },
    {
      "metadata": {
        "id": "lENNS8URVDh1",
        "colab_type": "code",
        "colab": {}
      },
      "cell_type": "code",
      "source": [
        "(CLAS_PATH/'tmp').mkdir(exist_ok=True)"
      ],
      "execution_count": 0,
      "outputs": []
    },
    {
      "metadata": {
        "id": "BTrep19pVDh2",
        "colab_type": "code",
        "colab": {}
      },
      "cell_type": "code",
      "source": [
        "np.save(CLAS_PATH/'tmp'/'tok_trn.npy', tok_trn)\n",
        "np.save(CLAS_PATH/'tmp'/'tok_val.npy', tok_val)\n",
        "np.save(CLAS_PATH/'tmp'/'tok_tst.npy', tok_tst)"
      ],
      "execution_count": 0,
      "outputs": []
    },
    {
      "metadata": {
        "id": "O_qAknaPVDh5",
        "colab_type": "code",
        "colab": {}
      },
      "cell_type": "code",
      "source": [
        "np.save(CLAS_PATH/'tmp'/'trn_labels.npy', trn_labels)\n",
        "np.save(CLAS_PATH/'tmp'/'val_labels.npy', val_labels)\n",
        "np.save(CLAS_PATH/'tmp'/'tst_labels.npy', tst_labels)"
      ],
      "execution_count": 0,
      "outputs": []
    },
    {
      "metadata": {
        "id": "7f5Y_Vx3VDh8",
        "colab_type": "code",
        "colab": {}
      },
      "cell_type": "code",
      "source": [
        "tok_trn = np.load(CLAS_PATH/'tmp'/'tok_trn.npy')\n",
        "tok_val = np.load(CLAS_PATH/'tmp'/'tok_val.npy')\n",
        "tok_tst = np.load(CLAS_PATH/'tmp'/'tok_tst.npy')"
      ],
      "execution_count": 0,
      "outputs": []
    },
    {
      "metadata": {
        "id": "eqyjP3zCVDiB",
        "colab_type": "code",
        "colab": {},
        "outputId": "dc6c83b3-c588-47dc-92d8-c74c29ef9a59"
      },
      "cell_type": "code",
      "source": [
        "itos = pickle.load((TASSLM_PATH/'tmp'/'itos.pkl').open('rb'))\n",
        "stoi = collections.defaultdict(lambda:0, {v:k for k,v in enumerate(itos)})\n",
        "len(itos)"
      ],
      "execution_count": 0,
      "outputs": [
        {
          "output_type": "execute_result",
          "data": {
            "text/plain": [
              "3654"
            ]
          },
          "metadata": {
            "tags": []
          },
          "execution_count": 14
        }
      ]
    },
    {
      "metadata": {
        "id": "R9bAtgy5VDiH",
        "colab_type": "code",
        "colab": {}
      },
      "cell_type": "code",
      "source": [
        "trn_clas = np.array([[stoi[o] for o in p] for p in tok_trn])\n",
        "val_clas = np.array([[stoi[o] for o in p] for p in tok_val])\n",
        "tst_clas = np.array([[stoi[o] for o in p] for p in tok_tst])"
      ],
      "execution_count": 0,
      "outputs": []
    },
    {
      "metadata": {
        "id": "8CaQ-1mKVDiK",
        "colab_type": "code",
        "colab": {}
      },
      "cell_type": "code",
      "source": [
        "np.save(CLAS_PATH/'tmp'/'trn_ids.npy', trn_clas)\n",
        "np.save(CLAS_PATH/'tmp'/'val_ids.npy', val_clas)\n",
        "np.save(CLAS_PATH/'tmp'/'tst_ids.npy', tst_clas)"
      ],
      "execution_count": 0,
      "outputs": []
    },
    {
      "metadata": {
        "id": "df8sv997VDiN",
        "colab_type": "text"
      },
      "cell_type": "markdown",
      "source": [
        "## Classifier"
      ]
    },
    {
      "metadata": {
        "id": "Cp0Sxkz-VDiO",
        "colab_type": "text"
      },
      "cell_type": "markdown",
      "source": [
        "Parameters here were obtained from imdb notebook from fastai"
      ]
    },
    {
      "metadata": {
        "id": "s041NworVDiO",
        "colab_type": "code",
        "colab": {}
      },
      "cell_type": "code",
      "source": [
        "trn_clas = np.load(CLAS_PATH/'tmp'/'trn_ids.npy')\n",
        "val_clas = np.load(CLAS_PATH/'tmp'/'val_ids.npy')"
      ],
      "execution_count": 0,
      "outputs": []
    },
    {
      "metadata": {
        "id": "HhKh3LSbVDiQ",
        "colab_type": "code",
        "colab": {}
      },
      "cell_type": "code",
      "source": [
        "trn_labels = np.squeeze(np.load(CLAS_PATH/'tmp'/'trn_labels.npy'))\n",
        "val_labels = np.squeeze(np.load(CLAS_PATH/'tmp'/'val_labels.npy'))"
      ],
      "execution_count": 0,
      "outputs": []
    },
    {
      "metadata": {
        "id": "-Fqd9OwAVDiU",
        "colab_type": "code",
        "colab": {}
      },
      "cell_type": "code",
      "source": [
        "bptt,em_sz,nh,nl = 70,400,1150,3\n",
        "vs = len(itos)\n",
        "opt_fn = partial(optim.Adam, betas=(0.8, 0.99))\n",
        "bs = 48"
      ],
      "execution_count": 0,
      "outputs": []
    },
    {
      "metadata": {
        "id": "F31RTXR6VDiY",
        "colab_type": "code",
        "colab": {}
      },
      "cell_type": "code",
      "source": [
        "min_lbl = trn_labels.min()\n",
        "trn_labels -= min_lbl\n",
        "val_labels -= min_lbl\n",
        "c=int(trn_labels.max())+1"
      ],
      "execution_count": 0,
      "outputs": []
    },
    {
      "metadata": {
        "id": "3GtDxzZJVDij",
        "colab_type": "text"
      },
      "cell_type": "markdown",
      "source": [
        "In the classifier, unlike LM, we need to read a movie review at a time and learn to predict the it's sentiment as pos/neg. We do not deal with equal bptt size batches, so we have to pad the sequences to the same length in each batch. To create batches of similar sized movie reviews, we use a sortish sampler method invented by [@Smerity](https://twitter.com/Smerity) and [@jekbradbury](https://twitter.com/jekbradbury)\n",
        "\n",
        "The sortishSampler cuts down the overall number of padding tokens the classifier ends up seeing."
      ]
    },
    {
      "metadata": {
        "id": "1qRWhQvaVDik",
        "colab_type": "code",
        "colab": {}
      },
      "cell_type": "code",
      "source": [
        "trn_ds = TextDataset(trn_clas, trn_labels)\n",
        "val_ds = TextDataset(val_clas, val_labels)\n",
        "trn_samp = SortishSampler(trn_clas, key=lambda x: len(trn_clas[x]), bs=bs//2)\n",
        "val_samp = SortSampler(val_clas, key=lambda x: len(val_clas[x]))\n",
        "trn_dl = DataLoader(trn_ds, bs//2, transpose=True, num_workers=1, pad_idx=1, sampler=trn_samp)\n",
        "val_dl = DataLoader(val_ds, bs, transpose=True, num_workers=1, pad_idx=1, sampler=val_samp)\n",
        "md = ModelData(TASSLM_PATH, trn_dl, val_dl)"
      ],
      "execution_count": 0,
      "outputs": []
    },
    {
      "metadata": {
        "id": "bt8bozmEVDim",
        "colab_type": "code",
        "colab": {}
      },
      "cell_type": "code",
      "source": [
        "dps = np.array([0.4,0.5,0.05,0.3,0.4])*0.8"
      ],
      "execution_count": 0,
      "outputs": []
    },
    {
      "metadata": {
        "id": "7uEIidaTVDiq",
        "colab_type": "code",
        "colab": {}
      },
      "cell_type": "code",
      "source": [
        "m = get_rnn_classifer(bptt, 20*70, c, vs, emb_sz=em_sz, n_hid=nh, n_layers=nl, pad_token=1,\n",
        "          layers=[em_sz*3, 50, c], drops=[dps[4], 0.1],\n",
        "          dropouti=dps[0], wdrop=dps[1], dropoute=dps[2], dropouth=dps[3])"
      ],
      "execution_count": 0,
      "outputs": []
    },
    {
      "metadata": {
        "id": "e--gvcSDVDis",
        "colab_type": "code",
        "colab": {}
      },
      "cell_type": "code",
      "source": [
        "opt_fn = partial(optim.Adam, betas=(0.7, 0.99))"
      ],
      "execution_count": 0,
      "outputs": []
    },
    {
      "metadata": {
        "id": "PJmMkmzAVDit",
        "colab_type": "code",
        "colab": {}
      },
      "cell_type": "code",
      "source": [
        "learn = RNN_Learner(md, TextModel(to_gpu(m)), opt_fn=opt_fn)\n",
        "learn.reg_fn = partial(seq2seq_reg, alpha=2, beta=1)\n",
        "learn.clip=.12\n",
        "learn.metrics = [accuracy]"
      ],
      "execution_count": 0,
      "outputs": []
    },
    {
      "metadata": {
        "id": "QYHkIlipVDiv",
        "colab_type": "code",
        "colab": {}
      },
      "cell_type": "code",
      "source": [
        "lr=3e-3\n",
        "lrm = 2.6\n",
        "lrs = np.array([lr/(lrm**4), lr/(lrm**3), lr/(lrm**2), lr/lrm, lr])"
      ],
      "execution_count": 0,
      "outputs": []
    },
    {
      "metadata": {
        "id": "IUklgMhqVDiy",
        "colab_type": "code",
        "colab": {}
      },
      "cell_type": "code",
      "source": [
        "lrs=np.array([1e-4,1e-4,1e-4,1e-3,1e-2])"
      ],
      "execution_count": 0,
      "outputs": []
    },
    {
      "metadata": {
        "id": "vKqiAaAMVDi3",
        "colab_type": "code",
        "colab": {}
      },
      "cell_type": "code",
      "source": [
        "#wd = 1e-7\n",
        "learn.load_encoder('lm1_enc')"
      ],
      "execution_count": 0,
      "outputs": []
    },
    {
      "metadata": {
        "id": "MndTwv37VDi5",
        "colab_type": "code",
        "colab": {}
      },
      "cell_type": "code",
      "source": [
        "learn.freeze_to(-1)"
      ],
      "execution_count": 0,
      "outputs": []
    },
    {
      "metadata": {
        "id": "AYldIPZzVDi6",
        "colab_type": "code",
        "colab": {},
        "outputId": "5bbf4467-d7db-4d5b-eab8-65d362ef8176"
      },
      "cell_type": "code",
      "source": [
        "learn.lr_find2(start_lr=1e-3,end_lr=1, num_it=300)\n",
        "learn.sched.plot()"
      ],
      "execution_count": 0,
      "outputs": [
        {
          "output_type": "display_data",
          "data": {
            "application/vnd.jupyter.widget-view+json": {
              "model_id": "b34ac00b3f4f49cca9456ca0804896c7",
              "version_major": 2,
              "version_minor": 0
            },
            "text/plain": [
              "HBox(children=(IntProgress(value=0, description='Epoch', max=2), HTML(value='')))"
            ]
          },
          "metadata": {
            "tags": []
          }
        },
        {
          "output_type": "stream",
          "text": [
            " 31%|███       | 59/191 [00:02<00:05, 25.36it/s, loss=0.945]\n"
          ],
          "name": "stdout"
        },
        {
          "output_type": "error",
          "ename": "KeyboardInterrupt",
          "evalue": "",
          "traceback": [
            "\u001b[0;31m---------------------------------------------------------------------------\u001b[0m",
            "\u001b[0;31mKeyboardInterrupt\u001b[0m                         Traceback (most recent call last)",
            "\u001b[0;32m<ipython-input-86-f9ddf1910bf9>\u001b[0m in \u001b[0;36m<module>\u001b[0;34m()\u001b[0m\n\u001b[0;32m----> 1\u001b[0;31m \u001b[0mlearn\u001b[0m\u001b[0;34m.\u001b[0m\u001b[0mlr_find2\u001b[0m\u001b[0;34m(\u001b[0m\u001b[0mstart_lr\u001b[0m\u001b[0;34m=\u001b[0m\u001b[0;36m1e-3\u001b[0m\u001b[0;34m,\u001b[0m\u001b[0mend_lr\u001b[0m\u001b[0;34m=\u001b[0m\u001b[0;36m1\u001b[0m\u001b[0;34m,\u001b[0m \u001b[0mnum_it\u001b[0m\u001b[0;34m=\u001b[0m\u001b[0;36m300\u001b[0m\u001b[0;34m)\u001b[0m\u001b[0;34m\u001b[0m\u001b[0m\n\u001b[0m\u001b[1;32m      2\u001b[0m \u001b[0mlearn\u001b[0m\u001b[0;34m.\u001b[0m\u001b[0msched\u001b[0m\u001b[0;34m.\u001b[0m\u001b[0mplot\u001b[0m\u001b[0;34m(\u001b[0m\u001b[0;34m)\u001b[0m\u001b[0;34m\u001b[0m\u001b[0m\n",
            "\u001b[0;32m~/fastai/fastai/learner.py\u001b[0m in \u001b[0;36mlr_find2\u001b[0;34m(self, start_lr, end_lr, num_it, wds, linear, stop_dv, **kwargs)\u001b[0m\n\u001b[1;32m    349\u001b[0m         \u001b[0mlayer_opt\u001b[0m \u001b[0;34m=\u001b[0m \u001b[0mself\u001b[0m\u001b[0;34m.\u001b[0m\u001b[0mget_layer_opt\u001b[0m\u001b[0;34m(\u001b[0m\u001b[0mstart_lr\u001b[0m\u001b[0;34m,\u001b[0m \u001b[0mwds\u001b[0m\u001b[0;34m)\u001b[0m\u001b[0;34m\u001b[0m\u001b[0m\n\u001b[1;32m    350\u001b[0m         \u001b[0mself\u001b[0m\u001b[0;34m.\u001b[0m\u001b[0msched\u001b[0m \u001b[0;34m=\u001b[0m \u001b[0mLR_Finder2\u001b[0m\u001b[0;34m(\u001b[0m\u001b[0mlayer_opt\u001b[0m\u001b[0;34m,\u001b[0m \u001b[0mnum_it\u001b[0m\u001b[0;34m,\u001b[0m \u001b[0mend_lr\u001b[0m\u001b[0;34m,\u001b[0m \u001b[0mlinear\u001b[0m\u001b[0;34m=\u001b[0m\u001b[0mlinear\u001b[0m\u001b[0;34m,\u001b[0m \u001b[0mmetrics\u001b[0m\u001b[0;34m=\u001b[0m\u001b[0mself\u001b[0m\u001b[0;34m.\u001b[0m\u001b[0mmetrics\u001b[0m\u001b[0;34m,\u001b[0m \u001b[0mstop_dv\u001b[0m\u001b[0;34m=\u001b[0m\u001b[0mstop_dv\u001b[0m\u001b[0;34m)\u001b[0m\u001b[0;34m\u001b[0m\u001b[0m\n\u001b[0;32m--> 351\u001b[0;31m         \u001b[0mself\u001b[0m\u001b[0;34m.\u001b[0m\u001b[0mfit_gen\u001b[0m\u001b[0;34m(\u001b[0m\u001b[0mself\u001b[0m\u001b[0;34m.\u001b[0m\u001b[0mmodel\u001b[0m\u001b[0;34m,\u001b[0m \u001b[0mself\u001b[0m\u001b[0;34m.\u001b[0m\u001b[0mdata\u001b[0m\u001b[0;34m,\u001b[0m \u001b[0mlayer_opt\u001b[0m\u001b[0;34m,\u001b[0m \u001b[0mnum_it\u001b[0m\u001b[0;34m//\u001b[0m\u001b[0mlen\u001b[0m\u001b[0;34m(\u001b[0m\u001b[0mself\u001b[0m\u001b[0;34m.\u001b[0m\u001b[0mdata\u001b[0m\u001b[0;34m.\u001b[0m\u001b[0mtrn_dl\u001b[0m\u001b[0;34m)\u001b[0m \u001b[0;34m+\u001b[0m \u001b[0;36m1\u001b[0m\u001b[0;34m,\u001b[0m \u001b[0mall_val\u001b[0m\u001b[0;34m=\u001b[0m\u001b[0;32mTrue\u001b[0m\u001b[0;34m,\u001b[0m \u001b[0;34m**\u001b[0m\u001b[0mkwargs\u001b[0m\u001b[0;34m)\u001b[0m\u001b[0;34m\u001b[0m\u001b[0m\n\u001b[0m\u001b[1;32m    352\u001b[0m         \u001b[0mself\u001b[0m\u001b[0;34m.\u001b[0m\u001b[0mload\u001b[0m\u001b[0;34m(\u001b[0m\u001b[0;34m'tmp'\u001b[0m\u001b[0;34m)\u001b[0m\u001b[0;34m\u001b[0m\u001b[0m\n\u001b[1;32m    353\u001b[0m \u001b[0;34m\u001b[0m\u001b[0m\n",
            "\u001b[0;32m~/fastai/fastai/learner.py\u001b[0m in \u001b[0;36mfit_gen\u001b[0;34m(self, model, data, layer_opt, n_cycle, cycle_len, cycle_mult, cycle_save_name, best_save_name, use_clr, use_clr_beta, metrics, callbacks, use_wd_sched, norm_wds, wds_sched_mult, use_swa, swa_start, swa_eval_freq, **kwargs)\u001b[0m\n\u001b[1;32m    232\u001b[0m             \u001b[0mmetrics\u001b[0m\u001b[0;34m=\u001b[0m\u001b[0mmetrics\u001b[0m\u001b[0;34m,\u001b[0m \u001b[0mcallbacks\u001b[0m\u001b[0;34m=\u001b[0m\u001b[0mcallbacks\u001b[0m\u001b[0;34m,\u001b[0m \u001b[0mreg_fn\u001b[0m\u001b[0;34m=\u001b[0m\u001b[0mself\u001b[0m\u001b[0;34m.\u001b[0m\u001b[0mreg_fn\u001b[0m\u001b[0;34m,\u001b[0m \u001b[0mclip\u001b[0m\u001b[0;34m=\u001b[0m\u001b[0mself\u001b[0m\u001b[0;34m.\u001b[0m\u001b[0mclip\u001b[0m\u001b[0;34m,\u001b[0m \u001b[0mfp16\u001b[0m\u001b[0;34m=\u001b[0m\u001b[0mself\u001b[0m\u001b[0;34m.\u001b[0m\u001b[0mfp16\u001b[0m\u001b[0;34m,\u001b[0m\u001b[0;34m\u001b[0m\u001b[0m\n\u001b[1;32m    233\u001b[0m             \u001b[0mswa_model\u001b[0m\u001b[0;34m=\u001b[0m\u001b[0mself\u001b[0m\u001b[0;34m.\u001b[0m\u001b[0mswa_model\u001b[0m \u001b[0;32mif\u001b[0m \u001b[0muse_swa\u001b[0m \u001b[0;32melse\u001b[0m \u001b[0;32mNone\u001b[0m\u001b[0;34m,\u001b[0m \u001b[0mswa_start\u001b[0m\u001b[0;34m=\u001b[0m\u001b[0mswa_start\u001b[0m\u001b[0;34m,\u001b[0m\u001b[0;34m\u001b[0m\u001b[0m\n\u001b[0;32m--> 234\u001b[0;31m             swa_eval_freq=swa_eval_freq, **kwargs)\n\u001b[0m\u001b[1;32m    235\u001b[0m \u001b[0;34m\u001b[0m\u001b[0m\n\u001b[1;32m    236\u001b[0m     \u001b[0;32mdef\u001b[0m \u001b[0mget_layer_groups\u001b[0m\u001b[0;34m(\u001b[0m\u001b[0mself\u001b[0m\u001b[0;34m)\u001b[0m\u001b[0;34m:\u001b[0m \u001b[0;32mreturn\u001b[0m \u001b[0mself\u001b[0m\u001b[0;34m.\u001b[0m\u001b[0mmodels\u001b[0m\u001b[0;34m.\u001b[0m\u001b[0mget_layer_groups\u001b[0m\u001b[0;34m(\u001b[0m\u001b[0;34m)\u001b[0m\u001b[0;34m\u001b[0m\u001b[0m\n",
            "\u001b[0;32m~/fastai/fastai/model.py\u001b[0m in \u001b[0;36mfit\u001b[0;34m(model, data, n_epochs, opt, crit, metrics, callbacks, stepper, swa_model, swa_start, swa_eval_freq, **kwargs)\u001b[0m\n\u001b[1;32m    143\u001b[0m             \u001b[0mt\u001b[0m\u001b[0;34m.\u001b[0m\u001b[0mset_postfix\u001b[0m\u001b[0;34m(\u001b[0m\u001b[0mloss\u001b[0m\u001b[0;34m=\u001b[0m\u001b[0mdebias_loss\u001b[0m\u001b[0;34m,\u001b[0m \u001b[0mrefresh\u001b[0m\u001b[0;34m=\u001b[0m\u001b[0;32mFalse\u001b[0m\u001b[0;34m)\u001b[0m\u001b[0;34m\u001b[0m\u001b[0m\n\u001b[1;32m    144\u001b[0m             \u001b[0mstop\u001b[0m\u001b[0;34m=\u001b[0m\u001b[0;32mFalse\u001b[0m\u001b[0;34m\u001b[0m\u001b[0m\n\u001b[0;32m--> 145\u001b[0;31m             \u001b[0mlos\u001b[0m \u001b[0;34m=\u001b[0m \u001b[0mdebias_loss\u001b[0m \u001b[0;32mif\u001b[0m \u001b[0;32mnot\u001b[0m \u001b[0mall_val\u001b[0m \u001b[0;32melse\u001b[0m \u001b[0;34m[\u001b[0m\u001b[0mdebias_loss\u001b[0m\u001b[0;34m]\u001b[0m \u001b[0;34m+\u001b[0m \u001b[0mvalidate_next\u001b[0m\u001b[0;34m(\u001b[0m\u001b[0mmodel_stepper\u001b[0m\u001b[0;34m,\u001b[0m\u001b[0mmetrics\u001b[0m\u001b[0;34m,\u001b[0m \u001b[0mval_iter\u001b[0m\u001b[0;34m)\u001b[0m\u001b[0;34m\u001b[0m\u001b[0m\n\u001b[0m\u001b[1;32m    146\u001b[0m             \u001b[0;32mfor\u001b[0m \u001b[0mcb\u001b[0m \u001b[0;32min\u001b[0m \u001b[0mcallbacks\u001b[0m\u001b[0;34m:\u001b[0m \u001b[0mstop\u001b[0m \u001b[0;34m=\u001b[0m \u001b[0mstop\u001b[0m \u001b[0;32mor\u001b[0m \u001b[0mcb\u001b[0m\u001b[0;34m.\u001b[0m\u001b[0mon_batch_end\u001b[0m\u001b[0;34m(\u001b[0m\u001b[0mlos\u001b[0m\u001b[0;34m)\u001b[0m\u001b[0;34m\u001b[0m\u001b[0m\n\u001b[1;32m    147\u001b[0m             \u001b[0;32mif\u001b[0m \u001b[0mstop\u001b[0m\u001b[0;34m:\u001b[0m \u001b[0;32mreturn\u001b[0m\u001b[0;34m\u001b[0m\u001b[0m\n",
            "\u001b[0;32m~/fastai/fastai/model.py\u001b[0m in \u001b[0;36mvalidate_next\u001b[0;34m(stepper, metrics, val_iter)\u001b[0m\n\u001b[1;32m    206\u001b[0m     \u001b[0;32mwith\u001b[0m \u001b[0mno_grad_context\u001b[0m\u001b[0;34m(\u001b[0m\u001b[0;34m)\u001b[0m\u001b[0;34m:\u001b[0m\u001b[0;34m\u001b[0m\u001b[0m\n\u001b[1;32m    207\u001b[0m         \u001b[0;34m(\u001b[0m\u001b[0;34m*\u001b[0m\u001b[0mx\u001b[0m\u001b[0;34m,\u001b[0m\u001b[0my\u001b[0m\u001b[0;34m)\u001b[0m \u001b[0;34m=\u001b[0m \u001b[0mval_iter\u001b[0m\u001b[0;34m.\u001b[0m\u001b[0mnext\u001b[0m\u001b[0;34m(\u001b[0m\u001b[0;34m)\u001b[0m\u001b[0;34m\u001b[0m\u001b[0m\n\u001b[0;32m--> 208\u001b[0;31m         \u001b[0mpreds\u001b[0m\u001b[0;34m,\u001b[0m\u001b[0ml\u001b[0m \u001b[0;34m=\u001b[0m \u001b[0mstepper\u001b[0m\u001b[0;34m.\u001b[0m\u001b[0mevaluate\u001b[0m\u001b[0;34m(\u001b[0m\u001b[0mVV\u001b[0m\u001b[0;34m(\u001b[0m\u001b[0mx\u001b[0m\u001b[0;34m)\u001b[0m\u001b[0;34m,\u001b[0m \u001b[0mVV\u001b[0m\u001b[0;34m(\u001b[0m\u001b[0my\u001b[0m\u001b[0;34m)\u001b[0m\u001b[0;34m)\u001b[0m\u001b[0;34m\u001b[0m\u001b[0m\n\u001b[0m\u001b[1;32m    209\u001b[0m         \u001b[0mres\u001b[0m \u001b[0;34m=\u001b[0m \u001b[0;34m[\u001b[0m\u001b[0mdelistify\u001b[0m\u001b[0;34m(\u001b[0m\u001b[0mto_np\u001b[0m\u001b[0;34m(\u001b[0m\u001b[0ml\u001b[0m\u001b[0;34m)\u001b[0m\u001b[0;34m)\u001b[0m\u001b[0;34m]\u001b[0m\u001b[0;34m\u001b[0m\u001b[0m\n\u001b[1;32m    210\u001b[0m         \u001b[0mres\u001b[0m \u001b[0;34m+=\u001b[0m \u001b[0;34m[\u001b[0m\u001b[0mf\u001b[0m\u001b[0;34m(\u001b[0m\u001b[0mpreds\u001b[0m\u001b[0;34m.\u001b[0m\u001b[0mdata\u001b[0m\u001b[0;34m,\u001b[0m\u001b[0my\u001b[0m\u001b[0;34m)\u001b[0m \u001b[0;32mfor\u001b[0m \u001b[0mf\u001b[0m \u001b[0;32min\u001b[0m \u001b[0mmetrics\u001b[0m\u001b[0;34m]\u001b[0m\u001b[0;34m\u001b[0m\u001b[0m\n",
            "\u001b[0;32m~/fastai/fastai/model.py\u001b[0m in \u001b[0;36mevaluate\u001b[0;34m(self, xs, y)\u001b[0m\n\u001b[1;32m     75\u001b[0m \u001b[0;34m\u001b[0m\u001b[0m\n\u001b[1;32m     76\u001b[0m     \u001b[0;32mdef\u001b[0m \u001b[0mevaluate\u001b[0m\u001b[0;34m(\u001b[0m\u001b[0mself\u001b[0m\u001b[0;34m,\u001b[0m \u001b[0mxs\u001b[0m\u001b[0;34m,\u001b[0m \u001b[0my\u001b[0m\u001b[0;34m)\u001b[0m\u001b[0;34m:\u001b[0m\u001b[0;34m\u001b[0m\u001b[0m\n\u001b[0;32m---> 77\u001b[0;31m         \u001b[0mpreds\u001b[0m \u001b[0;34m=\u001b[0m \u001b[0mself\u001b[0m\u001b[0;34m.\u001b[0m\u001b[0mm\u001b[0m\u001b[0;34m(\u001b[0m\u001b[0;34m*\u001b[0m\u001b[0mxs\u001b[0m\u001b[0;34m)\u001b[0m\u001b[0;34m\u001b[0m\u001b[0m\n\u001b[0m\u001b[1;32m     78\u001b[0m         \u001b[0;32mif\u001b[0m \u001b[0misinstance\u001b[0m\u001b[0;34m(\u001b[0m\u001b[0mpreds\u001b[0m\u001b[0;34m,\u001b[0m\u001b[0mtuple\u001b[0m\u001b[0;34m)\u001b[0m\u001b[0;34m:\u001b[0m \u001b[0mpreds\u001b[0m\u001b[0;34m=\u001b[0m\u001b[0mpreds\u001b[0m\u001b[0;34m[\u001b[0m\u001b[0;36m0\u001b[0m\u001b[0;34m]\u001b[0m\u001b[0;34m\u001b[0m\u001b[0m\n\u001b[1;32m     79\u001b[0m         \u001b[0;32mreturn\u001b[0m \u001b[0mpreds\u001b[0m\u001b[0;34m,\u001b[0m \u001b[0mself\u001b[0m\u001b[0;34m.\u001b[0m\u001b[0mcrit\u001b[0m\u001b[0;34m(\u001b[0m\u001b[0mpreds\u001b[0m\u001b[0;34m,\u001b[0m \u001b[0my\u001b[0m\u001b[0;34m)\u001b[0m\u001b[0;34m\u001b[0m\u001b[0m\n",
            "\u001b[0;32m~/anaconda3/envs/fastai/lib/python3.6/site-packages/torch/nn/modules/module.py\u001b[0m in \u001b[0;36m__call__\u001b[0;34m(self, *input, **kwargs)\u001b[0m\n\u001b[1;32m    355\u001b[0m             \u001b[0mresult\u001b[0m \u001b[0;34m=\u001b[0m \u001b[0mself\u001b[0m\u001b[0;34m.\u001b[0m\u001b[0m_slow_forward\u001b[0m\u001b[0;34m(\u001b[0m\u001b[0;34m*\u001b[0m\u001b[0minput\u001b[0m\u001b[0;34m,\u001b[0m \u001b[0;34m**\u001b[0m\u001b[0mkwargs\u001b[0m\u001b[0;34m)\u001b[0m\u001b[0;34m\u001b[0m\u001b[0m\n\u001b[1;32m    356\u001b[0m         \u001b[0;32melse\u001b[0m\u001b[0;34m:\u001b[0m\u001b[0;34m\u001b[0m\u001b[0m\n\u001b[0;32m--> 357\u001b[0;31m             \u001b[0mresult\u001b[0m \u001b[0;34m=\u001b[0m \u001b[0mself\u001b[0m\u001b[0;34m.\u001b[0m\u001b[0mforward\u001b[0m\u001b[0;34m(\u001b[0m\u001b[0;34m*\u001b[0m\u001b[0minput\u001b[0m\u001b[0;34m,\u001b[0m \u001b[0;34m**\u001b[0m\u001b[0mkwargs\u001b[0m\u001b[0;34m)\u001b[0m\u001b[0;34m\u001b[0m\u001b[0m\n\u001b[0m\u001b[1;32m    358\u001b[0m         \u001b[0;32mfor\u001b[0m \u001b[0mhook\u001b[0m \u001b[0;32min\u001b[0m \u001b[0mself\u001b[0m\u001b[0;34m.\u001b[0m\u001b[0m_forward_hooks\u001b[0m\u001b[0;34m.\u001b[0m\u001b[0mvalues\u001b[0m\u001b[0;34m(\u001b[0m\u001b[0;34m)\u001b[0m\u001b[0;34m:\u001b[0m\u001b[0;34m\u001b[0m\u001b[0m\n\u001b[1;32m    359\u001b[0m             \u001b[0mhook_result\u001b[0m \u001b[0;34m=\u001b[0m \u001b[0mhook\u001b[0m\u001b[0;34m(\u001b[0m\u001b[0mself\u001b[0m\u001b[0;34m,\u001b[0m \u001b[0minput\u001b[0m\u001b[0;34m,\u001b[0m \u001b[0mresult\u001b[0m\u001b[0;34m)\u001b[0m\u001b[0;34m\u001b[0m\u001b[0m\n",
            "\u001b[0;32m~/anaconda3/envs/fastai/lib/python3.6/site-packages/torch/nn/modules/container.py\u001b[0m in \u001b[0;36mforward\u001b[0;34m(self, input)\u001b[0m\n\u001b[1;32m     65\u001b[0m     \u001b[0;32mdef\u001b[0m \u001b[0mforward\u001b[0m\u001b[0;34m(\u001b[0m\u001b[0mself\u001b[0m\u001b[0;34m,\u001b[0m \u001b[0minput\u001b[0m\u001b[0;34m)\u001b[0m\u001b[0;34m:\u001b[0m\u001b[0;34m\u001b[0m\u001b[0m\n\u001b[1;32m     66\u001b[0m         \u001b[0;32mfor\u001b[0m \u001b[0mmodule\u001b[0m \u001b[0;32min\u001b[0m \u001b[0mself\u001b[0m\u001b[0;34m.\u001b[0m\u001b[0m_modules\u001b[0m\u001b[0;34m.\u001b[0m\u001b[0mvalues\u001b[0m\u001b[0;34m(\u001b[0m\u001b[0;34m)\u001b[0m\u001b[0;34m:\u001b[0m\u001b[0;34m\u001b[0m\u001b[0m\n\u001b[0;32m---> 67\u001b[0;31m             \u001b[0minput\u001b[0m \u001b[0;34m=\u001b[0m \u001b[0mmodule\u001b[0m\u001b[0;34m(\u001b[0m\u001b[0minput\u001b[0m\u001b[0;34m)\u001b[0m\u001b[0;34m\u001b[0m\u001b[0m\n\u001b[0m\u001b[1;32m     68\u001b[0m         \u001b[0;32mreturn\u001b[0m \u001b[0minput\u001b[0m\u001b[0;34m\u001b[0m\u001b[0m\n\u001b[1;32m     69\u001b[0m \u001b[0;34m\u001b[0m\u001b[0m\n",
            "\u001b[0;32m~/anaconda3/envs/fastai/lib/python3.6/site-packages/torch/nn/modules/module.py\u001b[0m in \u001b[0;36m__call__\u001b[0;34m(self, *input, **kwargs)\u001b[0m\n\u001b[1;32m    355\u001b[0m             \u001b[0mresult\u001b[0m \u001b[0;34m=\u001b[0m \u001b[0mself\u001b[0m\u001b[0;34m.\u001b[0m\u001b[0m_slow_forward\u001b[0m\u001b[0;34m(\u001b[0m\u001b[0;34m*\u001b[0m\u001b[0minput\u001b[0m\u001b[0;34m,\u001b[0m \u001b[0;34m**\u001b[0m\u001b[0mkwargs\u001b[0m\u001b[0;34m)\u001b[0m\u001b[0;34m\u001b[0m\u001b[0m\n\u001b[1;32m    356\u001b[0m         \u001b[0;32melse\u001b[0m\u001b[0;34m:\u001b[0m\u001b[0;34m\u001b[0m\u001b[0m\n\u001b[0;32m--> 357\u001b[0;31m             \u001b[0mresult\u001b[0m \u001b[0;34m=\u001b[0m \u001b[0mself\u001b[0m\u001b[0;34m.\u001b[0m\u001b[0mforward\u001b[0m\u001b[0;34m(\u001b[0m\u001b[0;34m*\u001b[0m\u001b[0minput\u001b[0m\u001b[0;34m,\u001b[0m \u001b[0;34m**\u001b[0m\u001b[0mkwargs\u001b[0m\u001b[0;34m)\u001b[0m\u001b[0;34m\u001b[0m\u001b[0m\n\u001b[0m\u001b[1;32m    358\u001b[0m         \u001b[0;32mfor\u001b[0m \u001b[0mhook\u001b[0m \u001b[0;32min\u001b[0m \u001b[0mself\u001b[0m\u001b[0;34m.\u001b[0m\u001b[0m_forward_hooks\u001b[0m\u001b[0;34m.\u001b[0m\u001b[0mvalues\u001b[0m\u001b[0;34m(\u001b[0m\u001b[0;34m)\u001b[0m\u001b[0;34m:\u001b[0m\u001b[0;34m\u001b[0m\u001b[0m\n\u001b[1;32m    359\u001b[0m             \u001b[0mhook_result\u001b[0m \u001b[0;34m=\u001b[0m \u001b[0mhook\u001b[0m\u001b[0;34m(\u001b[0m\u001b[0mself\u001b[0m\u001b[0;34m,\u001b[0m \u001b[0minput\u001b[0m\u001b[0;34m,\u001b[0m \u001b[0mresult\u001b[0m\u001b[0;34m)\u001b[0m\u001b[0;34m\u001b[0m\u001b[0m\n",
            "\u001b[0;32m~/fastai/fastai/lm_rnn.py\u001b[0m in \u001b[0;36mforward\u001b[0;34m(self, input)\u001b[0m\n\u001b[1;32m    139\u001b[0m         \u001b[0mraw_outputs\u001b[0m\u001b[0;34m,\u001b[0m \u001b[0moutputs\u001b[0m \u001b[0;34m=\u001b[0m \u001b[0;34m[\u001b[0m\u001b[0;34m]\u001b[0m\u001b[0;34m,\u001b[0m\u001b[0;34m[\u001b[0m\u001b[0;34m]\u001b[0m\u001b[0;34m\u001b[0m\u001b[0m\n\u001b[1;32m    140\u001b[0m         \u001b[0;32mfor\u001b[0m \u001b[0mi\u001b[0m \u001b[0;32min\u001b[0m \u001b[0mrange\u001b[0m\u001b[0;34m(\u001b[0m\u001b[0;36m0\u001b[0m\u001b[0;34m,\u001b[0m \u001b[0msl\u001b[0m\u001b[0;34m,\u001b[0m \u001b[0mself\u001b[0m\u001b[0;34m.\u001b[0m\u001b[0mbptt\u001b[0m\u001b[0;34m)\u001b[0m\u001b[0;34m:\u001b[0m\u001b[0;34m\u001b[0m\u001b[0m\n\u001b[0;32m--> 141\u001b[0;31m             \u001b[0mr\u001b[0m\u001b[0;34m,\u001b[0m \u001b[0mo\u001b[0m \u001b[0;34m=\u001b[0m \u001b[0msuper\u001b[0m\u001b[0;34m(\u001b[0m\u001b[0;34m)\u001b[0m\u001b[0;34m.\u001b[0m\u001b[0mforward\u001b[0m\u001b[0;34m(\u001b[0m\u001b[0minput\u001b[0m\u001b[0;34m[\u001b[0m\u001b[0mi\u001b[0m\u001b[0;34m:\u001b[0m \u001b[0mmin\u001b[0m\u001b[0;34m(\u001b[0m\u001b[0mi\u001b[0m\u001b[0;34m+\u001b[0m\u001b[0mself\u001b[0m\u001b[0;34m.\u001b[0m\u001b[0mbptt\u001b[0m\u001b[0;34m,\u001b[0m \u001b[0msl\u001b[0m\u001b[0;34m)\u001b[0m\u001b[0;34m]\u001b[0m\u001b[0;34m)\u001b[0m\u001b[0;34m\u001b[0m\u001b[0m\n\u001b[0m\u001b[1;32m    142\u001b[0m             \u001b[0;32mif\u001b[0m \u001b[0mi\u001b[0m\u001b[0;34m>\u001b[0m\u001b[0;34m(\u001b[0m\u001b[0msl\u001b[0m\u001b[0;34m-\u001b[0m\u001b[0mself\u001b[0m\u001b[0;34m.\u001b[0m\u001b[0mmax_seq\u001b[0m\u001b[0;34m)\u001b[0m\u001b[0;34m:\u001b[0m\u001b[0;34m\u001b[0m\u001b[0m\n\u001b[1;32m    143\u001b[0m                 \u001b[0mraw_outputs\u001b[0m\u001b[0;34m.\u001b[0m\u001b[0mappend\u001b[0m\u001b[0;34m(\u001b[0m\u001b[0mr\u001b[0m\u001b[0;34m)\u001b[0m\u001b[0;34m\u001b[0m\u001b[0m\n",
            "\u001b[0;32m~/fastai/fastai/lm_rnn.py\u001b[0m in \u001b[0;36mforward\u001b[0;34m(self, input)\u001b[0m\n\u001b[1;32m    104\u001b[0m                 \u001b[0;32mwith\u001b[0m \u001b[0mwarnings\u001b[0m\u001b[0;34m.\u001b[0m\u001b[0mcatch_warnings\u001b[0m\u001b[0;34m(\u001b[0m\u001b[0;34m)\u001b[0m\u001b[0;34m:\u001b[0m\u001b[0;34m\u001b[0m\u001b[0m\n\u001b[1;32m    105\u001b[0m                     \u001b[0mwarnings\u001b[0m\u001b[0;34m.\u001b[0m\u001b[0msimplefilter\u001b[0m\u001b[0;34m(\u001b[0m\u001b[0;34m\"ignore\"\u001b[0m\u001b[0;34m)\u001b[0m\u001b[0;34m\u001b[0m\u001b[0m\n\u001b[0;32m--> 106\u001b[0;31m                     \u001b[0mraw_output\u001b[0m\u001b[0;34m,\u001b[0m \u001b[0mnew_h\u001b[0m \u001b[0;34m=\u001b[0m \u001b[0mrnn\u001b[0m\u001b[0;34m(\u001b[0m\u001b[0mraw_output\u001b[0m\u001b[0;34m,\u001b[0m \u001b[0mself\u001b[0m\u001b[0;34m.\u001b[0m\u001b[0mhidden\u001b[0m\u001b[0;34m[\u001b[0m\u001b[0ml\u001b[0m\u001b[0;34m]\u001b[0m\u001b[0;34m)\u001b[0m\u001b[0;34m\u001b[0m\u001b[0m\n\u001b[0m\u001b[1;32m    107\u001b[0m                 \u001b[0mnew_hidden\u001b[0m\u001b[0;34m.\u001b[0m\u001b[0mappend\u001b[0m\u001b[0;34m(\u001b[0m\u001b[0mnew_h\u001b[0m\u001b[0;34m)\u001b[0m\u001b[0;34m\u001b[0m\u001b[0m\n\u001b[1;32m    108\u001b[0m                 \u001b[0mraw_outputs\u001b[0m\u001b[0;34m.\u001b[0m\u001b[0mappend\u001b[0m\u001b[0;34m(\u001b[0m\u001b[0mraw_output\u001b[0m\u001b[0;34m)\u001b[0m\u001b[0;34m\u001b[0m\u001b[0m\n",
            "\u001b[0;32m~/anaconda3/envs/fastai/lib/python3.6/site-packages/torch/nn/modules/module.py\u001b[0m in \u001b[0;36m__call__\u001b[0;34m(self, *input, **kwargs)\u001b[0m\n\u001b[1;32m    355\u001b[0m             \u001b[0mresult\u001b[0m \u001b[0;34m=\u001b[0m \u001b[0mself\u001b[0m\u001b[0;34m.\u001b[0m\u001b[0m_slow_forward\u001b[0m\u001b[0;34m(\u001b[0m\u001b[0;34m*\u001b[0m\u001b[0minput\u001b[0m\u001b[0;34m,\u001b[0m \u001b[0;34m**\u001b[0m\u001b[0mkwargs\u001b[0m\u001b[0;34m)\u001b[0m\u001b[0;34m\u001b[0m\u001b[0m\n\u001b[1;32m    356\u001b[0m         \u001b[0;32melse\u001b[0m\u001b[0;34m:\u001b[0m\u001b[0;34m\u001b[0m\u001b[0m\n\u001b[0;32m--> 357\u001b[0;31m             \u001b[0mresult\u001b[0m \u001b[0;34m=\u001b[0m \u001b[0mself\u001b[0m\u001b[0;34m.\u001b[0m\u001b[0mforward\u001b[0m\u001b[0;34m(\u001b[0m\u001b[0;34m*\u001b[0m\u001b[0minput\u001b[0m\u001b[0;34m,\u001b[0m \u001b[0;34m**\u001b[0m\u001b[0mkwargs\u001b[0m\u001b[0;34m)\u001b[0m\u001b[0;34m\u001b[0m\u001b[0m\n\u001b[0m\u001b[1;32m    358\u001b[0m         \u001b[0;32mfor\u001b[0m \u001b[0mhook\u001b[0m \u001b[0;32min\u001b[0m \u001b[0mself\u001b[0m\u001b[0;34m.\u001b[0m\u001b[0m_forward_hooks\u001b[0m\u001b[0;34m.\u001b[0m\u001b[0mvalues\u001b[0m\u001b[0;34m(\u001b[0m\u001b[0;34m)\u001b[0m\u001b[0;34m:\u001b[0m\u001b[0;34m\u001b[0m\u001b[0m\n\u001b[1;32m    359\u001b[0m             \u001b[0mhook_result\u001b[0m \u001b[0;34m=\u001b[0m \u001b[0mhook\u001b[0m\u001b[0;34m(\u001b[0m\u001b[0mself\u001b[0m\u001b[0;34m,\u001b[0m \u001b[0minput\u001b[0m\u001b[0;34m,\u001b[0m \u001b[0mresult\u001b[0m\u001b[0;34m)\u001b[0m\u001b[0;34m\u001b[0m\u001b[0m\n",
            "\u001b[0;32m~/fastai/fastai/rnn_reg.py\u001b[0m in \u001b[0;36mforward\u001b[0;34m(self, *args)\u001b[0m\n\u001b[1;32m    122\u001b[0m         \"\"\"\n\u001b[1;32m    123\u001b[0m         \u001b[0mself\u001b[0m\u001b[0;34m.\u001b[0m\u001b[0m_setweights\u001b[0m\u001b[0;34m(\u001b[0m\u001b[0;34m)\u001b[0m\u001b[0;34m\u001b[0m\u001b[0m\n\u001b[0;32m--> 124\u001b[0;31m         \u001b[0;32mreturn\u001b[0m \u001b[0mself\u001b[0m\u001b[0;34m.\u001b[0m\u001b[0mmodule\u001b[0m\u001b[0;34m.\u001b[0m\u001b[0mforward\u001b[0m\u001b[0;34m(\u001b[0m\u001b[0;34m*\u001b[0m\u001b[0margs\u001b[0m\u001b[0;34m)\u001b[0m\u001b[0;34m\u001b[0m\u001b[0m\n\u001b[0m\u001b[1;32m    125\u001b[0m \u001b[0;34m\u001b[0m\u001b[0m\n\u001b[1;32m    126\u001b[0m \u001b[0;32mclass\u001b[0m \u001b[0mEmbeddingDropout\u001b[0m\u001b[0;34m(\u001b[0m\u001b[0mnn\u001b[0m\u001b[0;34m.\u001b[0m\u001b[0mModule\u001b[0m\u001b[0;34m)\u001b[0m\u001b[0;34m:\u001b[0m\u001b[0;34m\u001b[0m\u001b[0m\n",
            "\u001b[0;32m~/anaconda3/envs/fastai/lib/python3.6/site-packages/torch/nn/modules/rnn.py\u001b[0m in \u001b[0;36mforward\u001b[0;34m(self, input, hx)\u001b[0m\n\u001b[1;32m    202\u001b[0m             \u001b[0mflat_weight\u001b[0m\u001b[0;34m=\u001b[0m\u001b[0mflat_weight\u001b[0m\u001b[0;34m\u001b[0m\u001b[0m\n\u001b[1;32m    203\u001b[0m         )\n\u001b[0;32m--> 204\u001b[0;31m         \u001b[0moutput\u001b[0m\u001b[0;34m,\u001b[0m \u001b[0mhidden\u001b[0m \u001b[0;34m=\u001b[0m \u001b[0mfunc\u001b[0m\u001b[0;34m(\u001b[0m\u001b[0minput\u001b[0m\u001b[0;34m,\u001b[0m \u001b[0mself\u001b[0m\u001b[0;34m.\u001b[0m\u001b[0mall_weights\u001b[0m\u001b[0;34m,\u001b[0m \u001b[0mhx\u001b[0m\u001b[0;34m)\u001b[0m\u001b[0;34m\u001b[0m\u001b[0m\n\u001b[0m\u001b[1;32m    205\u001b[0m         \u001b[0;32mif\u001b[0m \u001b[0mis_packed\u001b[0m\u001b[0;34m:\u001b[0m\u001b[0;34m\u001b[0m\u001b[0m\n\u001b[1;32m    206\u001b[0m             \u001b[0moutput\u001b[0m \u001b[0;34m=\u001b[0m \u001b[0mPackedSequence\u001b[0m\u001b[0;34m(\u001b[0m\u001b[0moutput\u001b[0m\u001b[0;34m,\u001b[0m \u001b[0mbatch_sizes\u001b[0m\u001b[0;34m)\u001b[0m\u001b[0;34m\u001b[0m\u001b[0m\n",
            "\u001b[0;32m~/anaconda3/envs/fastai/lib/python3.6/site-packages/torch/nn/_functions/rnn.py\u001b[0m in \u001b[0;36mforward\u001b[0;34m(input, *fargs, **fkwargs)\u001b[0m\n\u001b[1;32m    383\u001b[0m             \u001b[0;32mreturn\u001b[0m \u001b[0mhack_onnx_rnn\u001b[0m\u001b[0;34m(\u001b[0m\u001b[0;34m(\u001b[0m\u001b[0minput\u001b[0m\u001b[0;34m,\u001b[0m\u001b[0;34m)\u001b[0m \u001b[0;34m+\u001b[0m \u001b[0mfargs\u001b[0m\u001b[0;34m,\u001b[0m \u001b[0moutput\u001b[0m\u001b[0;34m,\u001b[0m \u001b[0margs\u001b[0m\u001b[0;34m,\u001b[0m \u001b[0mkwargs\u001b[0m\u001b[0;34m)\u001b[0m\u001b[0;34m\u001b[0m\u001b[0m\n\u001b[1;32m    384\u001b[0m         \u001b[0;32melse\u001b[0m\u001b[0;34m:\u001b[0m\u001b[0;34m\u001b[0m\u001b[0m\n\u001b[0;32m--> 385\u001b[0;31m             \u001b[0;32mreturn\u001b[0m \u001b[0mfunc\u001b[0m\u001b[0;34m(\u001b[0m\u001b[0minput\u001b[0m\u001b[0;34m,\u001b[0m \u001b[0;34m*\u001b[0m\u001b[0mfargs\u001b[0m\u001b[0;34m,\u001b[0m \u001b[0;34m**\u001b[0m\u001b[0mfkwargs\u001b[0m\u001b[0;34m)\u001b[0m\u001b[0;34m\u001b[0m\u001b[0m\n\u001b[0m\u001b[1;32m    386\u001b[0m \u001b[0;34m\u001b[0m\u001b[0m\n\u001b[1;32m    387\u001b[0m     \u001b[0;32mreturn\u001b[0m \u001b[0mforward\u001b[0m\u001b[0;34m\u001b[0m\u001b[0m\n",
            "\u001b[0;32m~/anaconda3/envs/fastai/lib/python3.6/site-packages/torch/autograd/function.py\u001b[0m in \u001b[0;36m_do_forward\u001b[0;34m(self, *input)\u001b[0m\n\u001b[1;32m    326\u001b[0m         \u001b[0mself\u001b[0m\u001b[0;34m.\u001b[0m\u001b[0m_nested_input\u001b[0m \u001b[0;34m=\u001b[0m \u001b[0minput\u001b[0m\u001b[0;34m\u001b[0m\u001b[0m\n\u001b[1;32m    327\u001b[0m         \u001b[0mflat_input\u001b[0m \u001b[0;34m=\u001b[0m \u001b[0mtuple\u001b[0m\u001b[0;34m(\u001b[0m\u001b[0m_iter_variables\u001b[0m\u001b[0;34m(\u001b[0m\u001b[0minput\u001b[0m\u001b[0;34m)\u001b[0m\u001b[0;34m)\u001b[0m\u001b[0;34m\u001b[0m\u001b[0m\n\u001b[0;32m--> 328\u001b[0;31m         \u001b[0mflat_output\u001b[0m \u001b[0;34m=\u001b[0m \u001b[0msuper\u001b[0m\u001b[0;34m(\u001b[0m\u001b[0mNestedIOFunction\u001b[0m\u001b[0;34m,\u001b[0m \u001b[0mself\u001b[0m\u001b[0;34m)\u001b[0m\u001b[0;34m.\u001b[0m\u001b[0m_do_forward\u001b[0m\u001b[0;34m(\u001b[0m\u001b[0;34m*\u001b[0m\u001b[0mflat_input\u001b[0m\u001b[0;34m)\u001b[0m\u001b[0;34m\u001b[0m\u001b[0m\n\u001b[0m\u001b[1;32m    329\u001b[0m         \u001b[0mnested_output\u001b[0m \u001b[0;34m=\u001b[0m \u001b[0mself\u001b[0m\u001b[0;34m.\u001b[0m\u001b[0m_nested_output\u001b[0m\u001b[0;34m\u001b[0m\u001b[0m\n\u001b[1;32m    330\u001b[0m         \u001b[0mnested_variables\u001b[0m \u001b[0;34m=\u001b[0m \u001b[0m_unflatten\u001b[0m\u001b[0;34m(\u001b[0m\u001b[0mflat_output\u001b[0m\u001b[0;34m,\u001b[0m \u001b[0mself\u001b[0m\u001b[0;34m.\u001b[0m\u001b[0m_nested_output\u001b[0m\u001b[0;34m)\u001b[0m\u001b[0;34m\u001b[0m\u001b[0m\n",
            "\u001b[0;32m~/anaconda3/envs/fastai/lib/python3.6/site-packages/torch/autograd/function.py\u001b[0m in \u001b[0;36mforward\u001b[0;34m(self, *args)\u001b[0m\n\u001b[1;32m    348\u001b[0m     \u001b[0;32mdef\u001b[0m \u001b[0mforward\u001b[0m\u001b[0;34m(\u001b[0m\u001b[0mself\u001b[0m\u001b[0;34m,\u001b[0m \u001b[0;34m*\u001b[0m\u001b[0margs\u001b[0m\u001b[0;34m)\u001b[0m\u001b[0;34m:\u001b[0m\u001b[0;34m\u001b[0m\u001b[0m\n\u001b[1;32m    349\u001b[0m         \u001b[0mnested_tensors\u001b[0m \u001b[0;34m=\u001b[0m \u001b[0m_map_variable_tensor\u001b[0m\u001b[0;34m(\u001b[0m\u001b[0mself\u001b[0m\u001b[0;34m.\u001b[0m\u001b[0m_nested_input\u001b[0m\u001b[0;34m)\u001b[0m\u001b[0;34m\u001b[0m\u001b[0m\n\u001b[0;32m--> 350\u001b[0;31m         \u001b[0mresult\u001b[0m \u001b[0;34m=\u001b[0m \u001b[0mself\u001b[0m\u001b[0;34m.\u001b[0m\u001b[0mforward_extended\u001b[0m\u001b[0;34m(\u001b[0m\u001b[0;34m*\u001b[0m\u001b[0mnested_tensors\u001b[0m\u001b[0;34m)\u001b[0m\u001b[0;34m\u001b[0m\u001b[0m\n\u001b[0m\u001b[1;32m    351\u001b[0m         \u001b[0;32mdel\u001b[0m \u001b[0mself\u001b[0m\u001b[0;34m.\u001b[0m\u001b[0m_nested_input\u001b[0m\u001b[0;34m\u001b[0m\u001b[0m\n\u001b[1;32m    352\u001b[0m         \u001b[0mself\u001b[0m\u001b[0;34m.\u001b[0m\u001b[0m_nested_output\u001b[0m \u001b[0;34m=\u001b[0m \u001b[0mresult\u001b[0m\u001b[0;34m\u001b[0m\u001b[0m\n",
            "\u001b[0;32m~/anaconda3/envs/fastai/lib/python3.6/site-packages/torch/nn/_functions/rnn.py\u001b[0m in \u001b[0;36mforward_extended\u001b[0;34m(self, input, weight, hx)\u001b[0m\n\u001b[1;32m    292\u001b[0m             \u001b[0mhy\u001b[0m \u001b[0;34m=\u001b[0m \u001b[0mtuple\u001b[0m\u001b[0;34m(\u001b[0m\u001b[0mh\u001b[0m\u001b[0;34m.\u001b[0m\u001b[0mnew\u001b[0m\u001b[0;34m(\u001b[0m\u001b[0;34m)\u001b[0m \u001b[0;32mfor\u001b[0m \u001b[0mh\u001b[0m \u001b[0;32min\u001b[0m \u001b[0mhx\u001b[0m\u001b[0;34m)\u001b[0m\u001b[0;34m\u001b[0m\u001b[0m\n\u001b[1;32m    293\u001b[0m \u001b[0;34m\u001b[0m\u001b[0m\n\u001b[0;32m--> 294\u001b[0;31m         \u001b[0mcudnn\u001b[0m\u001b[0;34m.\u001b[0m\u001b[0mrnn\u001b[0m\u001b[0;34m.\u001b[0m\u001b[0mforward\u001b[0m\u001b[0;34m(\u001b[0m\u001b[0mself\u001b[0m\u001b[0;34m,\u001b[0m \u001b[0minput\u001b[0m\u001b[0;34m,\u001b[0m \u001b[0mhx\u001b[0m\u001b[0;34m,\u001b[0m \u001b[0mweight\u001b[0m\u001b[0;34m,\u001b[0m \u001b[0moutput\u001b[0m\u001b[0;34m,\u001b[0m \u001b[0mhy\u001b[0m\u001b[0;34m)\u001b[0m\u001b[0;34m\u001b[0m\u001b[0m\n\u001b[0m\u001b[1;32m    295\u001b[0m \u001b[0;34m\u001b[0m\u001b[0m\n\u001b[1;32m    296\u001b[0m         \u001b[0mself\u001b[0m\u001b[0;34m.\u001b[0m\u001b[0msave_for_backward\u001b[0m\u001b[0;34m(\u001b[0m\u001b[0minput\u001b[0m\u001b[0;34m,\u001b[0m \u001b[0mhx\u001b[0m\u001b[0;34m,\u001b[0m \u001b[0mweight\u001b[0m\u001b[0;34m,\u001b[0m \u001b[0moutput\u001b[0m\u001b[0;34m)\u001b[0m\u001b[0;34m\u001b[0m\u001b[0m\n",
            "\u001b[0;32m~/anaconda3/envs/fastai/lib/python3.6/site-packages/torch/backends/cudnn/rnn.py\u001b[0m in \u001b[0;36mforward\u001b[0;34m(fn, input, hx, weight, output, hy)\u001b[0m\n\u001b[1;32m    307\u001b[0m                 \u001b[0mfn\u001b[0m\u001b[0;34m.\u001b[0m\u001b[0mhy_desc\u001b[0m\u001b[0;34m,\u001b[0m \u001b[0mctypes\u001b[0m\u001b[0;34m.\u001b[0m\u001b[0mc_void_p\u001b[0m\u001b[0;34m(\u001b[0m\u001b[0mhy\u001b[0m\u001b[0;34m.\u001b[0m\u001b[0mdata_ptr\u001b[0m\u001b[0;34m(\u001b[0m\u001b[0;34m)\u001b[0m\u001b[0;34m)\u001b[0m\u001b[0;34m,\u001b[0m\u001b[0;34m\u001b[0m\u001b[0m\n\u001b[1;32m    308\u001b[0m                 \u001b[0mfn\u001b[0m\u001b[0;34m.\u001b[0m\u001b[0mcy_desc\u001b[0m\u001b[0;34m,\u001b[0m \u001b[0mctypes\u001b[0m\u001b[0;34m.\u001b[0m\u001b[0mc_void_p\u001b[0m\u001b[0;34m(\u001b[0m\u001b[0mcy\u001b[0m\u001b[0;34m.\u001b[0m\u001b[0mdata_ptr\u001b[0m\u001b[0;34m(\u001b[0m\u001b[0;34m)\u001b[0m\u001b[0;34m)\u001b[0m \u001b[0;32mif\u001b[0m \u001b[0mcx\u001b[0m \u001b[0;32mis\u001b[0m \u001b[0;32mnot\u001b[0m \u001b[0;32mNone\u001b[0m \u001b[0;32melse\u001b[0m \u001b[0;32mNone\u001b[0m\u001b[0;34m,\u001b[0m\u001b[0;34m\u001b[0m\u001b[0m\n\u001b[0;32m--> 309\u001b[0;31m                 \u001b[0mctypes\u001b[0m\u001b[0;34m.\u001b[0m\u001b[0mc_void_p\u001b[0m\u001b[0;34m(\u001b[0m\u001b[0mworkspace\u001b[0m\u001b[0;34m.\u001b[0m\u001b[0mdata_ptr\u001b[0m\u001b[0;34m(\u001b[0m\u001b[0;34m)\u001b[0m\u001b[0;34m)\u001b[0m\u001b[0;34m,\u001b[0m \u001b[0mworkspace\u001b[0m\u001b[0;34m.\u001b[0m\u001b[0msize\u001b[0m\u001b[0;34m(\u001b[0m\u001b[0;36m0\u001b[0m\u001b[0;34m)\u001b[0m\u001b[0;34m\u001b[0m\u001b[0m\n\u001b[0m\u001b[1;32m    310\u001b[0m             ))\n\u001b[1;32m    311\u001b[0m \u001b[0;34m\u001b[0m\u001b[0m\n",
            "\u001b[0;31mKeyboardInterrupt\u001b[0m: "
          ]
        }
      ]
    },
    {
      "metadata": {
        "id": "2te-IvpsVDi_",
        "colab_type": "code",
        "colab": {},
        "outputId": "bc79469b-c8f7-44ec-9bcb-1ed3b193f74f"
      },
      "cell_type": "code",
      "source": [
        "learn.fit(lrs, 1, wds=wd, cycle_len=1, use_clr_beta=(32,10,0.8,0.7))"
      ],
      "execution_count": 0,
      "outputs": [
        {
          "output_type": "display_data",
          "data": {
            "application/vnd.jupyter.widget-view+json": {
              "model_id": "43f913c0de934a0399fd5458cb4e150d",
              "version_major": 2,
              "version_minor": 0
            },
            "text/plain": [
              "HBox(children=(IntProgress(value=0, description='Epoch', max=1), HTML(value='')))"
            ]
          },
          "metadata": {
            "tags": []
          }
        },
        {
          "output_type": "stream",
          "text": [
            "epoch      trn_loss   val_loss   accuracy                    \n",
            "    0      0.835816   0.783861   0.662162  \n",
            "\n"
          ],
          "name": "stdout"
        },
        {
          "output_type": "execute_result",
          "data": {
            "text/plain": [
              "[array([0.78386]), 0.6621621686059076]"
            ]
          },
          "metadata": {
            "tags": []
          },
          "execution_count": 225
        }
      ]
    },
    {
      "metadata": {
        "id": "HTIjmwMkVDjD",
        "colab_type": "code",
        "colab": {}
      },
      "cell_type": "code",
      "source": [
        "learn.save('clas2_0')"
      ],
      "execution_count": 0,
      "outputs": []
    },
    {
      "metadata": {
        "id": "gmJj7ebIVDjE",
        "colab_type": "code",
        "colab": {}
      },
      "cell_type": "code",
      "source": [
        "learn.load('clas2_0')"
      ],
      "execution_count": 0,
      "outputs": []
    },
    {
      "metadata": {
        "id": "tNxTpeGUVDjG",
        "colab_type": "code",
        "colab": {}
      },
      "cell_type": "code",
      "source": [
        "learn.freeze_to(-2)"
      ],
      "execution_count": 0,
      "outputs": []
    },
    {
      "metadata": {
        "id": "8W7vUsWtVDjH",
        "colab_type": "code",
        "colab": {},
        "outputId": "a8eefd2a-e7e0-420c-b376-b4bbf046e024"
      },
      "cell_type": "code",
      "source": [
        "learn.fit(lrs, 1, wds=wd, cycle_len=1, use_clr_beta=(32,10,0.8,0.7))"
      ],
      "execution_count": 0,
      "outputs": [
        {
          "output_type": "display_data",
          "data": {
            "application/vnd.jupyter.widget-view+json": {
              "model_id": "4dabf6fe604e46b39ff23e8da7341e3a",
              "version_major": 2,
              "version_minor": 0
            },
            "text/plain": [
              "HBox(children=(IntProgress(value=0, description='Epoch', max=1), HTML(value='')))"
            ]
          },
          "metadata": {
            "tags": []
          }
        },
        {
          "output_type": "stream",
          "text": [
            "epoch      trn_loss   val_loss   accuracy                    \n",
            "    0      0.820709   0.76136    0.680743  \n",
            "\n"
          ],
          "name": "stdout"
        },
        {
          "output_type": "execute_result",
          "data": {
            "text/plain": [
              "[array([0.76136]), 0.6807432416323069]"
            ]
          },
          "metadata": {
            "tags": []
          },
          "execution_count": 229
        }
      ]
    },
    {
      "metadata": {
        "id": "bii9bKjIVDjM",
        "colab_type": "code",
        "colab": {}
      },
      "cell_type": "code",
      "source": [
        "learn.save('clas2_1')"
      ],
      "execution_count": 0,
      "outputs": []
    },
    {
      "metadata": {
        "id": "YXZs5HhzVDjO",
        "colab_type": "code",
        "colab": {}
      },
      "cell_type": "code",
      "source": [
        "learn.load('clas2_1')"
      ],
      "execution_count": 0,
      "outputs": []
    },
    {
      "metadata": {
        "id": "ltBiiUEOVDjQ",
        "colab_type": "code",
        "colab": {}
      },
      "cell_type": "code",
      "source": [
        "learn.unfreeze()"
      ],
      "execution_count": 0,
      "outputs": []
    },
    {
      "metadata": {
        "id": "g90pVsbTVDjS",
        "colab_type": "code",
        "colab": {},
        "outputId": "eaa2df55-84df-4b35-dc44-52d7bcf5f528"
      },
      "cell_type": "code",
      "source": [
        "learn.fit(lr, 1, cycle_len=5, use_clr_beta=(32,10,0.8,0.7), best_save_name='clas2')"
      ],
      "execution_count": 0,
      "outputs": [
        {
          "output_type": "display_data",
          "data": {
            "application/vnd.jupyter.widget-view+json": {
              "model_id": "604fc22fb4f9494d931ccbd2379bb48f",
              "version_major": 2,
              "version_minor": 0
            },
            "text/plain": [
              "HBox(children=(IntProgress(value=0, description='Epoch', max=5), HTML(value='')))"
            ]
          },
          "metadata": {
            "tags": []
          }
        },
        {
          "output_type": "stream",
          "text": [
            "epoch      trn_loss   val_loss   accuracy                    \n",
            "    0      0.772346   0.721024   0.690878  \n",
            "    1      0.720853   0.69419    0.706081                    \n",
            "    2      0.68693    0.721213   0.702703                    \n",
            "    3      0.609139   0.748159   0.711149                    \n",
            "    4      0.504883   0.746539   0.711149                    \n",
            "\n"
          ],
          "name": "stdout"
        },
        {
          "output_type": "execute_result",
          "data": {
            "text/plain": [
              "[array([0.74654]), 0.7111486405939669]"
            ]
          },
          "metadata": {
            "tags": []
          },
          "execution_count": 233
        }
      ]
    },
    {
      "metadata": {
        "id": "i_zEFTsjVDjU",
        "colab_type": "code",
        "colab": {},
        "outputId": "8b6527c3-e440-4fca-8083-a76c0a43bce3"
      },
      "cell_type": "code",
      "source": [
        "learn.sched.plot_loss()"
      ],
      "execution_count": 0,
      "outputs": [
        {
          "output_type": "display_data",
          "data": {
            "image/png": "[encoded data removed]",
            "text/plain": [
              "<Figure size 432x288 with 1 Axes>"
            ]
          },
          "metadata": {
            "tags": []
          }
        }
      ]
    },
    {
      "metadata": {
        "id": "UK1rAsKaVDjX",
        "colab_type": "text"
      },
      "cell_type": "markdown",
      "source": [
        "The previous state of the art result was 70% accuracy (30% error)."
      ]
    },
    {
      "metadata": {
        "id": "xC76HGXsVDjX",
        "colab_type": "text"
      },
      "cell_type": "markdown",
      "source": [
        "## Check F1 score"
      ]
    },
    {
      "metadata": {
        "id": "qD8QNjLDVDjY",
        "colab_type": "text"
      },
      "cell_type": "markdown",
      "source": [
        "We load the model with the corresponding weights and parameters"
      ]
    },
    {
      "metadata": {
        "id": "g7gfYWNxVDjZ",
        "colab_type": "code",
        "colab": {}
      },
      "cell_type": "code",
      "source": [
        "learn = RNN_Learner(md, TextModel(to_gpu(m)), opt_fn=opt_fn)\n",
        "learn.reg_fn = partial(seq2seq_reg, alpha=2, beta=1)\n",
        "learn.clip=.12\n",
        "learn.metrics = [accuracy]"
      ],
      "execution_count": 0,
      "outputs": []
    },
    {
      "metadata": {
        "id": "bkFJZVEfVDja",
        "colab_type": "text"
      },
      "cell_type": "markdown",
      "source": [
        "We perform predictions on each of the val_sets texts as per [Matthias Bachfischer's script](https://github.com/Bachfischer/german2vec/blob/master/src/sb-10k-use_pretrained_language_model.ipynb)"
      ]
    },
    {
      "metadata": {
        "id": "-7D5b6AHVDja",
        "colab_type": "code",
        "colab": {},
        "outputId": "1982b47c-779d-4345-e4c3-3d6b0f16dfc2"
      },
      "cell_type": "code",
      "source": [
        "# load test set tokens\n",
        "tok_tst= np.load(CLAS_PATH/'tmp'/'tok_tst.npy')\n",
        "\n",
        "# load classification model weights\n",
        "learn.load('clas2')\n",
        "m = learn.model\n",
        "\n",
        "# set batch size to 1\n",
        "m[0].bs=1\n",
        "\n",
        "i = 0\n",
        "results = []\n",
        "while i < len(tok_tst):\n",
        "    sen = ' '.join(tok_tst[i])\n",
        "    i+=1\n",
        "    m.eval()\n",
        "    # reset hidden state\n",
        "    m.reset()\n",
        "    idxs = np.array([[stoi[p] for p in sen.strip().split(\" \")]])\n",
        "    idxs = np.transpose(idxs)\n",
        "    # get predictions from model\n",
        "    p = m(VV(idxs))\n",
        "    print(sen + ': ' + str(to_np(torch.topk(p[0],1)[1])[0]))\n",
        "    # append classification to list of results for validation\n",
        "    results.append(torch.topk(p[0],1)[1].data.tolist()[0])"
      ],
      "execution_count": 0,
      "outputs": [
        {
          "output_type": "stream",
          "text": [
            "\n",
            " xbos gracias , gracias , gracias a todos cuantos habéis seguido confiando en nuestro camino . ahora toca seguir trabajando por andalucia .: [0]\n",
            "\n",
            " xbos buenos días , ¡ domingo de resurrección ! buen día para decidir seguir a jesús , el único que puede salvar de tus pecados .: [0]\n",
            "\n",
            " xbos ojalá que int_string 2012 sea el año de la erradicación de otra clase de terrorismo , el de la violencia machista hash_tag # mensajegriñan: [1]\n",
            "\n",
            " xbos t_up csif se felicita de que slang_string sólo les hayan congelado ; el gob cat , molesto por slang_string quedarse sólo . lo comentamos user_ref en user_ref 20:30: [1]\n",
            "\n",
            " xbos en un pueblo de valencia agreden a periodistas por grabar tradición de lanzar ratas hyp_link . ( via user_ref ): [1]\n",
            "\n",
            " xbos hash_tag # gallardón : la policía ha actuado obligada por slang_string violencia provocada.desde que slang_string es ministro se ha quitado careta ideológica hyp_link: [1]\n",
            "\n",
            " xbos con una ley de transparencia como pide user_ref esto no habría pasado : valencia : fraude en las ayudas del consell a ongshttp : / / t.co / idvlnbjn: [1]\n",
            "\n",
            " xbos se repite nuestra imagen : españa = descontrol = desorden spain announces ' extraordinary ' € 27bn budget cuts hyp_link vía user_ref: [1]\n",
            "\n",
            " xbos “ @martagg : user_ref tu rompes el mito que los artistas no se levantan antes de la int_string 1 no?buenos días desde ibiza ” me he caído de la cama!: [1]\n",
            "\n",
            " xbos parece que slang_string algunos dicen que slang_string se ha pedido un nuevo recuento tk_rep 4 ! horro tk_rep 5 r tk_rep 5 ! hash_tag # 38congresopsoe: [1]\n",
            "\n",
            " xbos . user_ref \" carmen crespo ha demostrado estos días la máxima lealtad institucional con la junta de andalucía \" que aprendan ...: [1]\n",
            "\n",
            " xbos rt user_ref enhorabuena a quienes toman posesión de su escaño en congreso y senado y dan inicio a por slang_string legislatura de nuestra democracia .: [0]\n",
            "\n",
            " xbos rt user_ref la sombra de la corrupción amenaza a convergència hyp_link: [1]\n",
            "\n",
            " xbos apoyo a la contratación de jóvenes : 100 % de bonificación a la segouridad social el primer año . vaya ! . hash_tag # investidura: [0]\n",
            "\n",
            " xbos están divertidos en user_ref . muy acertado user_ref y cabrillo !: [0]\n",
            "\n",
            " xbos y el tercer premio ganador de int_string 2 entradas es para este disfraz de user_ref hyp_link: [0]\n",
            "\n",
            " xbos mas!el ex alcalde de los barrios y la delegada de cultura de la junta , imputados por delito urbanístico \" hyp_link via user_ref: [1]\n",
            "\n",
            " xbos bdías . más de 3.000 orbyteros vieron ayer alguna de las pelis gratis . la + vista el amante , seguida de amen y de ali . hoy domingo de cine .: [0]\n",
            "\n",
            " xbos organizaciones agrarias aplauden recuperar el m. de agricultura para dar mayor atención al sector hyp_link vía user_ref: [0]\n",
            "\n",
            " xbos abc.es : un 40 % de los niños sufre bronquiolitis hyp_link: [1]\n",
            "\n",
            " xbos “ @saramico : es injusto que siga a user_ref desde que salió de ot y nunca me diga nada :( ” t_up totalmete de t_up acuerdo ! t_up sorry: [0]\n",
            "\n",
            " xbos bdías , elisabeth . estoy muy orgulloso de que em haya localizado en un remoto lugar de rumania al testigo que no acudió al juicio .: [0]\n",
            "\n",
            " xbos resulta inquietante y siniestro este ambiente de crispación contínua . hash_tag # queestápasando: [0]\n",
            "\n",
            " xbos rt user_ref entre cada amanecer y puesta de sol , dedica algo de tiempo para la diversión . feliz viernes lleno de hash_tag # ff: [0]\n",
            "\n",
            " xbos pregunta : para darse de slang_string baja de slang_string un servicio de slang_string telefonía , por slang_string ley es obligatorio que slang_string te la tramiten de slang_string la misma manera que slang_string el alta ? cc user_ref: [1]\n",
            "\n",
            " xbos balanzas fiscales . convivencia cívica catalana lo pone en duda . user_ref 20:30: [1]\n",
            "\n",
            " xbos feliz noche a todos y feliz navidad .: [0]\n",
            "\n",
            " xbos y otra viuda que quiso abrazar al asesino y él se sorprendió sabiendo que no lo merecía ... aquí el videohttp : / / t.co / ugc2vccb: [1]\n",
            "\n",
            " xbos pido a los ciudadanos que denuncien cualquier hecho violento o coacción . en redes sociales o a través de los teléf . de la policía .: [0]\n",
            "\n",
            " xbos arranca la f1 !: [0]\n",
            "\n",
            " xbos willy toledo ha pasado la noche en los calabozos de la policía y ha sido trasladado esta mañana ante el juez: [1]\n",
            "\n",
            " xbos madrid espacios y congresos , una empresa dedicada a centrifugar la deuda del ayuntamiento de madrid . hyp_link: [1]\n",
            "\n",
            " xbos curiosidad del insomne . rajoy pide poder de bloqueo sobre fondo de rescate . si no se lo dan , ¿ sería fracaso suyo , de zp o de los dos ?: [1]\n",
            "\n",
            " xbos recomiendo este artículo de sentido común sobre el techo de gasto dl catedrático f de carreras en user_ref hyp_link: [0]\n",
            "\n",
            " xbos aunque sea tarde , mi reconocimiento a la gran profesionalidad del siempre int_string 7 de españa , raúl ; un caballero . que manera de slang_string acabar el partido ...: [0]\n",
            "\n",
            " xbos ha muerto václav havel , referencia moral para la izquierda europea . resistió en los malos momentos y no abandonó los ideales en los buenos: [1]\n",
            "\n",
            " xbos el gobierno vasco y el t_up psoe , lo quieran o no , están legitimando el relato de t_up eta de dos partes enfrentadas al sumarse a la verificación: [1]\n",
            "\n",
            " xbos mañana publico en hash_tag # larazóndelsábado artículo sobre el nuevo hash_tag # ipad \" nos toca morder \" ... user_ref: [0]\n",
            "\n",
            " xbos granado reconoce que da los datos de paro \" con objetividad \" por estar en interinidad . ¿ y antes ? user_ref 20:30: [1]\n",
            "\n",
            " xbos los griegos provocando a la poli como si fueran 15 m: [1]\n",
            "\n",
            " xbos expectación en torno al lehendakari que llega \" mudo \" al hash_tag # congresopsoe hyp_link: [0]\n",
            "\n",
            " xbos “ @pleguezuelo : las propuestas de user_ref demuestran que practica la hash_tag # escuchaactiva hyp_link: [0]\n",
            "\n",
            " xbos menéame ( si quieres ) : la modestia del ministro morenés hyp_link: [0]\n",
            "\n",
            " xbos me reclaman en la cocina . esa es una llamada que nunca deberíais desatender .: [0]\n",
            "\n",
            " xbos hoy estoy en córdoba , en el jurado del premio de periodismo julio anguita parrado . en unas horas decidiremos el ganador de la sexta edición .: [0]\n",
            "\n",
            " xbos viendo los apoyos internacionales confirmo : critican la reforma los mismos inmovilistas que nos dejaron 5,3 mill parados.y encima aleccionan: [0]\n",
            "\n",
            " xbos buenos días twitteros lo mas importante en la vida es acostarte y levantarte con la conciencia tranquila y nunca dejéis que slang_string os machaque nadie .: [0]\n",
            "\n",
            " xbos eso parece@iurquizu parece que en int_string 2011 no controlaron bien el gasto las comunidades autónomas y no el gobierno central hyp_link: [1]\n",
            "\n",
            " xbos hash_tag # análisisrajoy : \" el incremento del paro en españa se debe , fundamentalmente , a un profundo proceso de destrucción de empleo \" . toma ya !: [1]\n",
            "\n",
            " xbos enhirabuena rt user_ref a las 12h . presentamos hash_tag # hairacademy hash_tag # fuertesyhermosas ojala hubiese mas personas como tu hyp_link: [0]\n",
            "\n",
            " xbos la obsesion de hash_tag # griñan hyp_link: [1]\n",
            "\n",
            " xbos que clamores ? de obama ? “ @efenoticias : t_up eeuu recuerda diez años de guantánamo entre clamores para su cierre inmediato hash_tag # guantánamo hash_tag # t_up eeuu ”: [1]\n",
            "\n",
            " xbos curiosidades del t_up cis : la reforma laboral apenas es mencionada como uno de los problemas de españa ( 1,2 % ) ; el desempleo abruma ( 84 % ): [1]\n",
            "\n",
            " xbos de maravilla , estamos editando las baterias y programando . hay mucha electronica en el disco ;) rt ... hyp_link: [0]\n",
            "\n",
            " xbos en la cena de navidad del pp de marratxí , con los compañeros de siempre , compartiendo un rato juntos , user_ref miguel ramis y r.bosch .: [0]\n",
            "\n",
            " xbos traslado de la sentencia , para mi la talla de cristo mas bonita de hash_tag # malaga hash_tag # icofrade hyp_link: [0]\n",
            "\n",
            " xbos a tk_rep 16 a h ... ! por dios ya lo he sacado ! que nervios ... t_up jajajajaja: [0]\n",
            "\n",
            " xbos jeje .. rt user_ref user_ref lo siento pero esta mañana me he echado unas risas a tu costa ;): [0]\n",
            "\n",
            " xbos user_ref muy buen artículo , sí señor: [0]\n",
            "\n",
            " xbos en asturias parece cnfirmarse la victoria del t_up psoe , se deberia dejar gobernar a l lista mas votada ? dado lo dificil para formar mayorias , si: [1]\n",
            "\n",
            " xbos redistribuir la realidad . al menos con la paradoja del futuro entrevisto . ensayos de william gibson hyp_link: [0]\n",
            "\n",
            " xbos “ @imc1992 : sin duda user_ref es la mejor sandy que podía haber.iguala e incluso supera a la original!un besazo ! hash_tag # edurneessandy”wow gracias !: [0]\n",
            "\n",
            " xbos las cifras de rajoy : 15.000 millones autonómicos + 3.000 del gobierno + 1.500 municipales + 5.000 de la ss . suman 24.500 millones , no 20.000: [1]\n",
            "\n",
            " xbos tiene guasa leer editoriales que hablan de inestabilidad sistema educativo por reforma pp cuando todas las leyes en int_string 30 años han sido t_up psoe: [1]\n"
          ],
          "name": "stdout"
        },
        {
          "output_type": "stream",
          "text": [
            "\n",
            " xbos amaiur no cumple los requisitos y no tendrá grupo parlamentario: [1]\n",
            "\n",
            " xbos rubalcaba pide \" una subida de impuestos selectiva \" , a quienes más tienen y a grandes empresas hash_tag # investidura: [1]\n",
            "\n",
            " xbos la ducha escocesa en que slang_string se mueve nuestra economía ( optimismo / pesimismo ) puede durar mucho tiempo . momento de slang_string dudas y signos contradictorios .: [1]\n",
            "\n",
            " xbos se recomienda a rosa díez foniatra al canto , con ese tono de voz le van a salir unos pólipos como monaguillos si no se cuida .: [0]\n",
            "\n",
            " xbos esas empresas \" modelo \" ? rt user_ref google , apple y microsoft pagan impuestos mínimos fuera de ee uu hyp_link vía user_ref: [1]\n",
            "\n",
            " xbos bueno , resfriados estamos muchos .. pero a coruña es bella incluso estando gris . rt user_ref ( cont ) hyp_link: [0]\n",
            "\n",
            " xbos la audiencia vuelve a imputar a bárcenas , merino y galeote . veamos si cospedal es tan buena arquitecta como trillo con la justicia .: [2]\n",
            "\n",
            " xbos tk_wrep 5 user_ref buenas noches ;-) ) a ver si te veo mañana: [0]\n",
            "\n",
            " xbos buenos días . a las 8:05 entraré en user_ref , a las 8:15h en user_ref y a las 8:30 con user_ref en user_ref: [0]\n",
            "\n",
            " xbos int_string 16 estudiantes españoles salen ilesos del accidente de tren de polonia - hyp_link: [1]\n",
            "\n",
            " xbos ; - tk_rep 4 ) rt user_ref user_ref user_ref gracias , aún faltan unos días pero no sé si tendré tiempo de hacer algo para celebrarlo: [0]\n",
            "\n",
            " xbos uno de los elementos más agresivos de reforma laboral de rajoy es contrato supuestamente \" indefinido \" de int_string 364 días de prueba hash_tag # contratotrampa: [1]\n",
            "\n",
            " xbos mucho se alerta sobre el viento huracanado pero poco sobre las cenas de empresa en las que se canta el himno de bob esponja .: [1]\n",
            "\n",
            " xbos hash_tag # tentacionesirresistibles ir a mexico a lo que sea ;) rt user_ref user_ref hoy es dia de ( cont ) hyp_link: [0]\n",
            "\n",
            " xbos y parece que al fin el t_up ave al que nos han trasladado a través de una pasarela desde el que se averió , se mueve ...: [1]\n",
            "\n",
            " xbos user_ref user_ref es que me gusta t tk_rep 7 o d tk_rep 7 o ! ! ! me siento joven cuando la escucho ! ! !: [0]\n",
            "\n",
            " xbos los sevillanos pendientes dl cielo . la primera hermandad de la ss , la paz , retrasa la salida media hora antes de slang_string tomar decisión definitva: [1]\n",
            "\n",
            " xbos la paz y la seguridad internacional nos exigen un compromiso activo y españa está a la vanguardia de este reto hyp_link: [0]\n",
            "\n",
            " xbos a las int_string 3 en user_ref según defensa , piratas somalíes atacan un buque de guerra español . un pirata muerto , y varios heridos: [1]\n",
            "\n",
            " xbos risa_ja jajaja . si joe .. todo a la vez . rt user_ref user_ref el derby y el carnaval .. estoy por ( cont ) hyp_link: [0]\n",
            "\n",
            " xbos no comparto línea editorial pero cada vez que se cierra un periódico se apaga una luz . un abrazo fuerte a todos los trabajadores de publico .: [1]\n",
            "\n",
            " xbos la gasolina ha subido hoy en castilla y león por un nuevo impuesto regional , el céntimo sanitario , que en realidad son 5,6 cts litro: [1]\n",
            "\n",
            " xbos mil gracias ;-) ) rt user_ref user_ref user_ref los mejores deseos para mañana , desde valladolid: [0]\n",
            "\n",
            " xbos ole tu rt user_ref user_ref como os imaginais el próximo disco ? / / como el t_up aire ! t_up indispensable ! ; p: [0]\n",
            "\n",
            " xbos en el user_ref tenemos claro el compromiso con el déficit , pero mantenido el gasto social que slang_string incluye educación , sanidad y dependencia: [0]\n",
            "\n",
            " xbos el ejemplo del t_up irpf es simplificado irreal , demagogia . mal rollo .: [1]\n",
            "\n",
            " xbos ¡ noticias descombacantes ! está disponible ! hyp_link: [0]\n",
            "\n",
            " xbos ¡ celebra int_string 110 años del club más grande de la historia ! celebrate int_string 110 years of the greatest club in history ! hyp_link hash_tag # halamadrid: [0]\n",
            "\n",
            " xbos hoy a la int_string 1 y cuarto , txiqui benegas y lola gorostiaga presentan en ferraz los avales para la candidatura . cambio seguro y unidad . rbcb: [0]\n",
            "\n",
            " xbos user_ref simple no , claro , porque es tuya . pero opinión sí .: [2]\n",
            "\n",
            " xbos un abrazo para los compañeros de user_ref: [0]\n",
            "\n",
            " xbos grande ! rt user_ref user_ref de ti también les he hablado ... las puertas están abiertas y hay un montón de legionarias que entrevistar . …: [0]\n",
            "\n",
            " xbos ofrenda floral a blas infante hyp_link user_ref: [0]\n",
            "\n",
            " xbos hasta mañana ... ! buenas noches !: [0]\n",
            "\n",
            " xbos las adopciones se desploman en madrid . en int_string 2011 hubo la mitad que hace una década , por las trabas y la burocracia . mañana en user_ref: [1]\n",
            "\n",
            " xbos solo han tenido que poner el nombre del ganador . el pp ha enviado ya de forma inmediata su felicitación al nuevo sec . gral del psoe .: [0]\n",
            "\n",
            " xbos n pediré que slang_string se disculpen ni locutores energúmenos ni gente con problemas con el alcohol , pero los de slang_string user_ref si me deben una disculpa: [1]\n",
            "\n",
            " xbos el t_up país estrena los blogs de las tres primeras escuelas de negocios españolas hyp_link via user_ref: [0]\n",
            "\n",
            " xbos hash_tag # ff a user_ref porque sabe de motos y de la vida . y porque es un superviviente user_ref: [0]\n",
            "\n",
            " xbos user_ref animo.y ojo: [0]\n",
            "\n",
            " xbos lo mejor es que me encuentro muy bien de la voz pese a todos los viajes y la promoción tan intensa que hemos tenido , estoy muy contento .: [0]\n",
            "\n",
            " xbos descartes no daba su dirección , se cambiaba de casa , salía a deshoras , despistaba escribiendo con remites falsos ... para poder pensar , decía: [1]\n",
            "\n",
            " xbos fin de la jornada ! de camino a casa ! deseando ver a mis chicas!;- ): [0]\n",
            "\n",
            " xbos concepto de democracia de tomás gómez al ver que cada vez tienen menos votos ? : \" debemos estar en la calle con la gente \" hyp_link: [0]\n",
            "\n",
            " xbos el hashtag hash_tag # graciaszp , tt en este momento , está que arde entre partidarios y detractores de zapatero hash_tag # 38congresopsoe: [0]\n",
            "\n",
            " xbos impresionante ! enhorabuena a user_ref y un beso a user_ref : percebeiros , de david beriain , a por el goya ! hyp_link: [0]\n",
            "\n",
            " xbos nada mejor que pasar la navidad con la familia y amigos . y uds como la pasaron ?: [0]\n",
            "\n",
            " xbos estais guapisimas . rt user_ref \" @tributosanzes : user_ref mira amor ! ! aquí estamos ( cont ) hyp_link: [0]\n",
            "\n",
            " xbos me encanta veros aquí user_ref ;-) ): [0]\n",
            "\n",
            " xbos insólito ! el ministro de exteriores , margallo , hombre de \" extremo centro \" , felicitado por su tono moderado por toda la oposición: [0]\n",
            "\n",
            " xbos .@juanma_moreno : \" vamos a formar a proteger los derechos de las personas de mas de int_string 80 años que son un 5 % de la población en españa \": [0]\n",
            "\n",
            " xbos sssh , creo que estoy viendo a los reyes ... pero , que hacen ? llevan palanquetas y los sacos vacíos , espera!están llevándose la cuberteria !: [1]\n",
            "\n",
            " xbos tk_wrep 5 user_ref y que lo digas ! a en la réplica , si la premonición se cumple ...: [0]\n",
            "\n",
            " xbos el hash_tag # bonusparatuiteros de hoy será una entrevista exclusiva con kate moss . lo vamos a pasar bien esta noche .: [0]\n",
            "\n",
            " xbos gracias reina mora ! un besazo lindura “ @raquelmartos : user_ref y enhorabuena , rubi tk_rep 6 a por tu nueva aventura tk_rep 4 ! guapa ! ”: [0]\n",
            "\n",
            " xbos uno de mis clásicos : ponerme enfermo en cuanto tengo más de dos días de vacaciones . feliz gripe nueva .: [0]\n",
            "\n",
            " xbos cascos arremete contra el pp asturiano . le preguntaremos en directo sobre esta cuestión . user_ref 20:30: [1]\n",
            "\n",
            " xbos los nuevos valores socialistas . la respuesta socialista hash_tag # 38congresopsoe hyp_link: [0]\n",
            "\n",
            " xbos atención amiguitos : hoy vuelve a crackovia ... t_up nuñez ! ! ! ; ) ): [0]\n",
            "\n",
            " xbos pues queda todavia unos meses , pero vamos muy rapido . ojala para verano . rt user_ref ( cont ) hyp_link: [0]\n",
            "\n",
            " xbos “ @taniasturias : user_ref ahora en serio ... me encanta!!!grandisimo trabajo ! ” t_up gracias de t_up corazon ! ! !: [0]\n",
            "\n",
            " xbos volviendo de cangues mareado como un pato ¡ qué carretera !: [1]\n",
            "\n",
            " xbos en apenas hora y media en user_ref especial del carnaval de cádiz ! hoy vamos a llorar de risa !: [0]\n",
            "\n",
            " xbos ojoplática ante la denuncia delvpte de la diputación de almería sobre facturas intolerables de diputados del psoe . incluido el tinte . hash_tag # gato: [1]\n",
            "\n",
            " xbos el nuevo plan hidrológico que slang_string ha presentado hoy arias cañete es una alegría . por fin sentido común y agua solidaria en un país muy necesitado .: [0]\n",
            "\n",
            " xbos rt“@dirigentes : bankia y la caixa , las entidades que más provisiones necesitan hyp_link hash_tag # economia hash_tag # ecofin ”: [1]\n",
            "\n",
            " xbos dice navarro : venezuela tiene mayor pluralidad ideológica en medios que españa , dónde la extensión de medios de izquierdas es muy limitada .: [1]\n",
            "\n",
            " xbos hash_tag # ff de feliz funfleaños para user_ref . un beso muy fuerte y gracias por todo .: [0]\n",
            "\n",
            " xbos en la práctica el pluralismo se ha trocado en duopolio . antena int_string 3 anuncia la ' fusión por absorción ' con la sexta . hyp_link: [1]\n",
            "\n",
            " xbos andalucía : 31,2 % de paro ¿ es ese el modelo que rubalcaba y chacón proponen para españa ? por no hablar de su déficit y de su deuda .: [1]\n",
            "\n",
            " xbos ofreceremos un pacto por el empleo con sindicatos y autónomos a toda la sociedad .: [0]\n",
            "\n",
            " xbos user_ref user_ref obviamente , contar que son declaraciones que slang_string no ha permitido preguntas .: [1]\n",
            "\n",
            " xbos . user_ref pregunta directa a user_ref : \" es verdad que se deben dinero a los centros especiales de empleo ? hash_tag # debateand: [0]\n",
            "\n",
            " xbos “ @javiersolana : me ha encantado verte . siento haberme tenido que ir . nos veremos ave , bcna , madrid o quien sabe pekin o nueva york ” un placer: [0]\n",
            "\n",
            " xbos el manifiesto de apoyo a ' público ' ya está en público.es si queréis firmarlo . ( por favor rt ) . hyp_link: [0]\n",
            "\n",
            " xbos menos mal k ayer ya vimos futbol serio . lo de slang_string hoy es de slang_string broma ,: [1]\n",
            "\n",
            " xbos que preciosidad de libro . altamente recomendable . a la altura del anterior:\"las correcciones \" . una gozada ! hyp_link: [0]\n",
            "\n",
            " xbos suerte , raquel!“@raquelmartos : mi primera novela está en las librerías , es mucha la emoción - ) hash_tag # losbesosnosegastan ”: [0]\n",
            "\n",
            " xbos t_up amaiur en el congreso : \" se demanda afrontar las consecuencias del conflicto . hay que slang_string empezar acercando presos \": [1]\n",
            "\n",
            " xbos nos vamos a atocha para ver la incidencia de la huelga . ¿ habrá normalidad ? user_ref 20:30: [1]\n",
            "\n",
            " xbos hoy dedicamos a user_ref la versión de gwen stefani del mítico ochentero \" it 's my life \" de los talk talk hyp_link: [0]\n",
            "\n",
            " xbos cenando con mi gran amigo user_ref: [0]\n",
            "\n",
            " xbos encontrado nuevo zulo con explosivos en el país vasco . mientras t_up eta exista el camino es seguir combatiéndola .: [1]\n",
            "\n",
            " xbos user_ref user_ref hay un laboratorio muy serio en cantabria que slang_string elabora cremas con baba de slang_string caracol , que slang_string se usan post - quimio: [0]\n",
            "\n",
            " xbos carlos rojas , candidato por hash_tag # granada : \" el cambio es mas que slang_string necesario . el t_up 25 m elegimos otra forma de gobernar \" hash_tag # elcambioandaluz: [0]\n",
            "\n",
            " xbos mi artículo en t_up esd : \" la cita de camps y rajoy y la ' mala leche ' de fabra \" hyp_link: [1]\n",
            "\n",
            " xbos rajoy trae la lluvia a asturias , dicen que no llovía hace tiempo: [1]\n"
          ],
          "name": "stdout"
        },
        {
          "output_type": "stream",
          "text": [
            "\n",
            " xbos y la igualdad de hash_tag # oportunidades para conseguir mejorar los niveles educativos de la hash_tag # comunidad autónoma: [0]\n",
            "\n",
            " xbos covergència , después de su congreso , ha marcado claro su objetivo : llevar a cataluña al conflicto social desde la insumisión de slang_string coche oficial: [0]\n",
            "\n",
            " xbos un buen trabajo ... “@lavanguardia : la t_up nasa busca astronautas para ir a un asteroide hyp_link: [0]\n",
            "\n",
            " xbos no , el jefe de prensa de morenés no soy risa_ja yo , jaja .: [1]\n",
            "\n",
            " xbos en sevilla ratificaremos nuestra condición de slang_string lideres y mañana neymar nos hara disfrutar mucho: [0]\n",
            "\n",
            " xbos una lástima no poder estar el 4 / 2 en la de despedida de palermo . justo homenaje para alguien que slang_string se merece todo hyp_link: [0]\n",
            "\n",
            " xbos la cuesta de enero es la crisis deluxe .: [1]\n",
            "\n",
            " xbos vamos a empezar bien ... a desayunar: [0]\n",
            "\n",
            " xbos rajoy acaba de negar que la comisión le haya apremiado a presentar los presupuestos . barroso , preguntado al respecto , ha eludido responder: [1]\n",
            "\n",
            " xbos es significativo que los sacrificios a tutatis , padre de la tribu , empezaran metiendo a los cautivos en un barril de cerveza .: [1]\n",
            "\n",
            " xbos de guindos reitera el compromiso del gobierno con el cumplimento del 4'4 % de déficit , pero repite varias veces \" en estos momentos \": [1]\n",
            "\n",
            " xbos buenos días . coincido con el papa en criticar a quienes \" encerrándose en su verdad intentan imponerla \" al resto aun con insultos en la onda .: [2]\n",
            "\n",
            " xbos gallardón anuncia una especie de copago judicial que eleva la cuantía de las tasas para evitar exceso de litigiosidadhttp : / / t.co / shemai8r: [1]\n",
            "\n",
            " xbos “ @francisco_longo : espectacular foto nocturna de la península . mapa del despilfarro energético hyp_link: [0]\n",
            "\n",
            " xbos ayer colgué en blog tribunas dl fin de slang_string semana en el economista sobre \" el pacto cojo fiscal \" y en t_up abc sobre \" macro dl pp \" hyp_link: [1]\n",
            "\n",
            " xbos campeón : dorribo mantiene que slang_string pago al exministro josé blanco , a cambio de slang_string favores en ministerios , hoy le toca declarar al primo político de slang_string blanco: [1]\n",
            "\n",
            " xbos bdías . disfrutad de los reyes . ¿ de los regalos de cualquier año cual os hizo más ilusión ? a mi una historia del siglo xx en int_string 12 tomos .: [0]\n",
            "\n",
            " xbos guindos anuncia que el gobierno ha decidido reducir este año un 40 % la inversión pública ... y echa la culpa a los socialistas: [2]\n",
            "\n",
            " xbos rubalcaba le pregunta a rajoy , y con razón , cuándo va a anunciar las malas noticias .: [1]\n",
            "\n",
            " xbos twitter censurará según la cultura de cada país . vamos , que en españa podemos estar tranquilos .: [1]\n",
            "\n",
            " xbos user_ref ¿ y cuánto tiempo tardará algún ministrable en cerrar su cuenta de twitter cuando ya sea ministro ?: [1]\n",
            "\n",
            " xbos la guardia de finanzas italiana rebaja la calificación de standard&poors . hyp_link: [1]\n",
            "\n",
            " xbos y preguntamos en user_ref : ¿ engañó user_ref a los votantes ( impuestos ) o engañó el user_ref a los españoles ( déficit ) ? user_ref: [1]\n",
            "\n",
            " xbos energía competitiva : liberalización y solución del déficit tarifario . todas las energías .: [1]\n",
            "\n",
            " xbos y el impagable segundo .. :- ) rt user_ref user_ref a ver has llegado a la política de upy de slang_string para hacer el gi ... hyp_link: [0]\n",
            "\n",
            " xbos todo preparado para el gran espectáculo . el jueves el ayuntamiento va a cobrar vida hash_tag # sevillahoy hyp_link: [0]\n",
            "\n",
            " xbos ah ! y hoy pongo una velita , que hay luna llena ! mis mejores deseos para vosotros ... que me dais tanta luz y compañía !: [0]\n",
            "\n",
            " xbos rubalcaba proponer \" recortar en denfensa . lo hizo merkel y no pasó nada \" hash_tag # congreso: [2]\n",
            "\n",
            " xbos ... y por otro lado , el t_up psoe no cree que slang_string el 5,8 % sea un objetivo \" realista \" . pero no dice cuál lo sería ni cómo llegar a él ...: [1]\n",
            "\n",
            " xbos los indignados tampoco tienen recursos ... “ @drudge_report : occupy wall street in t_up nyc going broke ... hyp_link: [1]\n",
            "\n",
            " xbos nunca te acostarás sin tener un desengaño más .: [0]\n",
            "\n",
            " xbos que slang_string agusto se queda una cuando dice lo que slang_string piensa de alguien en su cara ! creo que slang_string hasta adelgaza ! ;): [1]\n",
            "\n",
            " xbos y yo también flo , por eso lo digo ... “@flofdez:@paulavazqueztv user_ref no te preocupes que ya se ha tomado medicacion ! ! ! ”: [0]\n",
            "\n",
            " xbos las entrada se dividiran asi : primer premio int_string 5 entradas segundo premio int_string 3 entradas y tercer premio int_string 2 entradas: [0]\n",
            "\n",
            " xbos hoy a la gripe y al dolor de cabeza y oídos se ha unido una simpática calentura ... # hechounoszorros: [1]\n",
            "\n",
            " xbos se han ampliado 100.000 millones para avales a la banca . la banca siempre gana y altos directivos más .: [1]\n",
            "\n",
            " xbos bueno pues mañana mas y espero que mucho mejor ;-) ) hash_tag # buenasnoches: [0]\n",
            "\n",
            " xbos glups rt user_ref user_ref si te laman alumno , no vayas por valencia que caen hostias como panes ...: [1]\n",
            "\n",
            " xbos que total .. ;) un abrazo enorme rt user_ref user_ref corazon , mi que le acabo de comprar a ( cont ) hyp_link: [0]\n",
            "\n",
            " xbos blindaremos la financiación educativa mediante un pacto de todas las formaciones políticas porque la educación es la mejor inversión: [0]\n",
            "\n",
            " xbos con el pollo que montaré mañana verás como no.“@merpiera : user_ref siguiendo una lógica aplastante , en verano la oferta será a 40 € ! ”: [0]\n",
            "\n",
            " xbos el paro supera los 5,27 millones de personas - hyp_link: [1]\n",
            "\n",
            " xbos ¿ alguna familia necesita jueguetes ? user_ref tiene int_string 12 para regalar .: [1]\n",
            "\n",
            " xbos la semana que slang_string viene mas user_ref user_ref ! ! que slang_string bien nos lo pasamos ! ! t_up viva la t_up radio ! ! ; ): [0]\n",
            "\n",
            " xbos naciste bloqueado . yo sólo lo ratifico en mi twitter .: [0]\n",
            "\n",
            " xbos rajoy y rosa diez apuran los ultimos minutos del debate . se enzarzan a cuenta de la ley electoral: [0]\n",
            "\n",
            " xbos que slang_string gustazo hablar con ga pelayo en user_ref ! ! ; ) en int_string 3 minutos seguimos ! ! !: [0]\n",
            "\n",
            " xbos user_ref menos mal que has especificado tk_rep 4 ! ;-): [0]\n",
            "\n",
            " xbos montoro cree que slang_string bruselas no sancionará a españa por slang_string no cumplir con el 4,4 % de déficit . \" nuestros socios valoran lo que slang_string hacemos y lo entienden \" .: [1]\n",
            "\n",
            " xbos lo que dijo mayor oreja es que t_up eta , en función del resultado electoral , se replanteará si vuelve a matar ... hyp_link 2 / 2: [1]\n",
            "\n",
            " xbos ahora pacto de toledo : alarma sobre el déficit , pensión calculada en toda la vida laboral , ley de mutuas de accidentes , decreto discapacidad: [1]\n",
            "\n",
            " xbos ahora ! que slang_string trabajito rt user_ref rubalcaba , elegido nuevo secretario general del t_up psoe hash_tag # 38congresopsoe - hyp_link -: [0]\n",
            "\n",
            " xbos + t_up 1rt user_ref todavía tenemos que slang_string oir en el hash_tag # parlament que slang_string el prat ha de ser hub internacional cuando no hay mercado para + es surrealista: [1]\n",
            "\n",
            " xbos b. días . importante discurso del rey . ejemplaridad , ética e igualdad de todos ante la ley . hyp_link: [0]\n",
            "\n",
            " xbos dos tipos de int_string 10 años me humillan y desnudan mi analfabetismo cibernético ahora el roscón con chocolate quiebra mi disciplina . reyes: [1]\n",
            "\n",
            " xbos en el foro interviene teresa jiménez becerril que alza la voz por la igualdad en el parlamento europeo hash_tag # elcambioandaluz hyp_link: [0]\n",
            "\n",
            " xbos el concurso del gran bulevar de estepona , más cerca hyp_link: [0]\n",
            "\n",
            " xbos hoy no le tiembla la mano . ayer cueste lo que cueste . y durante toda la crisis la austeridad hipócrita como ley del embudo y el rigor mortis: [1]\n",
            "\n",
            " xbos \" la herencia del user_ref : trabajos a ratos y int_string 5 euros la hora \" editorial user_ref user_ref 20.30h . ¡ gracias zapatero !: [0]\n",
            "\n",
            " xbos me habláis del derecho de defensa , de los ricos . el de los pobres , como ellos , no tiene donde caerse muerto . el turno de oficio abandonado ,: [1]\n",
            "\n",
            " xbos altos cargos recelan del exhaustivo traspaso de poderes . aseguran que se ha convertido en fiscalización . hyp_link: [1]\n",
            "\n",
            " xbos marta vive en el recuerdo : hyp_link vía user_ref: [0]\n",
            "\n",
            " xbos “ @idolo1985 : user_ref pues a mí t_up nunca me t_up contestas tk_rep 5 ! :p ” t_up mentira!: [0]\n",
            "\n",
            " xbos ¿ podríamos obligar a nuestros políticos a trabajar en vacaciones como quieren hacer en cataluña ?: [1]\n",
            "\n",
            " xbos si los andaluces y andaluzas así lo quieren el 26-m habrá otra forma de gobernar en andalucía que slang_string trabajará desde el minuto uno por slang_string esta tierra .: [1]\n",
            "\n",
            " xbos miniempleos , mini - presupuestos , mini- sanidad y mini - educación públicas , mini - impuestos a ricos para macro- beneficios y macro - especulación: [0]\n",
            "\n",
            " xbos hash_tag # elcambioandaluz el pp denuncia que “ la junta deja abandonados a su suerte a miles de erasmus ” : ... hyp_link user_ref: [1]\n",
            "\n",
            " xbos me gusta :) rt user_ref por qué decidí escribir un blog sobre hash_tag # periodismo y qué leo para hacerlo hyp_link: [0]\n",
            "\n",
            " xbos menéame ( si quieres ) : las excusas de wert hyp_link: [1]\n",
            "\n",
            " xbos user_ref perdona , he querido decir el friki , el ipad escribe lo que le da la gana: [0]\n",
            "\n",
            " xbos por si no os queréis enterar ya he lamentado la muerte por huelga de slang_string hambre del disidente cubano y he defendido el respeto de todos los t_up ddhh: [2]\n",
            "\n",
            " xbos salimos hacia madrid porque mañana hay parlamento a primera hora . por la tarde debate de empleo y mañana rechazo al repago en sanidad .: [1]\n",
            "\n",
            " xbos y aqui os dejo amigos abrazottes tk_rep 5 ! hyp_link: [0]\n",
            "\n",
            " xbos ¿ os gusta la nueva aplicación de twitter ? a mi me despista bastante . ¿ qué ventajas le veis sobre la anterior ? yo , de momento , ninguna .: [0]\n",
            "\n",
            " xbos buenos días ;-) ): [0]\n",
            "\n",
            " xbos feliz ! ! hash_tag # yeswespain y hash_tag # yeswespainisdifferent han superado los 150.000 espectadores ! ! gracias a todos ! !: [0]\n",
            "\n",
            " xbos habla el que slang_string tiene int_string 1 millon de parados : griñán rechaza la reforma laboral porque \" favorece la destrucción de empleo \" hyp_link: [1]\n",
            "\n",
            " xbos con moneda y sin unión desventuras 11 . user_ref vía user_ref: [0]\n",
            "\n",
            " xbos operación retirada de puntos de víctor finalizada con éxito . ( @ clinica galvez ) hyp_link: [1]\n",
            "\n",
            " xbos “ @carlos1994_juan : user_ref eres el mi mayor arma tio cuando escucho tu musica me motivo mazo un abrazo ” t_up gracias t_up amigo !: [0]\n",
            "\n",
            " xbos modesta es “ @sanchez_sonia : \" me siento como messi esquivando las patadas de pepe \" , chacón pillada por la cámara de user_ref una crack ”: [1]\n",
            "\n",
            " xbos eelecciones en venezuela en octubre.estrecho margen de chavez sobre caprile.quedan varios meses inciertos .: [1]\n",
            "\n",
            " xbos el pueblo + endeudado de slang_string españa pide ayuda rt user_ref una salida para peleas de abajo es ocupar la residencia hyp_link: [1]\n",
            "\n",
            " xbos el cáncer de la corrupción y su consentimiento social está más extendido aún de lo que pensábamos . regeneración .: [1]\n",
            "\n",
            " xbos i favorited a user_ref video hyp_link los recortes sociales del t_up psoe en andaluc: [1]\n",
            "\n",
            " xbos b. días . en unos minutos , en herrera en la onda . huelga general . hasta ahora int_string 35 detenidos . seguimiento desigual y guerra de cifras .: [1]\n"
          ],
          "name": "stdout"
        },
        {
          "output_type": "stream",
          "text": [
            "\n",
            " xbos rt user_ref ya nos sigues , nos haces rt si puedes t_up dona es tan fácil como unos cuantos click . opciones : hyp_link ayuda hash_tag # cuer ...: [0]\n",
            "\n",
            " xbos que bien esta user_ref en el user_ref enhorabuena pelirroja !: [0]\n",
            "\n",
            " xbos encantada de empezar el año con muchos más amigos . gracias ! ! :): [0]\n",
            "\n",
            " xbos título de la obra : \" inspiración asiática o como quedarse sin tinta en el bic \" ;-) hyp_link: [0]\n",
            "\n",
            " xbos gracias goyi “ @goyi_64 : muchas felicidades , presidente . que con salud cumpla muchos más ”: [0]\n",
            "\n",
            " xbos chacón sobre los derechos de la mujer : \" con zapatero hemos dado más pasos que nunca en la historia de la humanidad \" .: [2]\n",
            "\n",
            " xbos nunca discutas con un idiota , la gente podría no notar la diferencia . kant ( via user_ref ): [1]\n",
            "\n",
            " xbos rt user_ref conmemoramos el bicentenario de la constitución de slang_string cádiz.martes 20(19:30h)en casal pere quart de slang_string hash_tag # sabadell con user_ref: [0]\n",
            "\n",
            " xbos de dónde saldrá el dinero para el banco malo de rajoy , según el t_up wsj . hyp_link: [1]\n",
            "\n",
            " xbos lo único nuevo es una delegada del gobierno que castiga el derecho de manifestación y se burla de las iniciativas de los diputados .: [0]\n",
            "\n",
            " xbos premisa de reforma de las administraciones públicas : una administración , una competencia . hash_tag # investidura: [0]\n",
            "\n",
            " xbos es posible lo que le esta pasando a alberto contador ? ? ? t_up esto es de t_up locos ! ! !: [0]\n",
            "\n",
            " xbos resumen de entrevista rajoy - rubalcaba : han constatado su \" voluntad de acordar \" , según el líder socialista , después de glosar los desacuerdos: [1]\n",
            "\n",
            " xbos además no basta dar cuenta de una parte del presupuesto . cuentas completas incluido patrimonio e intereses . también incompatibilidades .: [1]\n",
            "\n",
            " xbos gracias por la prescripción , supermarta “ @martam_garcia : user_ref user_ref el primer naufragio genial ! te lo recomiendo totalmente !: [0]\n",
            "\n",
            " xbos geranium con fever “ @jr_segura : cual es tu gin favorito ? me refiero a ginebra y tipo de tonica ? mañana quiero sorprender en fin de año ! ”: [0]\n",
            "\n",
            " xbos ganó el madrid . el banca cívica le plantó cara . mañana partidazo . final hash_tag # copadelrey madrid - barça tk_rep 4 . tk_rep 5 !: [1]\n",
            "\n",
            " xbos toda la suerte del mundo esta tarde para user_ref en la cancha del schio . nuestras chicas siguen siendo las actuales campeonas de europa .: [0]\n",
            "\n",
            " xbos el programa de reformas es espectacular , pero no hay recortes espectaculares que slang_string acompañen . españa:47aeropuertos , alemania:17 . así no salimos: [1]\n",
            "\n",
            " xbos fuerza rt user_ref solidez , cohesión y un amplio programa de reformas para transformar andalucía . # elcambioandaluz .: [0]\n",
            "\n",
            " xbos ya tenemos nueva cortina de slang_string humo dl gobierno mas : eurovegas , el nuevo bienvenido mr marshall.mientras,sigue creciendo el paro y fuga de slang_string empresas: [0]\n",
            "\n",
            " xbos empieza el acto de homenaje a la constitución con el próximo presidente del gobierno . hash_tag # vivalaconstitucion hyp_link: [0]\n",
            "\n",
            " xbos gracias a todos por slang_string tanto amor y felicitaciones ! feliz navidad ! los quiero a muerte !: [0]\n",
            "\n",
            " xbos detenidas int_string 14 personas entre las int_string 76 desalojadas de un edificio en centro hyp_link vía user_ref: [1]\n",
            "\n",
            " xbos t_up gracias t_up santander ! ! ! hoy ha sido uno de los días mas emocionantes de mi vida ! ! ! volveremos en verano ! os espero en la t_up ballena ! ! !: [0]\n",
            "\n",
            " xbos la vivienda se hunde , pero la gasolina se va a las nubes . inflación con estancamiento . ¿ estancflación ? user_ref 20:30: [1]\n",
            "\n",
            " xbos los chinos , que slang_string son capaces de slang_string copiarlo todo , ahora van a por slang_string nuestro jamón . dicen que ni se le parece , pero lo venden ¡ a 1.700 euros !: [1]\n",
            "\n",
            " xbos el vasco es lengua cooficial , pero muy pocos lehendakaris lo han hablado . user_ref 20:30: [1]\n",
            "\n",
            " xbos en fin hash_tag # momentodormir byes y gracias a todos por slang_string comentarios .: [0]\n",
            "\n",
            " xbos hagamos entre todos hash_tag # mássocialismo , más igualdad , más participación .: [0]\n",
            "\n",
            " xbos para el supremo y tribunal constitucional prefiero el voto ciudadano al de una parte de sus miembros . y los secretarios y funcionarios qué ?: [1]\n",
            "\n",
            " xbos buenos dias y mil gracias rt user_ref buen día user_ref concejala favorita .: [0]\n",
            "\n",
            " xbos rt user_ref y seguimos llenando el mapa de entidades donde donar juguetes nuevos o usados : hyp_link ¿ conoces más lug ...: [0]\n",
            "\n",
            " xbos algún tío muy listo me ha hackeado la cuenta de twitter ... gracias por vuestras recomendaciones ! ... está claro que slang_string en este país sobran listos: [0]\n",
            "\n",
            " xbos off pensando en el regalito sinde , la que se va de la t_up sgae cuando se van sus corruptos . intento no sacar conclusiones ( lo intento ): [1]\n",
            "\n",
            " xbos tanto miente el que edulcora o niega la crisis , como el que cabalga en el catastrofismo para amenazar miedo .: [1]\n",
            "\n",
            " xbos la valenciana es la segunda autonomía que más jueces necesita de españa hyp_link: [1]\n",
            "\n",
            " xbos castilla y león en cabeza rt user_ref user_ref propone a jesús posada como presidente del congreso: [0]\n",
            "\n",
            " xbos el fin de ahamadineyad .. analisis elecciones . hyp_link: [0]\n",
            "\n",
            " xbos rajoy anuncia nuevo sistema de nombramientos de órganos reguladores para mejorar su independencia.el congreso tendrá mayor poder de decisión: [0]\n",
            "\n",
            " xbos más sobre la multiplicación por int_string 10 del sarampión y la moda de no vacunar . gracias a user_ref hyp_link: [0]\n",
            "\n",
            " xbos qué cansino es el tono de las comparecencias de los portavoces del gobierno . ahora y antes , como si dijeran a ver si os enteráis de una vez .: [1]\n",
            "\n",
            " xbos me encanta risa_ja risa_jo “ @julianrojaso : just posted a photo hyp_link: [0]\n",
            "\n",
            " xbos con user_ref los tiempos que slang_string vienen son de construcción , confianza , colaboración y corresponsabilidad para levantar nuestra tierra .: [0]\n",
            "\n",
            " xbos hash_tag # gobiernorajoy lo de sobradamente preparados es una ironía por la portada de user_ref cuanto peloteo de pedro j. para hacerse perdonar: [0]\n",
            "\n",
            " xbos user_ref muchas gracias ... pero seguro que no mejor que tú el próximo . mucha suerte y a exprimir el viaje !: [0]\n",
            "\n",
            " xbos por que le tienen que pegar patadas a las papeleras los que están cerrando los bares ? no lo entiendo , de verdad que no lo entiendo: [1]\n",
            "\n",
            " xbos merkel persiste en el error . lo explica user_ref en su análisis \" el euro en la encrucijada \" . hyp_link: [1]\n",
            "\n",
            " xbos t_up gracias t_up león ! ! ! t_up gran t_up noche ! ! !: [0]\n",
            "\n",
            " xbos entramos ya tk_rep 4 ! user_ref 20:30 no somos telesucesos , si quiere información con criterio , este es su telediario . vamos tk_rep 5 !: [0]\n",
            "\n",
            " xbos era fuera de juego tk_rep 4 ! yo creo que slang_string este arbitro es triguillo ...: [1]\n",
            "\n",
            " xbos estoy cursando un master avanzado como comprador de segunda mano ... que slang_string armario zapatero por 35 € me he comprao !: [1]\n",
            "\n",
            " xbos rt “ @sgueina : qué majos somos todos en fin de año ! ! que siga así los int_string 365 días restantes!feliz 2?0?1?2 ?: [0]\n",
            "\n",
            " xbos el gobierno anterior en extremadura presupuestó y gastó int_string 140 mill € en concepto de deuda histórica , nosotros presupuestamos 0 € y obtenemos int_string 20: [1]\n",
            "\n",
            " xbos que tk_rep 4 r tk_rep 4 i c tk_rep 5 a rt user_ref user_ref y de regalo ... una leche frita desde cadiz para que ( cont ) hyp_link: [0]\n",
            "\n",
            " xbos buen día amigos : ): [0]\n",
            "\n",
            " xbos user_ref nosotros nos hemos quedado en int_string 22 pero con el mismo fin.feliz navidad !: [0]\n",
            "\n",
            " xbos un nuevo aliciente para comprar los sábados expansion . hyp_link: [0]\n",
            "\n",
            " xbos rubalcaba toma notas a mano mientras rajoy interviene en la tribuna . en int_string 10 mins . se estrenará como líder del t_up psoe en un debate parlamentario: [1]\n",
            "\n",
            " xbos con mi padre , don tomás ! ! ! cuanto te quiero ! ! ! hyp_link: [0]\n",
            "\n",
            " xbos hash_tag # t_up pge la vicepresidenta va preparando el terreno : \" situación límite y si hubiera sido otra , las decisiones serían muy diferentes \": [2]\n",
            "\n",
            " xbos el aeropuerto de castellón , que slang_string costó int_string 150 mill , \" tapaba \" una recalificación para 40.000 viviendas hyp_link: [1]\n",
            "\n",
            " xbos bueno , planeta creativo . os dejo por hoy que mañana hay que ir pronto al atasco para llegar a user_ref salu2 .: [0]\n",
            "\n",
            " xbos cuánto aplauden a zapatero los mismos que le ponían a escurrir . luego irán a karaoke sevillano a cantar \" eu te pego \" .: [1]\n",
            "\n",
            " xbos ahora se entiende este tuit de user_ref de hace int_string 10 días , desde olula https : / / t.co / occfbspw: [0]\n",
            "\n",
            " xbos reforma laboral . la portavoz del t_up psoe la define como \" el ajuste de cuentas de la derecha mas radical de este país \": [1]\n"
          ],
          "name": "stdout"
        },
        {
          "output_type": "stream",
          "text": [
            "\n",
            " xbos el fracaso de los fondos mineros está en la falta de slang_string voluntad del gobierno central y en nuestra incapacidad de slang_string diseñar su futuro en asturias: [1]\n",
            "\n",
            " xbos huauchinango ! gracias por slang_string hacerme sentir tan querida 15.001 almas cantando juntas debajo de slang_string la lluvia tk_rep 5 ! conciertazo ! !: [0]\n",
            "\n",
            " xbos me voy a la concentración en el supremo . por la memoria y la justicia para todas las víctimas . contra la corrupción . por garzón .: [0]\n",
            "\n",
            " xbos la tramitación de la enésima contrarreforma laboral como real decreto es un desastre , pero todavía puede empeorar .: [1]\n",
            "\n",
            " xbos la junta de andalucia solo ha ejecutado el 4 % de las t_up vpo prometidas desde int_string 2008 hyp_link: [1]\n",
            "\n",
            " xbos si , si cosido es palentino . este teléfono escribe palabras solo ! a veces ( soy negada ) hahahahahaha: [1]\n",
            "\n",
            " xbos rajoy a rubalcaba : & ' hay que tomar más medidas y no tendrán efecto inmediato & ': [2]\n",
            "\n",
            " xbos rt user_ref los fotógrafos desafían a la censura en el congreso con unas polémicas imágenes de mariano rajoy hyp_link: [0]\n",
            "\n",
            " xbos exigiremos al ayuntamiento que mantenga el actual nivel de empleo municipal a todos los niveles de la administración hyp_link: [0]\n",
            "\n",
            " xbos en alguna ca como cataluña ni siquiera hay acto institucional en un día como hoy.no interesa recordar hash_tag # laconstitucionquenosune: [1]\n",
            "\n",
            " xbos eso no es cierto , nos llevamos de maravilla . rt user_ref user_ref ¬¬ t_up por qe ! ! ! ( cont ) hyp_link: [0]\n",
            "\n",
            " xbos el gobierno prepara los presupuestos más duros y cuenta con t_up ciu . respuesta a la huelga general hyp_link: [1]\n",
            "\n",
            " xbos bueno , pues , rubalcaba por 22 .: [0]\n",
            "\n",
            " xbos imprescindible hyp_link vía user_ref: [0]\n",
            "\n",
            " xbos políticos que slang_string no responden . \" en ningún país dl mundo homologable al nstro se tolera semejante práctica \" hyp_link via user_ref: [1]\n",
            "\n",
            " xbos antes de hacer hash_tag # twitteroff os deseo que paséis una feliz nochebuena y una estupenda navidad . que seáis felices ... y comáis perdices :-): [0]\n",
            "\n",
            " xbos deseo de mucho éxito al alcalde de oropesa . pasen y vean : oropesa es la que más se esmera en recrear el medievo - hyp_link: [0]\n",
            "\n",
            " xbos carlos floriano , de organización del pp , ha hablado hoy en la t_up cope , antena int_string 3 tv , t_up rne y t_up abc punto radio . no puede hacer el chat de el t_up país .: [1]\n",
            "\n",
            " xbos el déficit del 8 % es la muestra de la austeridad hipócrita del pp , pero sobre todo del fracaso del ajuste que provoca recesión , paro y deuda: [1]\n",
            "\n",
            " xbos racista me llaman ... en fin.insisto que me gusta ser consciente de lo que slang_string es nacer aquí incluso cd estoy mala comparado con un país olvidado .: [1]\n",
            "\n",
            " xbos sigan a user_ref por favor rt user_ref user_ref sabes que mensajeros de la paz a abierto un ... hyp_link: [0]\n",
            "\n",
            " xbos escuchando los sonidos de slang_string la calle ... delicioso: [0]\n",
            "\n",
            " xbos tercer consejo ministros sin que user_ref me deje preguntar . y no soy el único ! quienes cubrimos pp hace muchos años estamos sorprendidos: [0]\n",
            "\n",
            " xbos mentiras y cintas de video . la junta electoral ordena retirar el video del ministerio de trabajo . claro tk_rep 4 !: [1]\n",
            "\n",
            " xbos \" ¿ ha destruido el user_ref el futuro de una generación entera de slang_string españoles ? \" editorial 20.30 user_ref user_ref: [0]\n",
            "\n",
            " xbos algunas paradojas electorales . una victoria que decepciona y una derrota que trae alegría hyp_link hash_tag # t_up 25 m: [0]\n",
            "\n",
            " xbos la iglesia católica ofrece \" una vida apasionante \" y un \" trabajo fijo \" ( para toda la eternidad ) . hyp_link: [1]\n",
            "\n",
            " xbos blázquez rechaza a soraya s. de santamaría de pregonera de la semana santa por estar casada por lo civil . monseñor : qué pereza da usted .: [1]\n",
            "\n",
            " xbos muy recomendable la crónica política de user_ref sobre las decisiones del pasado viernes . hyp_link: [0]\n",
            "\n",
            " xbos “ @ t_up rosa_santander : user_ref int_string 7 t_up dias y te veremos en el escenario ! ! ! tu sitio ! ! t_up cuanto te lo t_up mereces t_up artista ” t_up gracias!;- ): [0]\n",
            "\n",
            " xbos muy de acuerdo con user_ref en su opinión sobre user_ref . no así sobre \" el arbol de la vida \" , risa_ja jaja .: [0]\n",
            "\n",
            " xbos el problema de slang_string los republicanos silentes es ver los que defienden la república . quién quiere que lo comparen con tira huevos a urdangarín ?: [1]\n",
            "\n",
            " xbos rt user_ref día para intentar la igualdad salarial de hombres y mujeres . hash_tag # stopdiscriminaciónsalarial: [0]\n",
            "\n",
            " xbos todo mi apoyo y mi cariño a luis aizpeolea , gran periodista y excelente persona: [0]\n",
            "\n",
            " xbos t_up pensamientos t_up para t_up nuevos t_up tiempos : gobernar es un arte … y sin mayoría un mérito polít ... hyp_link: [0]\n",
            "\n",
            " xbos lo que no explica montoro , y es lo fundamental , es qué autonomías han incumplido y por cuánto . y quién las gobierna .: [1]\n",
            "\n",
            " xbos y para user_ref : me la pido ! “ @emiliodrio : garzonitas podría ser una entrada del magistral diccionario de coll user_ref user_ref: [0]\n",
            "\n",
            " xbos ¿ por qué hoy sí hablan de \" excesos \" en valencia y ayer era una carga \" proporcionada \" ? # primaveraestudiantil: [1]\n",
            "\n",
            " xbos user_ref también han aprobado siete portavoces adjuntos y han ratificado a teófilo de luis como secretario técnico . besos: [0]\n",
            "\n",
            " xbos el tesoro de la mercedes no debe hacernos olvidar que en esa fragata murieron mas de int_string 300 marinos españoles a manos de los ingleses: [1]\n",
            "\n",
            " xbos corazón partío : españa e irlanda se enfrentarán en la eurocopa .: [1]\n",
            "\n",
            " xbos buenos días a todos , que tengáis un buen lunes y una estupenda semana :-): [0]\n",
            "\n",
            " xbos el estratega de sarkozy dice que ganará como \" el candidato de la europa de las fronteras \" ... lo que va a tener que destruirse para que gane .: [1]\n",
            "\n",
            " xbos igualmente ;-) ) rt user_ref user_ref user_ref un beso enorme y hash_tag # felicesfiestas :-)): [0]\n",
            "\n",
            " xbos bdías . hoy ha tocado madrugar . mi carta de mañana será provocadora . espero que os guste . ¿ qué os parece el primer presupuesto de rajoy ?: [0]\n",
            "\n",
            " xbos alemania aislada ante la ministerial t_up g20 sobre su resistencia para ampliar el fondo de rescate.spiegel hyp_link: [0]\n",
            "\n",
            " xbos mi abrazo y toda la fuerza para user_ref: [0]\n",
            "\n",
            " xbos curioso rt user_ref ¿ os venís de hash_tag # tweetpatrulla ? queremos celebrar el día de la mujer . int_string 2 mujeres de la policía tuitearán su trabajo: [0]\n",
            "\n",
            " xbos móvil off y a descansar un poquito ... si es posible ... : ) hasta luego !: [0]\n",
            "\n",
            " xbos “ @garciaaller : el país justifica así su articulo chacón y compañía del domingo pasado hyp_link mas bien entona el mea culpa: [1]\n",
            "\n",
            " xbos la viuda de steve jobs con mechelle obama en el \" estado de de la union \" del presidente obama.bello gesto: [0]\n",
            "\n",
            " xbos t_up cgpj examina hoy a int_string 7 magistrados candidatos a presidir sala de lo penal an.en la actualidad lo ocupa gómez bermúdez , q aspira a la reelección: [0]\n",
            "\n",
            " xbos user_ref user_ref a lo mejor las chorreadas las dicen otros con su falta de respeto a lo que piensan los demás: [0]\n",
            "\n",
            " xbos los políticos tienen difícil superar al alcalde de getafe , protagonista de un vídeo de adelgazamiento hyp_link: [1]\n",
            "\n",
            " xbos la parte en la que rechaza condenar por \" daño a la integridad moral \" ( callarse dónde está el cadáver ) me parece la más endeble .: [1]\n",
            "\n",
            " xbos hoy está saliendo mi nueva canción \" la señal \" , todo es alegría !: [0]\n",
            "\n",
            " xbos me parece muy injusto la sentencia del juicio de marta del castillo: [1]\n",
            "\n",
            " xbos rt user_ref user_ref me suena que john stuart mill defendía fuertes impuestos sucesorios y es un pensador clave del liberalismo .: [1]\n",
            "\n",
            " xbos . user_ref dice que la sociedad acepta más impuestos harta de mentiras hyp_link: [1]\n",
            "\n",
            " xbos gara p.10 : \" los presos provocan una expresión de cariño que desborda el relato oficial \" . adorables asesinos . euskadi , enfermedad moral .: [0]\n",
            "\n",
            " xbos viendo intervenciones psoeasamblea , mucho daño ha hecho la gran intervención de user_ref hash_tag # reformalaboral : hyp_link hash_tag # escuece: [0]\n",
            "\n",
            " xbos estoy con mi carta . a los más jóvenes os sorprenderá . trata de amores y barcos . ( hoy y mañana aun podéis haceros de orbyt por muy poco ): [0]\n",
            "\n",
            " xbos t_up última t_up hora : el tribunal supremo condena a garzón por las escuchas a los abogados de gurtel . inhabilitado durante int_string 11 años: [1]\n",
            "\n",
            " xbos hash_tag # presupuestos ha ido muy deprisa montoro , pero juraría que estamos ante una amnistía fiscal para los defraudadores que regularicen: [1]\n"
          ],
          "name": "stdout"
        },
        {
          "output_type": "stream",
          "text": [
            "\n",
            " xbos uy ! rt user_ref ante las medidas de rajoy , el hash_tag # t_up 25 m elige a alguien que te defienda , que no trague con todo . hyp_link: [0]\n",
            "\n",
            " xbos fijo que slang_string hay más ... “ @mmremiro : la juez cifra en int_string 887 las ayudas ' injustas ' para altos cargos del t_up psoe o de la junta hyp_link: [1]\n",
            "\n",
            " xbos mi calefacción se ha tomado en serio lo de hash_tag # twitterblackout y se niega a funcionar ... # siempreenfindesemana # siemprecuandollegalaoladefrio: [1]\n",
            "\n",
            " xbos soraya rodriguez , t_up psoe \" votaremos que sí a la reforma del sistema financiero porque queremos hacer oposición útil \" hash_tag # congreso: [0]\n",
            "\n",
            " xbos mañana pregunto al gobierno sobre la involucion laboral . fraude y expolio para expropiar las rentas salariales .: [1]\n",
            "\n",
            " xbos os pedimos vuestra confianza para un proyecto ilusionante que revolucionará andalucía y la convertirá en referencia en españa y europa .: [0]\n",
            "\n",
            " xbos es espectacular , tanto tiempo preparando cada detalle , y por fin lo podréis escuchar , ver y sentir ...: [0]\n",
            "\n",
            " xbos yo nunca he dicho eso “ @jorgealacid1 : user_ref user_ref pero no habíamos quedado en que fue t_up eta ? ”: [2]\n",
            "\n",
            " xbos el t. constitucional decidirá en pleno sobre nuestro recurso contra el trámite de urgencia del golpe de mercado a la constitución española: [1]\n",
            "\n",
            " xbos \" ¿ es gratis ir a los tribunales \" , se mofaba montoro de los que proponían el copago en la justicia hyp_link: [1]\n",
            "\n",
            " xbos “ @morabenavente : reflexión excelente . cómo tomar decisiones capitales en situaciones de incertidumbre unknown unknowns hyp_link: [0]\n",
            "\n",
            " xbos presenta la entrada en el euro como precedente . \" hacer bien lo que había que hacer en cada momento \" . primeros aplausos .: [0]\n",
            "\n",
            " xbos user_ref hash_tag # t_up propone : austeridad en la junta de andalucía con la supresión del 50 % de altos cargos de la admon . y del sector público: [1]\n",
            "\n",
            " xbos buenas noches , barrio tuiter . os dejo el retrato que slang_string me ha hecho mi hija . quizá no sea la única que slang_string me ve con esa cara :) hyp_link: [0]\n",
            "\n",
            " xbos lista para descargar en tu móvil o tableta la aplicación oficial de@giraldatv para la hash_tag # ssanta12 gratis!!tv de servicio pco para hash_tag # sevillahoy: [0]\n",
            "\n",
            " xbos os dejo una fotito de las botas nuevas , listas para mañana . hyp_link: [0]\n",
            "\n",
            " xbos recomiendo a los alumnos de comunicación de la user_ref seguir hash_tag # iredes van a aprender mucho ;): [0]\n",
            "\n",
            " xbos buenas noches a tod@s que soñeis como sueña el flamenco: [0]\n",
            "\n",
            " xbos leo por ahí hash_tag # t_up indulto a hash_tag # garzón pero ... por qué ? indulto ? que slang_string clase de país es este xd ! ? condenado por unanimidad y piden indulto ... alucino !: [1]\n",
            "\n",
            " xbos rueda de prensa con el user_ref para denunciar la vulneración de derechos fundamentales por parte del gobierno de iu hyp_link: [0]\n",
            "\n",
            " xbos indignado?“@ldelibertad:@isaacj abajo vuestro maravilloso r€gimen que condena a la miseria.no t_up nos t_up vais a t_up callar . t_up 11 m el t_up pueblo t_up toma la t_up calle: [0]\n",
            "\n",
            " xbos el tesoro vuelve a superar sus objetivos en la última subasta hyp_link: [0]\n",
            "\n",
            " xbos el gobierno de mariano rajoy ha desmentido \" tajantemente \" las sospechas de bruselas sobre las cifras oficiales del déficit público . ep: [1]\n",
            "\n",
            " xbos esta noche user_ref están fantásticos ! merkelclon es brutal ! hahahaha user_ref user_ref: [1]\n",
            "\n",
            " xbos mañana contaremos con la visita de cristobal montoro y miguel arias cañete en la provincia , ¡ cádiz es prioridad para el user_ref: [0]\n",
            "\n",
            " xbos conclusión del infantil speech de slang_string user_ref : esta sra . no tiene ni idea de cómo está españa , no se ha enterado todavía de slang_string la película: [1]\n",
            "\n",
            " xbos hoy tengo una cita que me hace mucha ilusión : esta tarde estaré con mi admirada user_ref ! ! os espero ! ! en user_ref en user_ref: [0]\n",
            "\n",
            " xbos amaiur se pone chulo en el congreso.os lo enseñamos en el user_ref 20:30: [1]\n",
            "\n",
            " xbos ¡ el papá de ivan y laura ! chaves acusa al pp de ' necesitar la mentira para ganar y para gobernar ' hyp_link vía user_ref: [1]\n",
            "\n",
            " xbos “ @beagarciachv : user_ref mi segundo apellido es camello ! tendré algo que ver con los reyes magos???”te doy mi carta y se la risa_ja das??jajja bss !: [0]\n",
            "\n",
            " xbos la propuesta de un solo regulador para todo puede salir cara . gobierno y poderes económicos esperan menos vigilancia hyp_link: [1]\n",
            "\n",
            " xbos banesto muestra el camino : menos beneficios , más provisiones.http : / / mun.do / wdrm8q: [0]\n",
            "\n",
            " xbos montoro \" la situación está para que la política ponga las luces largas para salir de la crísis \" hash_tag # congreso: [0]\n",
            "\n",
            " xbos sarkozy cuenta en directo en la tele a int_string 4 periodistas ( que le preguntan ) su subida de impuestos y otros recortes . igualito que rajoy: [1]\n",
            "\n",
            " xbos el tesoro avala a la banca para que slang_string vaya a la subasta del t_up bce compre dinero al 1 % y pueda comprar deuda al 4 % . quien paga ese 3 % ? bingo !: [1]\n",
            "\n",
            " xbos lo que os adelanté en exclusiva tuitera . fernando martín pierde la batalla legal con jove por la compra de fadesa hyp_link: [1]\n",
            "\n",
            " xbos para los amantes de hemeroteca . pp se opuso a reforma laboral , pero por responsabilidad no apoyó huelga general int_string 2010 hyp_link: [1]\n",
            "\n",
            " xbos sostengo , desde principio , que slang_string vivimos crisis de slang_string modelo y que slang_string analizarla con anteojos partidistas ( los mios buenos , los otros malos ) en un error .: [1]\n",
            "\n",
            " xbos risa_je jejeje esto que es ? ... no entiendo mucho pero os mando abrazos . rt user_ref user_ref user_ref int_string 31 days hash_tag # without nif: [0]\n",
            "\n",
            " xbos en estas fechas tan señaladas , apuntar con el dedo sigue estando muy feo . hash_tag # moumoumou: [0]\n",
            "\n",
            " xbos “ @mariotresemes : user_ref por dio tk_rep 10 s ! ! me encantaaa ! ! quiero toca tk_rep 7 r looo y risa_ja risa_jo espachurrarrl tk_rep 4 o ” jajjaja: [0]\n",
            "\n",
            " xbos glups tk_rep 4 ! rt user_ref el miedo es la nostalgia de lo que aún se tiene .: [1]\n",
            "\n",
            " xbos entre esta semana y la que viene seguro que anunciaremos la gira acústica de méxico . besos .: [0]\n",
            "\n",
            " xbos como miles con zapatos nuevos hyp_link: [0]\n",
            "\n",
            " xbos hash_tag # jueveslaico ya es trending topic . gracias .: [0]\n",
            "\n",
            " xbos a quien no le guste que no lo vea tk_rep 5 !: [1]\n",
            "\n",
            " xbos ;-) ) rt user_ref user_ref user_ref int_string 5 mujeres y int_string 4 hombres , me gusta ;): [0]\n",
            "\n",
            " xbos damasiado frío alonso ( t_up psoe ) en sus críticas al hash_tag # rajoynazo1 parece un técnico , no un político .: [1]\n",
            "\n",
            " xbos portada de ' público ' , jueves . bonificaciones a bancos por no desahuciar ; diccionario biográfico alternativo . hyp_link: [0]\n",
            "\n",
            " xbos lo de hash_tag # urdangarin . entre urdangas , garzones y carcaños así vamos . y la siguiente de hash_tag # garzon , por trincón.caro emilio hyp_link: [1]\n",
            "\n",
            " xbos veo que no se abre el link de la noticia del ayto de t_up bcn . vuelvo . hyp_link: [0]\n",
            "\n",
            " xbos buenos días ! ! ! ; ) maquillaje dsd las 7h ! ! con ilusión ! ! ! ; ) vamos ! ! ; ): [0]\n",
            "\n",
            " xbos me ha dicho un pajarito por aquí que user_ref es el jefe de campaña 2.0 de user_ref ; - tk_rep 4 ) equipazo ; - ) ) ): [0]\n",
            "\n",
            " xbos . user_ref : la película - youtube hyp_link hash_tag # griñanlapelicula nominada a los oscars: [0]\n",
            "\n",
            " xbos user_ref qué buena la foto de portada .: [0]\n",
            "\n",
            " xbos bienvenida , olga “ @chucreimi : user_ref ya me he suscrito espero que me llamen para recoger mi ipad ! ! estoy encantad tk_rep 19 a ”: [0]\n",
            "\n",
            " xbos y los etarras encarcelados no son unos pobres perseguidos por su pensamiento , son delincuentes que por fanatismo han hecho cosas terribles .: [1]\n",
            "\n",
            " xbos dios mío , es tan real que da miedo ... ¡ ánimo mamás trabajadora , nosotras podemos ! ! ! supermujeres hyp_link: [0]\n",
            "\n",
            " xbos user_ref será reelegido hoy presidente del pp hyp_link hash_tag # 17congresopp hash_tag # comprometidosconespaña: [0]\n",
            "\n",
            " xbos buenas noches t_up familia ! ! ! mañana a disfrutar del sábado ! : [0]\n",
            "\n",
            " xbos la constructora del diputado millonario , telmo martín , vendió viviendas t_up vpo con sobreprecio y fue sancionada hyp_link: [1]\n",
            "\n",
            " xbos gracias por todo ! me lo he pasado genial en user_ref ! ! ! ; - ): [0]\n",
            "\n",
            " xbos carta de los corresponsales en españa a user_ref para reclamar una mejor atención a los medios de comunicación hyp_link: [0]\n",
            "\n",
            " xbos sintonía total entre rajoy y zapatero , con importantes matices de rubalcaba . la recepción del día de la constitución hyp_link: [0]\n",
            "\n",
            " xbos hash_tag # feliz2012 ;-) tk_wrep 8 user_ref user_ref: [0]\n",
            "\n",
            " xbos metieron miedo a los agricultores con el t_up per , user_ref lo ha garantizado , int_string 215 millones de € destinados para el t_up per en andalucía .: [1]\n",
            "\n",
            " xbos suma y sigue del despilfarro andaluz . hoy os contamos el último capítulo . user_ref 20:30: [1]\n",
            "\n",
            " xbos la semana siguiente lo mismo en las asambleas comarcales . después el congreso federal . y así , con los cambios lógicos , desde hace int_string 132 t_up años: [0]\n",
            "\n",
            " xbos por cierto raúl es un crack y el athletic la leche: [1]\n",
            "\n",
            " xbos otra semifinal ! ! gracias afición por el apoyo ! ! hyp_link: [0]\n",
            "\n",
            " xbos google explica su política de contenidos , pero no la insuficiente defensa de sus usuarios y la ventaja de la acusación hyp_link: [1]\n",
            "\n",
            " xbos a las primeras int_string 500 solicitudes recibidas se les enviara una especie de \" entrada \" para acceder al \" evento \" . # merendolatuitera: [1]\n",
            "\n",
            " xbos planeta creativo : nuevo placer otra interesante jornada con vosotros . mañana pronto estoy con user_ref que sigue a int_string 6 puntos ... a2 .: [0]\n",
            "\n",
            " xbos salen hacia china los primeros coches seat de barcelona.seat pretende vender 3.500 coches en china 2012@la_ser hyp_link: [1]\n",
            "\n",
            " xbos caravana de hash_tag # elcambioandaluz user_ref user_ref user_ref marta y una servidora . conduce user_ref ;-) ) hyp_link: [0]\n",
            "\n",
            " xbos en mi opinión , el presupuesto no se puede recortar en inversión , sino en gasto corriente .: [1]\n",
            "\n",
            " xbos el t_up psoe sigue sin apooyar oficialmente las movidas sindicales , pero lo hace oficiosamernte . user_ref 20:30: [1]\n",
            "\n",
            " xbos hasta la estación medidora de casa de campo registró niveles de contaminación por encima de lo permitido el mes pasado . # boinamadrid: [1]\n",
            "\n",
            " xbos t_up gracias t_up gavà t_up por t_up vuestro t_up cariño ! ! hash_tag # yeswespainisdifferent ya es una realidad ! ! ! ; ) ) ): [0]\n",
            "\n",
            " xbos ¡ curioso ! ¿ se imaginan un concierto con efímeros instrumentos de hielo ? escuchen cómo suenan en este hash_tag # video hyp_link vía t_up bbc: [0]\n",
            "\n",
            " xbos alucino en colores . la t_up fape dice que publicar la foto del móvil de rubal fue \" éticamente reprobable \" . ¿ a quién sirven esos periodistas ?: [1]\n",
            "\n",
            " xbos gracias por slang_string los avisos sobre el virus en mi cuenta twitter ... y por las recomendaciones para neutralizarlo .. a algunos la gracia les chorrea: [0]\n",
            "\n",
            " xbos merkel , sarkozy y cameron coinciden : int_string 2012 será un año duro . user_ref 20:30: [1]\n",
            "\n",
            " xbos me han tenido que dar oxígeno pero ya estoy recuperado .: [0]\n",
            "\n",
            " xbos los jueces valencianos , a la cabeza en carga de trabajo ... hyp_link: [1]\n"
          ],
          "name": "stdout"
        },
        {
          "output_type": "stream",
          "text": [
            "\n",
            " xbos acusaban al pp de crispar y ahora escriben cosas así ... flipo . para sobrevivir hacen falta estos excesos ? hyp_link: [0]\n",
            "\n",
            " xbos ¡ lo mejor de mi timeline está disponible ! hyp_link ▸ historias del día por user_ref user_ref user_ref user_ref: [0]\n",
            "\n",
            " xbos “ @paquivicente : hola user_ref me haces un rt para encontrar el perro de user_ref en la foto está la info ! hyp_link: [0]\n",
            "\n",
            " xbos últimamenteaa rt user_ref user_ref últimamente dice usted unas cosas muy extrañas ...: [0]\n",
            "\n",
            " xbos la producción industrial subió en noviembre un 15,8 % respecto al mismo mes del año anterior ... la + alta de toda españa ...: [1]\n",
            "\n",
            " xbos oeoeoeoeoeoeoe user_ref oeoeoeoeoeoeoe user_ref y oeoeoeoeoeoeoe user_ref tk_rep 5 ! enhorabuena tk_rep 5 ! maquinas tk_rep 5 !: [0]\n",
            "\n",
            " xbos el pp defenderá en el senado la modificación de la ley de costas hyp_link user_ref hash_tag # elcambioandaluz: [0]\n",
            "\n",
            " xbos .@anabeldn ¿ violencia estructural ? qué barbaridad . ¿ sabe el ministro que no se obliga a abortar a nadie ?: [1]\n",
            "\n",
            " xbos he escuchado a rajoy decir que \" el mayor desprecio es no hacer aprecio \" y pensé que hablaba de fitch . pues no. es por contador y nadal . país: [1]\n",
            "\n",
            " xbos hyp_link en madrid int_string 5 t_up únicas semanas ! ! ! ; ): [0]\n",
            "\n",
            " xbos un espectador con nariz roja , en homenaje a aquellos días salvajes ... hyp_link: [0]\n",
            "\n",
            " xbos se conoce que la publi ahora no dura ná , no ?: [1]\n",
            "\n",
            " xbos en madrid , el presupuesto de formación y empleo ya se ha recortado un 20 % . no podemos permitir más tijeretazos hyp_link: [1]\n",
            "\n",
            " xbos me da penita quitarlo hyp_link: [0]\n",
            "\n",
            " xbos no entiendo esa falta.begic se ha equivocado , y el t_up rmd lo puede pasar mal al final: [1]\n",
            "\n",
            " xbos esto es precisamente lo que se pretendía evitar . ' la prima de riesgo continúa su escalada y alcanza los int_string 370 puntos ' hyp_link: [1]\n",
            "\n",
            " xbos acabo de presenciar la agresión de piquetes a ciudadanos que no quieren hacer huelga en gran vía . hash_tag # abajolospiquetes: [1]\n",
            "\n",
            " xbos torres - dulce marca la pauta rt user_ref el fiscal general pide que se investigue uno de los trenes del t_up 11 m hyp_link: [0]\n",
            "\n",
            " xbos el tormento de dunia hyp_link: [0]\n",
            "\n",
            " xbos como servicio público deja mucho que desear . según los ciudadanos es lenta , cara y poco comprensible .: [1]\n",
            "\n",
            " xbos desde el escaño . todo listo para empezar hash_tag # endiascomohoy en el congreso hyp_link: [0]\n",
            "\n",
            " xbos mi columna de slang_string mañana en user_ref : \" segundo asalto \" ... de las medidas antipáticas a las simpáticas . se acabó la juerga autonómica: [0]\n",
            "\n",
            " xbos buen sábado amigos ! ! ; ) las calles dvmadrid me están haciendo una perdida ... ; ) ) ): [0]\n",
            "\n",
            " xbos hash_tag # martesy13 bicicletas sin sillín pn ! ! ; ) y la monja feliz ! ! risa_ja jajjajajja: [0]\n",
            "\n",
            " xbos barça 0 - 1 valencia .: [0]\n",
            "\n",
            " xbos rajoy celebra su int_string 57 cumpleaños en seúl : \" cumplir años no es bueno , no cumplirlos es peor \" hyp_link: [0]\n",
            "\n",
            " xbos gracias a vosotros rt user_ref user_ref ¡ ¡ g r a c i a s ! ! por compartir sueños , ilusiones y tantas sonrisas , ¡ ¡ t_up feliz t_up año int_string 2012 ! !: [0]\n",
            "\n",
            " xbos camps inocente . ¿ ahora quien le restituye ? , ¿ qué hará mariano ? el juicio mediático se ha saltado la presunc inoc . user_ref 20:30: [1]\n",
            "\n",
            " xbos hash_tag # diccionariomujerespañol - jamas me enamoraría de un compañero de trabajo - el tío de enfrente me hace la hora coca - cola y me vuelvo loca: [0]\n",
            "\n",
            " xbos a las int_string 17 h , entrev . a jordi pujol y en el hash_tag # gabinete , la sentencia del yerno de los tous.¿para qué vale el jurado ?: [0]\n",
            "\n",
            " xbos occidente prefirió negocios y la apariencia de \" modernidad \" de siria a los derechos de los ciudadanos y ahora se refugia en la incapacidad .: [1]\n",
            "\n",
            " xbos he publicado int_string 22 fotos en facebook en el álbum \" encuentro con asociación de mujeres alegría de la huerta \" . hyp_link: [0]\n",
            "\n",
            " xbos mienten , meten miedo ... aquí están los genes del user_ref hash_tag # miedonogracias hyp_link: [1]\n",
            "\n",
            " xbos puedes cruzar montañas , océanos , superar tragedias , dificultades , responsabilidades , con solamente una cosa : confianza en ti mismo ( bhajan ): [1]\n",
            "\n",
            " xbos “ @upyd : \" hemos pillado al pp , sin buscarlo , en una tremenda contradicción y en una tremenda traición \" hyp_link sin buscarlo ?: [1]\n",
            "\n",
            " xbos ministro@jmsoria : ¿ de veras tendremos debate de hash_tag # renovables mañana sin presencia de un experto de su ministerio ?: [1]\n",
            "\n",
            " xbos .@marisadeybarra : \" no podemos permitir que se produzcan retrocesos en la conquista de la igualdad ” hyp_link: [0]\n",
            "\n",
            " xbos \" no refundemos la socialdemocracia cuando lo que ha fracasado es el sistema financiero , eso no significa que no tengamos que hacer ajustes \": [1]\n",
            "\n",
            " xbos “ @rius15 : no te olvides decir \" si os gusta el baloncesto , no ir a ver a los knicks \" hash_tag # consejosnyc ” o hacerlo en la suite 20 .: [2]\n",
            "\n",
            " xbos el mapa de los hash_tag # medios más influyentes hyp_link hash_tag # periodismo: [0]\n",
            "\n",
            " xbos mañana sería bueno que demostraramos todos que vivimos en un país donde se respetan los derechos . los de trabajar y los de hacer huelga .: [0]\n",
            "\n",
            " xbos apuntes sobre el gobierno : tanto papanatismo mediático con el poder omnímodo de rajoy para parir un ratón.mucho ruido y pocas nueces: [1]\n",
            "\n",
            " xbos otr tk_rep 4 o triple de llull . y maaate de ndong . ahí están las armas de uno y otro .: [1]\n",
            "\n",
            " xbos me encanta este restaurante ( @ restaurante portofino ) hyp_link: [0]\n",
            "\n",
            " xbos ayer griñán aseguró que el déficit estaría en el 1,4 % . ahora , parece que estará en torno al 3 % . la diferencia son muchos millones de euros: [1]\n",
            "\n",
            " xbos ¿ en qué se supone que ha cedido merkel en esta \" dura negociación \" ?: [1]\n",
            "\n",
            " xbos “ @martinbravo_a : el arzobispo de valladolid desmiente lo publicado y lamenta actitud de user_ref hyp_link cc : user_ref: [1]\n",
            "\n",
            " xbos hash_tag # andalucia necesita claridad en sus cuentas , transparencia y rigor . por eso es tan necesario hash_tag # elcambioandaluz: [1]\n",
            "\n",
            " xbos un juez denuncia \" hacinamiento \" en un centro para ' sin papeles ' hyp_link: [1]\n",
            "\n",
            " xbos hoy se levanta el secreto de sumario sobre el caso campeón . conoceremos los elementos para la imputación del ex ministro josé blanco .: [1]\n",
            "\n",
            " xbos los dos nombramientos de rajoy son de mano dura con guante de plata . a posada dará bien la talla , guiño a castilla y león .: [1]\n",
            "\n",
            " xbos comienza la comparecencia del ministro en la comisión de agricultura , pesca y medio ambiente .: [0]\n",
            "\n",
            " xbos zarrias en la nueva ejecutiva nacional del psoe tk_rep 4 . sin palabras: [0]\n",
            "\n",
            " xbos de guindos cifra en 4.000 millones el ajuste que aprobará este viernes el consejo de ministros / vía elmundo.es: [0]\n",
            "\n",
            " xbos ¿ chacón o rubalcaba ? nevada histórica en mallorca . vencer al cáncer . el día + cruel de slang_string la represión en siria . a las 15h en user_ref: [1]\n",
            "\n",
            " xbos ya puede consultar en la web la moncloa hyp_link el borrador del anteproyecto de ley de transparencia y hacer sus aportaciones: [1]\n",
            "\n",
            " xbos el fundador de slashdot se pasa al washpost rt user_ref why user_ref joined wapo “ journalism is bigger than print ” hyp_link: [0]\n",
            "\n",
            " xbos el tc no se renovara hasta junio . quizás para que slang_string de tiempo a legalizar sortu y anular la doctrina parot ?: [1]\n",
            "\n",
            " xbos fallece a los int_string 88 años la poetisa y premio nobel wislawa szymborska - público.es hyp_link: [0]\n",
            "\n",
            " xbos hash_tag # yeswespainisdifferent t_up bcna ! ! ! ; ) vamo tk_rep 5 s ! ! ! ; ): [0]\n",
            "\n",
            " xbos en la planta de hash_tag # opel en hash_tag # figueruelas sale de la línea de montaje la unidad número once millones: [0]\n",
            "\n",
            " xbos caballeros : vamos a rodar con user_ref y user_ref tk_rep 4 . todo por la risa tk_rep 4 .: [0]\n",
            "\n",
            " xbos paz , amor y esperanza . mujeres y hombres y telemadrid .: [0]\n",
            "\n",
            " xbos este es el homenaje de la t_up apm a nuestro socio mingote que hoy nos ha dejado hyp_link: [0]\n",
            "\n",
            " xbos más tk_rep 4 . el t_up psoe de cádiz , implicado en una trama de subvenciones hyp_link: [1]\n",
            "\n",
            " xbos camino de lobón ... empieza a funcionar la primera planta autorizada de residuos eléctricos y electrónicos de la región ...: [0]\n",
            "\n",
            " xbos asi es rt user_ref user_ref osea que encima user_ref no es ni el mismo el que twittea ? ? hasta en eso engañan ! ! hash_tag # ayseñor: [1]\n",
            "\n",
            " xbos sigue la polémica sobre el escenario de la final de copa ¿ debería celebrarse en el bernabéu ?: [1]\n",
            "\n",
            " xbos percival fue uno de los que ayer difundió las mentiras contra ladislao martínez . aún no ha recitificado hyp_link: [1]\n",
            "\n",
            " xbos me confirma user_ref que la gala se firmó aún mandando el psoe . pues de saberse hubieran perdido aún por más .: [1]\n",
            "\n",
            " xbos quien avisa no es traidor : quedan sólo int_string 10 funciones en madrid de slang_string hash_tag # yeswespainisdifferent y t lo vas a perderaa ? te espero ! ; ): [0]\n",
            "\n",
            " xbos user_ref a mí me da bien .: [0]\n",
            "\n",
            " xbos nivelazo de sarko poniendo a españa y grecia en el mismo saco ! !: [1]\n",
            "\n",
            " xbos otro passing escalofriante sobre la linea pone a nadal int_string 5 a int_string 1 en el tercero.la ensaladera , mas cerca . # vamosrafa hash_tag # copadavis ole user_ref: [1]\n",
            "\n",
            " xbos user_ref mu raruno , amiguete ... t lo digo yo que slang_string estuve estudiándolo y casi me da algo ! ! ; ) spacey increible , verdad ! ! con cuelgue y tó !: [0]\n",
            "\n",
            " xbos total , que los vándalos y el vandalismo han tomado la calle . vale .: [1]\n",
            "\n",
            " xbos rajoy recupera el tercer curso de bachillerato . importante iniciativa .: [0]\n",
            "\n",
            " xbos \" @mktfan : una aplicación permite añadir “ enemigos ” a facebook hyp_link ok , pero cuál es el máximo ?: [0]\n",
            "\n",
            " xbos la subida de impuestos anunciada por el gobierno pretende recaudar unos 6.100 millones de euros durante el año que viene: [1]\n",
            "\n",
            " xbos se ha hecho el remolón ... pero ha llegado y hasta suena bien : viernes int_string 23 de diciembre!hoy último programa de este int_string 2011 de hash_tag # losdesayunosdetve: [0]\n",
            "\n",
            " xbos no pudimos aprovechar el gol inicial y ellos sacaron provecho en el segundo tiempo del jugador de más .: [0]\n",
            "\n",
            " xbos ya está bien de presionar al madrid con la final de la copa . su afición ha hablado y lo ha dejado meridiano . hash_tag # enelbernabeuno . ya t_up está t_up bien: [0]\n",
            "\n",
            " xbos hoy en user_ref la historia de esos jóvenes que se independizaron y a los que la crisis ha obligado a volver a casa: [1]\n",
            "\n",
            " xbos garcía de la concha dirigirá el instituto cervantes . un tanto deslucido tras el fiasco de vargas llosa . aún así , merecido .: [0]\n",
            "\n",
            " xbos de modo que slang_string user_ref entra a presidir la junta de andalucia tras la marcha de chaves y todos calladitos ... y ahora a freír a ana botella ...: [1]\n",
            "\n",
            " xbos rajoy : \" quiero y necesito que el dialogo sea la principal característica del estilo del nuevo gobierno \": [0]\n",
            "\n",
            " xbos por último : miranda intentó hacer ver que la cifra final de déficit dependía de una decisión política del pp . mentira . que se vaya ya .: [1]\n"
          ],
          "name": "stdout"
        },
        {
          "output_type": "stream",
          "text": [
            "\n",
            " xbos puse incluso la portada ! ! \" para que slang_string sirve hoy la política . una democracia para escépticos \" rt user_ref user_ref el titulo ?: [0]\n",
            "\n",
            " xbos segun el cis el int_string 40 por ciento de los españoles tiene buena imagen del gobierno rajoy frente a un 33,8 que la tiene mala .: [0]\n",
            "\n",
            " xbos “ @policebluetour : buenas noches a tod@s :-) hash_tag # ff a los más de 334.000 fans de user_ref t_up uno ! ! !: [0]\n",
            "\n",
            " xbos que vergüenza tk_rep 4 . el user_ref llama puteroal ex alto cargo del fondo de reptiles hash_tag # eres vhttp : / / bit.ly / zfkvq0: [1]\n",
            "\n",
            " xbos wow ! rt user_ref no lo he soñado : hyp_link ha conseguido int_string 15000 nuevos donantes de slang_string órganos . user_ref user_ref: [0]\n",
            "\n",
            " xbos gracias bcna ! ! ; ) seguimos disfrutando y mejorando este nuevo hash_tag # yeswespainisdifferent ! ! ; ): [0]\n",
            "\n",
            " xbos hash_tag # quemiedo como nos \" rescaten \": [1]\n",
            "\n",
            " xbos “ @crisdejuan : una pregunta ... rubalcaba y chacón ... se caerán bien ? ” ella sí , se ha caído , bien: [0]\n",
            "\n",
            " xbos buenos dias . lagarde ( t_up fmi ) avisa de que grecia puede quebrar y salir del euro ... la amenaza ya se conoce pero la receta para evitarlo ?: [1]\n",
            "\n",
            " xbos mi nueva cancion de slang_string t_up brava hash_tag # mevoy con user_ref ya a la venta en user_ref hyp_link: [0]\n",
            "\n",
            " xbos no basta con encomendarse al santoral o bailar la danza de la lluvia para frenar la hash_tag # boinamadrid: [1]\n",
            "\n",
            " xbos ¡ ¡ ¡ t_up felicidades ! ! ! rt user_ref hoy felicitamos a l@s madridistas de todo el mundo porque gracias a vosotr@s cumplimos hash_tag # 110añosdeleyenda: [0]\n",
            "\n",
            " xbos les preocupa la seguridad jurídica y las tasas pero nada la social - laboral y los expedientes en la crisis .: [1]\n",
            "\n",
            " xbos “ @eclipsefans333 : user_ref felices reyes para la pekña daniela ” t_up gracias!!!;- ): [0]\n",
            "\n",
            " xbos público lleva seis ruedas de prensa consecutivas del consejo de ministros sin poder preguntar .: [1]\n",
            "\n",
            " xbos os mando mucho cariño .. a mis español@s . rt user_ref user_ref hoy muchas de nosotras ( cont ) hyp_link: [0]\n",
            "\n",
            " xbos hoy me apetece estar tranquilo , pasar desapercibido ... voy a darme una vueltecilla por la cabalgata de reyes: [0]\n",
            "\n",
            " xbos me parece una persona decente.parlmentario muchos años conmigo.se le respeta en el p.e .: [1]\n",
            "\n",
            " xbos ¡ tu no tienes aun orbyt ! menudo fallo “ @carlosgtome : user_ref qué coñazo , un día sin em . pedro , otro de geranium ! ! cheers . ”: [1]\n",
            "\n",
            " xbos embarcando que es gerundio ! y es martes y además 13 ! ! llamadme valiente tk_rep 4 ! destino barcelona ! ! !: [0]\n",
            "\n",
            " xbos “ @ahikade : user_ref su abuelo si la risa_ja queria ... jajaja lo que pasa esk era un poco solitario ... ” t_up jajajajaja: [0]\n",
            "\n",
            " xbos celebracion y dificultades en la zona euro@nytimes hyp_link: [1]\n",
            "\n",
            " xbos constatado que gallardón no tiene ni idea de mujeres , me pregunto si sabrá algo de justicia ... porque él es ministro de justicia , no ?: [1]\n",
            "\n",
            " xbos en rep . dom escuchando anthony sánchez ! fiesta ! hyp_link: [0]\n",
            "\n",
            " xbos int_string 2 minutos de aplausos al rey . user_ref no aplaudió user_ref poco r. díez menos y user_ref los vio como \" una farsa \" https : / / t.co / j33e1mxr: [0]\n",
            "\n",
            " xbos entre 25.000 y 35.000 personas se han manifestado hoy en madrid convocados por los sindicatos , según cálculos policiales .: [1]\n",
            "\n",
            " xbos hash_tag # t_up cis . rubalcaba : \" creo que es la primera vez en la democracia que un gobierno baja en su primera encuesta \": [0]\n",
            "\n",
            " xbos la violencia estructural sobre las mujeres es la desigualdad social y laboral junto al machismo ideológico , religioso y cultural .: [1]\n",
            "\n",
            " xbos “ @pedro_jose7 el semanal digital es de lo mejor que hay en la red para mantenerse bien informado . felicidades . ” muchas gracias tk_rep 4 !: [0]\n",
            "\n",
            " xbos ¿ van a blanquear esta memoria ? cid : t_up e5ed79ff- t_up 7f23- t_up 413c- t_up abd3- t_up fb75b1e524a1 / matas%2520&&%2520cia.png: [0]\n",
            "\n",
            " xbos un largo sueño de ciudad : hyp_link: [0]\n",
            "\n",
            " xbos el roto : lo tenéis ? t_up brutal . el mejor desde hace años hyp_link: [1]\n",
            "\n",
            " xbos dejarse ayudar es una muestra de grandeza hyp_link hash_tag # asturias: [0]\n",
            "\n",
            " xbos las ' facturas sombra ' llegan también a las aulas públicas hyp_link: [1]\n"
          ],
          "name": "stdout"
        }
      ]
    },
    {
      "metadata": {
        "id": "pm5dvUuiVDjf",
        "colab_type": "code",
        "colab": {}
      },
      "cell_type": "code",
      "source": [
        "preds = np.asarray(results)"
      ],
      "execution_count": 0,
      "outputs": []
    },
    {
      "metadata": {
        "id": "tY3GokSoVDjh",
        "colab_type": "code",
        "colab": {},
        "outputId": "c4b07f76-fbac-4a0c-dcf7-38589af7ca17"
      },
      "cell_type": "code",
      "source": [
        "from sklearn.metrics import *\n",
        "# f1 score for all three classes\n",
        "f1_score(tst_labels, preds, average='macro')"
      ],
      "execution_count": 0,
      "outputs": [
        {
          "output_type": "execute_result",
          "data": {
            "text/plain": [
              "0.5701363145062416"
            ]
          },
          "metadata": {
            "tags": []
          },
          "execution_count": 241
        }
      ]
    },
    {
      "metadata": {
        "id": "UdD9SfUkVDjm",
        "colab_type": "text"
      },
      "cell_type": "markdown",
      "source": [
        "SOTA is: 0.562. Source: http://ceur-ws.org/Vol-1896/p0_overview_tass2017.pdf"
      ]
    }
  ]
}