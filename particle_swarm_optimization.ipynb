{
  "nbformat": 4,
  "nbformat_minor": 0,
  "metadata": {
    "colab": {
      "name": "particle swarm optimization.ipynb",
      "version": "0.3.2",
      "provenance": [],
      "include_colab_link": true
    },
    "kernelspec": {
      "name": "python2",
      "display_name": "Python 2"
    },
    "accelerator": "GPU"
  },
  "cells": [
    {
      "cell_type": "markdown",
      "metadata": {
        "id": "view-in-github",
        "colab_type": "text"
      },
      "source": [
        "[View in Colaboratory](https://colab.research.google.com/github/danielcanueto/misc/blob/master/particle_swarm_optimization.ipynb)"
      ]
    },
    {
      "metadata": {
        "id": "j5VO1056DaW8",
        "colab_type": "code",
        "colab": {
          "base_uri": "https://localhost:8080/",
          "height": 683
        },
        "outputId": "12735405-0dc1-4a73-da9a-488024d8d907"
      },
      "cell_type": "code",
      "source": [
        "!pip install pyswarms\n"
      ],
      "execution_count": 5,
      "outputs": [
        {
          "output_type": "stream",
          "text": [
            "Collecting pyswarms\n",
            "\u001b[?25l  Downloading https://files.pythonhosted.org/packages/f0/38/07a472a2aac09dd27c9a502f47da658247755f9d80e34112e9d4f157d380/pyswarms-0.2.1-py2.py3-none-any.whl (66kB)\n",
            "\u001b[K    100% |████████████████████████████████| 71kB 6.2MB/s \n",
            "\u001b[?25hRequirement already satisfied: mock==2.0.0 in /usr/local/lib/python2.7/dist-packages (from pyswarms) (2.0.0)\n",
            "Requirement already satisfied: scipy>=0.17.0 in /usr/local/lib/python2.7/dist-packages (from pyswarms) (0.19.1)\n",
            "Collecting pytest==3.2.1 (from pyswarms)\n",
            "\u001b[?25l  Downloading https://files.pythonhosted.org/packages/e0/1e/d52c6a3a143935410ee33320341ea7bbb770ca8fe89c3d51e18254e0a2ba/pytest-3.2.1-py2.py3-none-any.whl (186kB)\n",
            "\u001b[K    100% |████████████████████████████████| 194kB 24.2MB/s \n",
            "\u001b[?25hCollecting PyYAML==3.12 (from pyswarms)\n",
            "\u001b[?25l  Downloading https://files.pythonhosted.org/packages/4a/85/db5a2df477072b2902b0eb892feb37d88ac635d36245a72a6a69b23b383a/PyYAML-3.12.tar.gz (253kB)\n",
            "\u001b[K    100% |████████████████████████████████| 256kB 27.6MB/s \n",
            "\u001b[?25hRequirement already satisfied: matplotlib>=1.3.1 in /usr/local/lib/python2.7/dist-packages (from pyswarms) (2.1.2)\n",
            "Collecting attrs==18.1.0 (from pyswarms)\n",
            "  Downloading https://files.pythonhosted.org/packages/41/59/cedf87e91ed541be7957c501a92102f9cc6363c623a7666d69d51c78ac5b/attrs-18.1.0-py2.py3-none-any.whl\n",
            "Requirement already satisfied: future==0.16.0 in /usr/local/lib/python2.7/dist-packages (from pyswarms) (0.16.0)\n",
            "Requirement already satisfied: numpy>=1.13.0 in /usr/local/lib/python2.7/dist-packages (from pyswarms) (1.14.5)\n",
            "Requirement already satisfied: funcsigs>=1; python_version < \"3.3\" in /usr/local/lib/python2.7/dist-packages (from mock==2.0.0->pyswarms) (1.0.2)\n",
            "Requirement already satisfied: six>=1.9 in /usr/local/lib/python2.7/dist-packages (from mock==2.0.0->pyswarms) (1.11.0)\n",
            "Requirement already satisfied: pbr>=0.11 in /usr/local/lib/python2.7/dist-packages (from mock==2.0.0->pyswarms) (4.1.0)\n",
            "Collecting py>=1.4.33 (from pytest==3.2.1->pyswarms)\n",
            "\u001b[?25l  Downloading https://files.pythonhosted.org/packages/f3/bd/83369ff2dee18f22f27d16b78dd651e8939825af5f8b0b83c38729069962/py-1.5.4-py2.py3-none-any.whl (83kB)\n",
            "\u001b[K    100% |████████████████████████████████| 92kB 26.6MB/s \n",
            "\u001b[?25hRequirement already satisfied: setuptools in /usr/local/lib/python2.7/dist-packages (from pytest==3.2.1->pyswarms) (39.1.0)\n",
            "Requirement already satisfied: cycler>=0.10 in /usr/local/lib/python2.7/dist-packages (from matplotlib>=1.3.1->pyswarms) (0.10.0)\n",
            "Requirement already satisfied: backports.functools-lru-cache in /usr/local/lib/python2.7/dist-packages (from matplotlib>=1.3.1->pyswarms) (1.5)\n",
            "Requirement already satisfied: subprocess32 in /usr/local/lib/python2.7/dist-packages (from matplotlib>=1.3.1->pyswarms) (3.5.2)\n",
            "Requirement already satisfied: pytz in /usr/local/lib/python2.7/dist-packages (from matplotlib>=1.3.1->pyswarms) (2018.5)\n",
            "Requirement already satisfied: python-dateutil>=2.1 in /usr/local/lib/python2.7/dist-packages (from matplotlib>=1.3.1->pyswarms) (2.5.3)\n",
            "Requirement already satisfied: pyparsing!=2.0.4,!=2.1.2,!=2.1.6,>=2.0.1 in /usr/local/lib/python2.7/dist-packages (from matplotlib>=1.3.1->pyswarms) (2.2.0)\n",
            "Building wheels for collected packages: PyYAML\n",
            "  Running setup.py bdist_wheel for PyYAML ... \u001b[?25l-\b \b\\\b \bdone\n",
            "\u001b[?25h  Stored in directory: /content/.cache/pip/wheels/03/05/65/bdc14f2c6e09e82ae3e0f13d021e1b6b2481437ea2f207df3f\n",
            "Successfully built PyYAML\n",
            "Installing collected packages: py, pytest, PyYAML, attrs, pyswarms\n",
            "  Found existing installation: PyYAML 3.13\n",
            "    Uninstalling PyYAML-3.13:\n",
            "      Successfully uninstalled PyYAML-3.13\n",
            "Successfully installed PyYAML-3.12 attrs-18.1.0 py-1.5.4 pyswarms-0.2.1 pytest-3.2.1\n"
          ],
          "name": "stdout"
        }
      ]
    },
    {
      "metadata": {
        "id": "MlGEMDw0A13Q",
        "colab_type": "code",
        "colab": {}
      },
      "cell_type": "code",
      "source": [
        "\n",
        "import numpy as np\n",
        "\n",
        "from time import time\n",
        "from scipy.stats import randint as sp_randint\n",
        "\n",
        "from sklearn.model_selection import GridSearchCV\n",
        "from sklearn.model_selection import RandomizedSearchCV\n",
        "from sklearn.datasets import load_digits\n",
        "from sklearn.ensemble import RandomForestClassifier\n",
        "\n",
        "import pyswarms as ps"
      ],
      "execution_count": 0,
      "outputs": []
    },
    {
      "metadata": {
        "id": "4MxLfRS4WwqG",
        "colab_type": "code",
        "colab": {}
      },
      "cell_type": "code",
      "source": [
        "from sklearn.ensemble import RandomForestClassifier\n",
        "from sklearn.datasets import make_classification\n",
        "\n",
        "# get some data\n",
        "digits = load_digits()\n",
        "X, y = digits.data, digits.target\n"
      ],
      "execution_count": 0,
      "outputs": []
    },
    {
      "metadata": {
        "id": "HCK1veFVAbCz",
        "colab_type": "code",
        "colab": {}
      },
      "cell_type": "code",
      "source": [
        "# function we are attempting to optimize (minimize)\n",
        "def func1(x):\n",
        "    \n",
        "    if int(x[0])>5:\n",
        "      dummy=None\n",
        "    else:\n",
        "      dummy=int(x[0])\n",
        "    \n",
        "    if int(x[5])>0.5:\n",
        "      dummy2='gini'\n",
        "    else:\n",
        "      dummy2='entropy'\n",
        "      \n",
        "    clf = RandomForestClassifier(n_estimators=20,max_depth=dummy,max_features=int(x[1]),min_samples_split=int(x[2]),\n",
        "                            min_samples_leaf=int(x[3]),bootstrap=int(x[4]),criterion=dummy2)\n",
        "    total=-np.mean(cross_validation.cross_val_score(clf, X, y))\n",
        "    return total\n",
        "  \n",
        "def f(x):\n",
        "    n_particles = x.shape[0]\n",
        "    j = [func1(x[i]) for i in range(n_particles)]\n",
        "    return np.array(j)"
      ],
      "execution_count": 0,
      "outputs": []
    },
    {
      "metadata": {
        "id": "pDCEYNiAC2gS",
        "colab_type": "code",
        "colab": {}
      },
      "cell_type": "code",
      "source": [
        "bounds=(np.array([1,1,2,1,0,0]),np.array([10,11,11,11,1,1]))"
      ],
      "execution_count": 0,
      "outputs": []
    },
    {
      "metadata": {
        "id": "hUvJFN43Cvo1",
        "colab_type": "code",
        "colab": {
          "base_uri": "https://localhost:8080/",
          "height": 204
        },
        "outputId": "21148b70-2ce8-4425-aec5-5ec1fa8f35a9"
      },
      "cell_type": "code",
      "source": [
        "# Initialize swarm\n",
        "options = {'c1': 0.5, 'c2': 0.3, 'w':0.9}\n",
        "\n",
        "# Call instance of PSO with bounds argument\n",
        "optimizer = ps.single.GlobalBestPSO(n_particles=10, dimensions=6, options=options, bounds=bounds)\n",
        "# Perform optimization\n",
        "cost, pos = optimizer.optimize(f, iters=30,print_step=5,verbose=3)\n",
        "\n",
        "\n",
        "\n"
      ],
      "execution_count": 71,
      "outputs": [
        {
          "output_type": "stream",
          "text": [
            "INFO:pyswarms.single.global_best:Iteration 1/30, cost: -0.9332095760692222\n",
            "INFO:pyswarms.single.global_best:Iteration 6/30, cost: -0.9337494759047589\n",
            "INFO:pyswarms.single.global_best:Iteration 11/30, cost: -0.9387857223694774\n",
            "INFO:pyswarms.single.global_best:Iteration 16/30, cost: -0.9387857223694774\n",
            "INFO:pyswarms.single.global_best:Iteration 21/30, cost: -0.9393450344036397\n",
            "INFO:pyswarms.single.global_best:Iteration 26/30, cost: -0.9393450344036397\n",
            "INFO:pyswarms.single.global_best:================================\n",
            "Optimization finished!\n",
            "Final cost: -0.9393\n",
            "Best value: [ 7.202880 7.455621 2.292993 ...]\n",
            "\n"
          ],
          "name": "stderr"
        }
      ]
    },
    {
      "metadata": {
        "id": "PiWR_kUUOe7t",
        "colab_type": "code",
        "colab": {
          "base_uri": "https://localhost:8080/",
          "height": 241
        },
        "outputId": "23c328ea-475c-4def-b5e7-daf2611c5853"
      },
      "cell_type": "code",
      "source": [
        "# build a classifier\n",
        "clf = RandomForestClassifier(n_estimators=20)\n",
        "\n",
        "# specify parameters and distributions to sample from\n",
        "param_dist = {\"max_depth\": [3, None],\n",
        "              \"max_features\": sp_randint(1, 11),\n",
        "              \"min_samples_split\": sp_randint(2, 11),\n",
        "              \"min_samples_leaf\": sp_randint(1, 11),\n",
        "              \"bootstrap\": [True, False],\n",
        "              \"criterion\": [\"gini\", \"entropy\"]}\n",
        "\n",
        "# run randomized search\n",
        "n_iter_search = 20\n",
        "random_search = RandomizedSearchCV(clf, param_distributions=param_dist,\n",
        "                                   n_iter=n_iter_search)\n",
        "\n",
        "start = time()\n",
        "random_search.fit(X, y)\n"
      ],
      "execution_count": 73,
      "outputs": [
        {
          "output_type": "execute_result",
          "data": {
            "text/plain": [
              "RandomizedSearchCV(cv=None, error_score='raise',\n",
              "          estimator=RandomForestClassifier(bootstrap=True, class_weight=None, criterion='gini',\n",
              "            max_depth=None, max_features='auto', max_leaf_nodes=None,\n",
              "            min_impurity_decrease=0.0, min_impurity_split=None,\n",
              "            min_samples_leaf=1, min_samples_split=2,\n",
              "            min_weight_fraction_leaf=0.0, n_estimators=20, n_jobs=1,\n",
              "            oob_score=False, random_state=None, verbose=0,\n",
              "            warm_start=False),\n",
              "          fit_params=None, iid=True, n_iter=20, n_jobs=1,\n",
              "          param_distributions={'bootstrap': [True, False], 'min_samples_leaf': <scipy.stats._distn_infrastructure.rv_frozen object at 0x7fe586eef090>, 'min_samples_split': <scipy.stats._distn_infrastructure.rv_frozen object at 0x7fe586eefad0>, 'criterion': ['gini', 'entropy'], 'max_features': <scipy.stats._distn_infrastructure.rv_frozen object at 0x7fe586eef390>, 'max_depth': [3, None]},\n",
              "          pre_dispatch='2*n_jobs', random_state=None, refit=True,\n",
              "          return_train_score='warn', scoring=None, verbose=0)"
            ]
          },
          "metadata": {
            "tags": []
          },
          "execution_count": 73
        }
      ]
    },
    {
      "metadata": {
        "id": "5pq2bpdrOiB8",
        "colab_type": "code",
        "colab": {
          "base_uri": "https://localhost:8080/",
          "height": 241
        },
        "outputId": "e10436f0-199e-4bca-da17-7224a936e04d"
      },
      "cell_type": "code",
      "source": [
        "# use a full grid over all parameters\n",
        "param_grid = {\"max_depth\": [3, None],\n",
        "              \"max_features\": [1, 3, 10],\n",
        "              \"min_samples_split\": [2, 3, 10],\n",
        "              \"min_samples_leaf\": [1, 3, 10],\n",
        "              \"bootstrap\": [True, False],\n",
        "              \"criterion\": [\"gini\", \"entropy\"]}\n",
        "\n",
        "# run grid search\n",
        "grid_search = GridSearchCV(clf, param_grid=param_grid)\n",
        "start = time()\n",
        "grid_search.fit(X, y)"
      ],
      "execution_count": 74,
      "outputs": [
        {
          "output_type": "execute_result",
          "data": {
            "text/plain": [
              "GridSearchCV(cv=None, error_score='raise',\n",
              "       estimator=RandomForestClassifier(bootstrap=True, class_weight=None, criterion='gini',\n",
              "            max_depth=None, max_features='auto', max_leaf_nodes=None,\n",
              "            min_impurity_decrease=0.0, min_impurity_split=None,\n",
              "            min_samples_leaf=1, min_samples_split=2,\n",
              "            min_weight_fraction_leaf=0.0, n_estimators=20, n_jobs=1,\n",
              "            oob_score=False, random_state=None, verbose=0,\n",
              "            warm_start=False),\n",
              "       fit_params=None, iid=True, n_jobs=1,\n",
              "       param_grid={'bootstrap': [True, False], 'min_samples_leaf': [1, 3, 10], 'min_samples_split': [2, 3, 10], 'criterion': ['gini', 'entropy'], 'max_features': [1, 3, 10], 'max_depth': [3, None]},\n",
              "       pre_dispatch='2*n_jobs', refit=True, return_train_score='warn',\n",
              "       scoring=None, verbose=0)"
            ]
          },
          "metadata": {
            "tags": []
          },
          "execution_count": 74
        }
      ]
    },
    {
      "metadata": {
        "id": "ywLjhZ64cRpV",
        "colab_type": "code",
        "colab": {
          "base_uri": "https://localhost:8080/",
          "height": 51
        },
        "outputId": "ce6253da-86db-40c3-842b-7118101ff259"
      },
      "cell_type": "code",
      "source": [
        "pos"
      ],
      "execution_count": 77,
      "outputs": [
        {
          "output_type": "execute_result",
          "data": {
            "text/plain": [
              "array([7.20287957, 7.45562139, 2.2929928 , 2.12709407, 0.99154414,\n",
              "       0.62732981])"
            ]
          },
          "metadata": {
            "tags": []
          },
          "execution_count": 77
        }
      ]
    },
    {
      "metadata": {
        "id": "cfsuk8JUPXw8",
        "colab_type": "code",
        "colab": {
          "base_uri": "https://localhost:8080/",
          "height": 51
        },
        "outputId": "ccd833ab-203a-433c-df97-f563402dad34"
      },
      "cell_type": "code",
      "source": [
        "clf = RandomForestClassifier(n_estimators=20,max_depth=None,max_features=7,min_samples_split=2,\n",
        "                            min_samples_leaf=2,bootstrap=1,criterion=\"gini\")\n",
        "results=cross_validation.cross_val_score(clf, X, y,cv=20)\n",
        "print('mean ' + str(np.mean(results)))\n",
        "print('sd ' + str(np.std(results)))"
      ],
      "execution_count": 78,
      "outputs": [
        {
          "output_type": "stream",
          "text": [
            "mean 0.9483097999398771\n",
            "sd 0.0351409050681803\n"
          ],
          "name": "stdout"
        }
      ]
    },
    {
      "metadata": {
        "id": "HSyRypCZXc3b",
        "colab_type": "code",
        "colab": {
          "base_uri": "https://localhost:8080/",
          "height": 119
        },
        "outputId": "81ffc645-6622-42bc-f1b3-1893731869b4"
      },
      "cell_type": "code",
      "source": [
        "grid_search.best_params_"
      ],
      "execution_count": 76,
      "outputs": [
        {
          "output_type": "execute_result",
          "data": {
            "text/plain": [
              "{'bootstrap': False,\n",
              " 'criterion': 'gini',\n",
              " 'max_depth': None,\n",
              " 'max_features': 10,\n",
              " 'min_samples_leaf': 1,\n",
              " 'min_samples_split': 3}"
            ]
          },
          "metadata": {
            "tags": []
          },
          "execution_count": 76
        }
      ]
    },
    {
      "metadata": {
        "id": "xZE2cdLcWPUp",
        "colab_type": "code",
        "colab": {
          "base_uri": "https://localhost:8080/",
          "height": 51
        },
        "outputId": "ab093972-8c41-43fe-e938-a6eeb88411be"
      },
      "cell_type": "code",
      "source": [
        "clf = RandomForestClassifier(n_estimators=20,max_depth=None,max_features=10,min_samples_split=3,\n",
        "                            min_samples_leaf=1,bootstrap=False,criterion=\"gini\")\n",
        "results_2=cross_validation.cross_val_score(clf, X, y,cv=20)\n",
        "print('mean ' + str(np.mean(results_2)))\n",
        "print('sd ' + str(np.std(results_2)))"
      ],
      "execution_count": 79,
      "outputs": [
        {
          "output_type": "stream",
          "text": [
            "mean 0.9661581303704277\n",
            "sd 0.02483466552729989\n"
          ],
          "name": "stdout"
        }
      ]
    }
  ]
}